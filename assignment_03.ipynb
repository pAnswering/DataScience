{
 "cells": [
  {
   "cell_type": "markdown",
   "metadata": {},
   "source": [
    "## Assignment. 산악지형 기상 정보 대비 Burned Area에 대한 EDA및 Regression을 활용한 예측"
   ]
  },
  {
   "cell_type": "markdown",
   "metadata": {},
   "source": [
    "- 데이터 집합 소스\n",
    "    - 설명: https://archive.ics.uci.edu/ml/datasets/Forest+Fires\n",
    "        - Features\n",
    "               - 1: X - x-axis spatial coordinate within the Montesinho park map: 1 to 9\n",
    "               - 2: Y - y-axis spatial coordinate within the Montesinho park map: 2 to 9\n",
    "               - 3: month - month of the year: 'jan' to 'dec'\n",
    "               - 4: day - day of the week: 'mon' to 'sun'\n",
    "               - 5: FFMC - FFMC index from the FWI system: 18.7 to 96.20\n",
    "               - 6: DMC - DMC index from the FWI system: 1.1 to 291.3\n",
    "               - 7: DC - DC index from the FWI system: 7.9 to 860.6\n",
    "               - 8: ISI - ISI index from the FWI system: 0.0 to 56.10\n",
    "               - 9: temp - temperature in Celsius degrees: 2.2 to 33.30\n",
    "               - 10: RH - relative humidity in %: 15.0 to 100\n",
    "               - 11: wind - wind speed in km/h: 0.40 to 9.40\n",
    "               - 12: rain - outside rain in mm/m2 : 0.0 to 6.4\n",
    "          - Target\n",
    "               - area - the burned area of the forest (in ha): 0.00 to 1090.84"
   ]
  },
  {
   "cell_type": "code",
   "execution_count": 1,
   "metadata": {
    "collapsed": true
   },
   "outputs": [],
   "source": [
    "import urllib2\n",
    "from scipy import stats\n",
    "from pandas import Series, DataFrame\n",
    "import pandas as pd\n",
    "import matplotlib.pyplot as plt\n",
    "import numpy as np\n",
    "%matplotlib inline\n",
    "\n",
    "path = 'https://archive.ics.uci.edu/ml/machine-learning-databases/forest-fires/forestfires.csv'\n",
    "raw_csv = urllib2.urlopen(path)\n",
    "feature_names = ('X', 'Y', 'month', 'day', \"FFMC\", \"DMC\", 'DC', 'ISI', 'temp', 'RH', 'wind', 'rain')\n",
    "target_name = 'area'\n",
    "all_names = feature_names + (target_name,)\n",
    "df = pd.read_csv(raw_csv)"
   ]
  },
  {
   "cell_type": "code",
   "execution_count": 2,
   "metadata": {
    "collapsed": false
   },
   "outputs": [
    {
     "name": "stdout",
     "output_type": "stream",
     "text": [
      "   X  Y month  day  FFMC   DMC     DC  ISI  temp  RH  wind  rain  area\n",
      "0  7  5   mar  fri  86.2  26.2   94.3  5.1   8.2  51   6.7   0.0   0.0\n",
      "1  7  4   oct  tue  90.6  35.4  669.1  6.7  18.0  33   0.9   0.0   0.0\n",
      "2  7  4   oct  sat  90.6  43.7  686.9  6.7  14.6  33   1.3   0.0   0.0\n",
      "3  8  6   mar  fri  91.7  33.3   77.5  9.0   8.3  97   4.0   0.2   0.0\n",
      "4  8  6   mar  sun  89.3  51.3  102.2  9.6  11.4  99   1.8   0.0   0.0\n",
      "\n",
      "     X  Y month  day  FFMC    DMC     DC   ISI  temp  RH  wind  rain  area\n",
      "140  2  5   sep  mon  90.9  126.5  686.5   7.0  21.9  39   1.8   0.0  0.47\n",
      "141  1  2   aug  wed  95.5   99.9  513.3  13.2  23.3  31   4.5   0.0  0.55\n",
      "142  8  6   aug  fri  90.1  108.0  529.8  12.5  21.2  51   8.9   0.0  0.61\n",
      "143  1  2   jul  sat  90.0   51.3  296.3   8.7  16.6  53   5.4   0.0  0.71\n",
      "144  2  5   aug  wed  95.5   99.9  513.3  13.2  23.8  32   5.4   0.0  0.77\n"
     ]
    }
   ],
   "source": [
    "print df.head(5)\n",
    "\n",
    "print\n",
    "\n",
    "print df[140:145]"
   ]
  },
  {
   "cell_type": "markdown",
   "metadata": {},
   "source": [
    "## [Mission 1] 불이 가장 많이 발생한 지역 좌표 (X, Y) 상위 5개를 제시하시오."
   ]
  },
  {
   "cell_type": "markdown",
   "metadata": {},
   "source": [
    " - numpy 및 pandas에서 제공되는 groupby, sum, stack, sort 등의 메소드 활용 필요"
   ]
  },
  {
   "cell_type": "code",
   "execution_count": 3,
   "metadata": {
    "collapsed": false,
    "scrolled": true
   },
   "outputs": [
    {
     "name": "stdout",
     "output_type": "stream",
     "text": [
      "   X  Y  area\n",
      "0  7  5   0.0\n",
      "1  7  4   0.0\n",
      "2  7  4   0.0\n",
      "3  8  6   0.0\n",
      "4  8  6   0.0\n",
      "\n",
      "     X  Y  area\n",
      "140  2  5  0.47\n",
      "141  1  2  0.55\n",
      "142  8  6  0.61\n",
      "143  1  2  0.71\n",
      "144  2  5  0.77\n"
     ]
    }
   ],
   "source": [
    "sdf = df[['X', 'Y', 'area']]\n",
    "print sdf.head(5)\n",
    "print \n",
    "print sdf[140:145]"
   ]
  },
  {
   "cell_type": "markdown",
   "metadata": {},
   "source": [
    "Solve : X,Y value를 바탕으로 groupby를 한 후 각 그룹별 데이터 수('area' index의 데이터)를 count(), count 된 dataframe을 sorting"
   ]
  },
  {
   "cell_type": "code",
   "execution_count": 4,
   "metadata": {
    "collapsed": false,
    "scrolled": true
   },
   "outputs": [],
   "source": [
    "grouped = sdf.groupby(['X','Y'])"
   ]
  },
  {
   "cell_type": "code",
   "execution_count": 5,
   "metadata": {
    "collapsed": false
   },
   "outputs": [],
   "source": [
    "grouped_counted = grouped.count()"
   ]
  },
  {
   "cell_type": "code",
   "execution_count": 6,
   "metadata": {
    "collapsed": false
   },
   "outputs": [
    {
     "data": {
      "text/html": [
       "<div>\n",
       "<table border=\"1\" class=\"dataframe\">\n",
       "  <thead>\n",
       "    <tr style=\"text-align: right;\">\n",
       "      <th></th>\n",
       "      <th></th>\n",
       "      <th>area</th>\n",
       "    </tr>\n",
       "    <tr>\n",
       "      <th>X</th>\n",
       "      <th>Y</th>\n",
       "      <th></th>\n",
       "    </tr>\n",
       "  </thead>\n",
       "  <tbody>\n",
       "    <tr>\n",
       "      <th rowspan=\"4\" valign=\"top\">1</th>\n",
       "      <th>2</th>\n",
       "      <td>19</td>\n",
       "    </tr>\n",
       "    <tr>\n",
       "      <th>3</th>\n",
       "      <td>10</td>\n",
       "    </tr>\n",
       "    <tr>\n",
       "      <th>4</th>\n",
       "      <td>15</td>\n",
       "    </tr>\n",
       "    <tr>\n",
       "      <th>5</th>\n",
       "      <td>4</td>\n",
       "    </tr>\n",
       "    <tr>\n",
       "      <th rowspan=\"4\" valign=\"top\">2</th>\n",
       "      <th>2</th>\n",
       "      <td>25</td>\n",
       "    </tr>\n",
       "    <tr>\n",
       "      <th>3</th>\n",
       "      <td>1</td>\n",
       "    </tr>\n",
       "    <tr>\n",
       "      <th>4</th>\n",
       "      <td>27</td>\n",
       "    </tr>\n",
       "    <tr>\n",
       "      <th>5</th>\n",
       "      <td>20</td>\n",
       "    </tr>\n",
       "    <tr>\n",
       "      <th rowspan=\"4\" valign=\"top\">3</th>\n",
       "      <th>3</th>\n",
       "      <td>1</td>\n",
       "    </tr>\n",
       "    <tr>\n",
       "      <th>4</th>\n",
       "      <td>43</td>\n",
       "    </tr>\n",
       "    <tr>\n",
       "      <th>5</th>\n",
       "      <td>7</td>\n",
       "    </tr>\n",
       "    <tr>\n",
       "      <th>6</th>\n",
       "      <td>4</td>\n",
       "    </tr>\n",
       "    <tr>\n",
       "      <th rowspan=\"4\" valign=\"top\">4</th>\n",
       "      <th>3</th>\n",
       "      <td>22</td>\n",
       "    </tr>\n",
       "    <tr>\n",
       "      <th>4</th>\n",
       "      <td>36</td>\n",
       "    </tr>\n",
       "    <tr>\n",
       "      <th>5</th>\n",
       "      <td>25</td>\n",
       "    </tr>\n",
       "    <tr>\n",
       "      <th>6</th>\n",
       "      <td>8</td>\n",
       "    </tr>\n",
       "    <tr>\n",
       "      <th rowspan=\"3\" valign=\"top\">5</th>\n",
       "      <th>4</th>\n",
       "      <td>23</td>\n",
       "    </tr>\n",
       "    <tr>\n",
       "      <th>5</th>\n",
       "      <td>3</td>\n",
       "    </tr>\n",
       "    <tr>\n",
       "      <th>6</th>\n",
       "      <td>4</td>\n",
       "    </tr>\n",
       "    <tr>\n",
       "      <th rowspan=\"4\" valign=\"top\">6</th>\n",
       "      <th>3</th>\n",
       "      <td>25</td>\n",
       "    </tr>\n",
       "    <tr>\n",
       "      <th>4</th>\n",
       "      <td>9</td>\n",
       "    </tr>\n",
       "    <tr>\n",
       "      <th>5</th>\n",
       "      <td>49</td>\n",
       "    </tr>\n",
       "    <tr>\n",
       "      <th>6</th>\n",
       "      <td>3</td>\n",
       "    </tr>\n",
       "    <tr>\n",
       "      <th rowspan=\"4\" valign=\"top\">7</th>\n",
       "      <th>3</th>\n",
       "      <td>2</td>\n",
       "    </tr>\n",
       "    <tr>\n",
       "      <th>4</th>\n",
       "      <td>45</td>\n",
       "    </tr>\n",
       "    <tr>\n",
       "      <th>5</th>\n",
       "      <td>11</td>\n",
       "    </tr>\n",
       "    <tr>\n",
       "      <th>6</th>\n",
       "      <td>2</td>\n",
       "    </tr>\n",
       "    <tr>\n",
       "      <th rowspan=\"5\" valign=\"top\">8</th>\n",
       "      <th>3</th>\n",
       "      <td>3</td>\n",
       "    </tr>\n",
       "    <tr>\n",
       "      <th>4</th>\n",
       "      <td>1</td>\n",
       "    </tr>\n",
       "    <tr>\n",
       "      <th>5</th>\n",
       "      <td>4</td>\n",
       "    </tr>\n",
       "    <tr>\n",
       "      <th>6</th>\n",
       "      <td>52</td>\n",
       "    </tr>\n",
       "    <tr>\n",
       "      <th>8</th>\n",
       "      <td>1</td>\n",
       "    </tr>\n",
       "    <tr>\n",
       "      <th rowspan=\"4\" valign=\"top\">9</th>\n",
       "      <th>4</th>\n",
       "      <td>4</td>\n",
       "    </tr>\n",
       "    <tr>\n",
       "      <th>5</th>\n",
       "      <td>2</td>\n",
       "    </tr>\n",
       "    <tr>\n",
       "      <th>6</th>\n",
       "      <td>1</td>\n",
       "    </tr>\n",
       "    <tr>\n",
       "      <th>9</th>\n",
       "      <td>6</td>\n",
       "    </tr>\n",
       "  </tbody>\n",
       "</table>\n",
       "</div>"
      ],
      "text/plain": [
       "     area\n",
       "X Y      \n",
       "1 2    19\n",
       "  3    10\n",
       "  4    15\n",
       "  5     4\n",
       "2 2    25\n",
       "  3     1\n",
       "  4    27\n",
       "  5    20\n",
       "3 3     1\n",
       "  4    43\n",
       "  5     7\n",
       "  6     4\n",
       "4 3    22\n",
       "  4    36\n",
       "  5    25\n",
       "  6     8\n",
       "5 4    23\n",
       "  5     3\n",
       "  6     4\n",
       "6 3    25\n",
       "  4     9\n",
       "  5    49\n",
       "  6     3\n",
       "7 3     2\n",
       "  4    45\n",
       "  5    11\n",
       "  6     2\n",
       "8 3     3\n",
       "  4     1\n",
       "  5     4\n",
       "  6    52\n",
       "  8     1\n",
       "9 4     4\n",
       "  5     2\n",
       "  6     1\n",
       "  9     6"
      ]
     },
     "execution_count": 6,
     "metadata": {},
     "output_type": "execute_result"
    }
   ],
   "source": [
    "grouped_counted"
   ]
  },
  {
   "cell_type": "markdown",
   "metadata": {},
   "source": [
    "각각의 좌표 그룹별로 데이터가 있는 회수가 정리"
   ]
  },
  {
   "cell_type": "code",
   "execution_count": 7,
   "metadata": {
    "collapsed": false
   },
   "outputs": [
    {
     "data": {
      "text/html": [
       "<div>\n",
       "<table border=\"1\" class=\"dataframe\">\n",
       "  <thead>\n",
       "    <tr style=\"text-align: right;\">\n",
       "      <th></th>\n",
       "      <th></th>\n",
       "      <th>area</th>\n",
       "    </tr>\n",
       "    <tr>\n",
       "      <th>X</th>\n",
       "      <th>Y</th>\n",
       "      <th></th>\n",
       "    </tr>\n",
       "  </thead>\n",
       "  <tbody>\n",
       "    <tr>\n",
       "      <th>8</th>\n",
       "      <th>6</th>\n",
       "      <td>52</td>\n",
       "    </tr>\n",
       "    <tr>\n",
       "      <th>6</th>\n",
       "      <th>5</th>\n",
       "      <td>49</td>\n",
       "    </tr>\n",
       "    <tr>\n",
       "      <th>7</th>\n",
       "      <th>4</th>\n",
       "      <td>45</td>\n",
       "    </tr>\n",
       "    <tr>\n",
       "      <th>3</th>\n",
       "      <th>4</th>\n",
       "      <td>43</td>\n",
       "    </tr>\n",
       "    <tr>\n",
       "      <th>4</th>\n",
       "      <th>4</th>\n",
       "      <td>36</td>\n",
       "    </tr>\n",
       "  </tbody>\n",
       "</table>\n",
       "</div>"
      ],
      "text/plain": [
       "     area\n",
       "X Y      \n",
       "8 6    52\n",
       "6 5    49\n",
       "7 4    45\n",
       "3 4    43\n",
       "4 4    36"
      ]
     },
     "execution_count": 7,
     "metadata": {},
     "output_type": "execute_result"
    }
   ],
   "source": [
    "grouped_counted.sort_values('area',ascending = False).head(5)"
   ]
  },
  {
   "cell_type": "markdown",
   "metadata": {},
   "source": [
    "## [Mission 2] 불이 가장 많이 발생한 월(month) 상위 2개 및 가장 많이 발생한 날(day) 상위 2개를 제시하시오."
   ]
  },
  {
   "cell_type": "markdown",
   "metadata": {},
   "source": [
    "- numpy 및 apndas에서 제공되는 groupby, sum, stack, sort 등의 메소드 필요"
   ]
  },
  {
   "cell_type": "code",
   "execution_count": 8,
   "metadata": {
    "collapsed": false
   },
   "outputs": [
    {
     "name": "stdout",
     "output_type": "stream",
     "text": [
      "  month  day  area\n",
      "0   mar  fri   0.0\n",
      "1   oct  tue   0.0\n",
      "2   oct  sat   0.0\n",
      "3   mar  fri   0.0\n",
      "4   mar  sun   0.0\n",
      "\n",
      "    month  day  area\n",
      "140   sep  mon  0.47\n",
      "141   aug  wed  0.55\n",
      "142   aug  fri  0.61\n",
      "143   jul  sat  0.71\n",
      "144   aug  wed  0.77\n"
     ]
    }
   ],
   "source": [
    "sdf = df[['month','day' ,'area']]\n",
    "print sdf.head()\n",
    "print\n",
    "print sdf[140:145]"
   ]
  },
  {
   "cell_type": "code",
   "execution_count": 9,
   "metadata": {
    "collapsed": false
   },
   "outputs": [],
   "source": [
    "grouped = sdf.groupby(['month'])"
   ]
  },
  {
   "cell_type": "code",
   "execution_count": 10,
   "metadata": {
    "collapsed": false
   },
   "outputs": [
    {
     "data": {
      "text/html": [
       "<div>\n",
       "<table border=\"1\" class=\"dataframe\">\n",
       "  <thead>\n",
       "    <tr style=\"text-align: right;\">\n",
       "      <th></th>\n",
       "      <th>day</th>\n",
       "      <th>area</th>\n",
       "    </tr>\n",
       "    <tr>\n",
       "      <th>month</th>\n",
       "      <th></th>\n",
       "      <th></th>\n",
       "    </tr>\n",
       "  </thead>\n",
       "  <tbody>\n",
       "    <tr>\n",
       "      <th>aug</th>\n",
       "      <td>184</td>\n",
       "      <td>184</td>\n",
       "    </tr>\n",
       "    <tr>\n",
       "      <th>sep</th>\n",
       "      <td>172</td>\n",
       "      <td>172</td>\n",
       "    </tr>\n",
       "  </tbody>\n",
       "</table>\n",
       "</div>"
      ],
      "text/plain": [
       "       day  area\n",
       "month           \n",
       "aug    184   184\n",
       "sep    172   172"
      ]
     },
     "execution_count": 10,
     "metadata": {},
     "output_type": "execute_result"
    }
   ],
   "source": [
    "grouped.count().sort_values('area',ascending = False).head(2)"
   ]
  },
  {
   "cell_type": "code",
   "execution_count": 11,
   "metadata": {
    "collapsed": false
   },
   "outputs": [],
   "source": [
    "grouped = sdf.groupby(['month','day'])"
   ]
  },
  {
   "cell_type": "code",
   "execution_count": 12,
   "metadata": {
    "collapsed": false
   },
   "outputs": [
    {
     "data": {
      "text/html": [
       "<div>\n",
       "<table border=\"1\" class=\"dataframe\">\n",
       "  <thead>\n",
       "    <tr style=\"text-align: right;\">\n",
       "      <th></th>\n",
       "      <th></th>\n",
       "      <th>area</th>\n",
       "    </tr>\n",
       "    <tr>\n",
       "      <th>month</th>\n",
       "      <th>day</th>\n",
       "      <th></th>\n",
       "    </tr>\n",
       "  </thead>\n",
       "  <tbody>\n",
       "    <tr>\n",
       "      <th>aug</th>\n",
       "      <th>sun</th>\n",
       "      <td>40</td>\n",
       "    </tr>\n",
       "    <tr>\n",
       "      <th>sep</th>\n",
       "      <th>fri</th>\n",
       "      <td>38</td>\n",
       "    </tr>\n",
       "  </tbody>\n",
       "</table>\n",
       "</div>"
      ],
      "text/plain": [
       "           area\n",
       "month day      \n",
       "aug   sun    40\n",
       "sep   fri    38"
      ]
     },
     "execution_count": 12,
     "metadata": {},
     "output_type": "execute_result"
    }
   ],
   "source": [
    "grouped.count().sort_values('area',ascending = False).head(2)"
   ]
  },
  {
   "cell_type": "markdown",
   "metadata": {},
   "source": [
    "## [ Mission 3]  4대 주 요인(temp, RH, wind, rain) 속성별 기본 통계치 및 Box Plot 산출"
   ]
  },
  {
   "cell_type": "code",
   "execution_count": 13,
   "metadata": {
    "collapsed": false
   },
   "outputs": [
    {
     "name": "stdout",
     "output_type": "stream",
     "text": [
      "   temp  RH  wind  rain\n",
      "0   8.2  51   6.7   0.0\n",
      "1  18.0  33   0.9   0.0\n",
      "2  14.6  33   1.3   0.0\n",
      "3   8.3  97   4.0   0.2\n",
      "4  11.4  99   1.8   0.0\n"
     ]
    }
   ],
   "source": [
    "sdf = df[['temp', 'RH', 'wind', 'rain']]\n",
    "print sdf.head()"
   ]
  },
  {
   "cell_type": "code",
   "execution_count": 14,
   "metadata": {
    "collapsed": false,
    "scrolled": true
   },
   "outputs": [
    {
     "data": {
      "text/html": [
       "<div>\n",
       "<table border=\"1\" class=\"dataframe\">\n",
       "  <thead>\n",
       "    <tr style=\"text-align: right;\">\n",
       "      <th></th>\n",
       "      <th>temp</th>\n",
       "      <th>RH</th>\n",
       "      <th>wind</th>\n",
       "      <th>rain</th>\n",
       "    </tr>\n",
       "  </thead>\n",
       "  <tbody>\n",
       "    <tr>\n",
       "      <th>count</th>\n",
       "      <td>517.000000</td>\n",
       "      <td>517.000000</td>\n",
       "      <td>517.000000</td>\n",
       "      <td>517.000000</td>\n",
       "    </tr>\n",
       "    <tr>\n",
       "      <th>mean</th>\n",
       "      <td>18.889168</td>\n",
       "      <td>44.288201</td>\n",
       "      <td>4.017602</td>\n",
       "      <td>0.021663</td>\n",
       "    </tr>\n",
       "    <tr>\n",
       "      <th>std</th>\n",
       "      <td>5.806625</td>\n",
       "      <td>16.317469</td>\n",
       "      <td>1.791653</td>\n",
       "      <td>0.295959</td>\n",
       "    </tr>\n",
       "    <tr>\n",
       "      <th>min</th>\n",
       "      <td>2.200000</td>\n",
       "      <td>15.000000</td>\n",
       "      <td>0.400000</td>\n",
       "      <td>0.000000</td>\n",
       "    </tr>\n",
       "    <tr>\n",
       "      <th>25%</th>\n",
       "      <td>15.500000</td>\n",
       "      <td>33.000000</td>\n",
       "      <td>2.700000</td>\n",
       "      <td>0.000000</td>\n",
       "    </tr>\n",
       "    <tr>\n",
       "      <th>50%</th>\n",
       "      <td>19.300000</td>\n",
       "      <td>42.000000</td>\n",
       "      <td>4.000000</td>\n",
       "      <td>0.000000</td>\n",
       "    </tr>\n",
       "    <tr>\n",
       "      <th>75%</th>\n",
       "      <td>22.800000</td>\n",
       "      <td>53.000000</td>\n",
       "      <td>4.900000</td>\n",
       "      <td>0.000000</td>\n",
       "    </tr>\n",
       "    <tr>\n",
       "      <th>max</th>\n",
       "      <td>33.300000</td>\n",
       "      <td>100.000000</td>\n",
       "      <td>9.400000</td>\n",
       "      <td>6.400000</td>\n",
       "    </tr>\n",
       "  </tbody>\n",
       "</table>\n",
       "</div>"
      ],
      "text/plain": [
       "             temp          RH        wind        rain\n",
       "count  517.000000  517.000000  517.000000  517.000000\n",
       "mean    18.889168   44.288201    4.017602    0.021663\n",
       "std      5.806625   16.317469    1.791653    0.295959\n",
       "min      2.200000   15.000000    0.400000    0.000000\n",
       "25%     15.500000   33.000000    2.700000    0.000000\n",
       "50%     19.300000   42.000000    4.000000    0.000000\n",
       "75%     22.800000   53.000000    4.900000    0.000000\n",
       "max     33.300000  100.000000    9.400000    6.400000"
      ]
     },
     "execution_count": 14,
     "metadata": {},
     "output_type": "execute_result"
    }
   ],
   "source": [
    "sdf.describe()"
   ]
  },
  {
   "cell_type": "code",
   "execution_count": 15,
   "metadata": {
    "collapsed": false
   },
   "outputs": [
    {
     "name": "stderr",
     "output_type": "stream",
     "text": [
      "C:\\Program Files\\Anaconda2\\lib\\site-packages\\ipykernel\\__main__.py:1: FutureWarning: \n",
      "The default value for 'return_type' will change to 'axes' in a future release.\n",
      " To use the future behavior now, set return_type='axes'.\n",
      " To keep the previous behavior and silence this warning, set return_type='dict'.\n",
      "  if __name__ == '__main__':\n"
     ]
    },
    {
     "data": {
      "text/plain": [
       "{'boxes': [<matplotlib.lines.Line2D at 0xaa07160>],\n",
       " 'caps': [<matplotlib.lines.Line2D at 0xaa07da0>,\n",
       "  <matplotlib.lines.Line2D at 0xb90a358>],\n",
       " 'fliers': [<matplotlib.lines.Line2D at 0xb90ae48>],\n",
       " 'means': [],\n",
       " 'medians': [<matplotlib.lines.Line2D at 0xb90a8d0>],\n",
       " 'whiskers': [<matplotlib.lines.Line2D at 0xaa07320>,\n",
       "  <matplotlib.lines.Line2D at 0xaa07828>]}"
      ]
     },
     "execution_count": 15,
     "metadata": {},
     "output_type": "execute_result"
    },
    {
     "data": {
      "image/png": "[encoded data removed]",
      "text/plain": [
       "<matplotlib.figure.Figure at 0x4263208>"
      ]
     },
     "metadata": {},
     "output_type": "display_data"
    }
   ],
   "source": [
    "sdf.boxplot('temp')"
   ]
  },
  {
   "cell_type": "code",
   "execution_count": 16,
   "metadata": {
    "collapsed": false
   },
   "outputs": [
    {
     "name": "stderr",
     "output_type": "stream",
     "text": [
      "C:\\Program Files\\Anaconda2\\lib\\site-packages\\ipykernel\\__main__.py:1: FutureWarning: \n",
      "The default value for 'return_type' will change to 'axes' in a future release.\n",
      " To use the future behavior now, set return_type='axes'.\n",
      " To keep the previous behavior and silence this warning, set return_type='dict'.\n",
      "  if __name__ == '__main__':\n"
     ]
    },
    {
     "data": {
      "text/plain": [
       "{'boxes': [<matplotlib.lines.Line2D at 0xb6cbe48>],\n",
       " 'caps': [<matplotlib.lines.Line2D at 0xb6dbac8>,\n",
       "  <matplotlib.lines.Line2D at 0xb6ea080>],\n",
       " 'fliers': [<matplotlib.lines.Line2D at 0xb6eab70>],\n",
       " 'means': [],\n",
       " 'medians': [<matplotlib.lines.Line2D at 0xb6ea5f8>],\n",
       " 'whiskers': [<matplotlib.lines.Line2D at 0xb6db048>,\n",
       "  <matplotlib.lines.Line2D at 0xb6cbb70>]}"
      ]
     },
     "execution_count": 16,
     "metadata": {},
     "output_type": "execute_result"
    },
    {
     "data": {
      "image/png": "[encoded data removed]",
      "text/plain": [
       "<matplotlib.figure.Figure at 0xaaab630>"
      ]
     },
     "metadata": {},
     "output_type": "display_data"
    }
   ],
   "source": [
    "sdf.boxplot('RH')"
   ]
  },
  {
   "cell_type": "code",
   "execution_count": 17,
   "metadata": {
    "collapsed": false
   },
   "outputs": [
    {
     "name": "stderr",
     "output_type": "stream",
     "text": [
      "C:\\Program Files\\Anaconda2\\lib\\site-packages\\ipykernel\\__main__.py:1: FutureWarning: \n",
      "The default value for 'return_type' will change to 'axes' in a future release.\n",
      " To use the future behavior now, set return_type='axes'.\n",
      " To keep the previous behavior and silence this warning, set return_type='dict'.\n",
      "  if __name__ == '__main__':\n"
     ]
    },
    {
     "data": {
      "text/plain": [
       "{'boxes': [<matplotlib.lines.Line2D at 0xbbab748>],\n",
       " 'caps': [<matplotlib.lines.Line2D at 0xbbba630>,\n",
       "  <matplotlib.lines.Line2D at 0xbbbaba8>],\n",
       " 'fliers': [<matplotlib.lines.Line2D at 0xbbc76d8>],\n",
       " 'means': [],\n",
       " 'medians': [<matplotlib.lines.Line2D at 0xbbc7160>],\n",
       " 'whiskers': [<matplotlib.lines.Line2D at 0xbbaba90>,\n",
       "  <matplotlib.lines.Line2D at 0xbbba0b8>]}"
      ]
     },
     "execution_count": 17,
     "metadata": {},
     "output_type": "execute_result"
    },
    {
     "data": {
      "image/png": "[encoded data removed]",
      "text/plain": [
       "<matplotlib.figure.Figure at 0xb8cf630>"
      ]
     },
     "metadata": {},
     "output_type": "display_data"
    }
   ],
   "source": [
    "sdf.boxplot('wind')"
   ]
  },
  {
   "cell_type": "code",
   "execution_count": 18,
   "metadata": {
    "collapsed": false
   },
   "outputs": [
    {
     "name": "stderr",
     "output_type": "stream",
     "text": [
      "C:\\Program Files\\Anaconda2\\lib\\site-packages\\ipykernel\\__main__.py:1: FutureWarning: \n",
      "The default value for 'return_type' will change to 'axes' in a future release.\n",
      " To use the future behavior now, set return_type='axes'.\n",
      " To keep the previous behavior and silence this warning, set return_type='dict'.\n",
      "  if __name__ == '__main__':\n"
     ]
    },
    {
     "data": {
      "text/plain": [
       "{'boxes': [<matplotlib.lines.Line2D at 0xbe0d588>],\n",
       " 'caps': [<matplotlib.lines.Line2D at 0xbe1c2e8>,\n",
       "  <matplotlib.lines.Line2D at 0xbe1c860>],\n",
       " 'fliers': [<matplotlib.lines.Line2D at 0xbe29390>],\n",
       " 'means': [],\n",
       " 'medians': [<matplotlib.lines.Line2D at 0xbe1cdd8>],\n",
       " 'whiskers': [<matplotlib.lines.Line2D at 0xbe0d748>,\n",
       "  <matplotlib.lines.Line2D at 0xbe0dd30>]}"
      ]
     },
     "execution_count": 18,
     "metadata": {},
     "output_type": "execute_result"
    },
    {
     "data": {
      "image/png": "[encoded data removed]",
      "text/plain": [
       "<matplotlib.figure.Figure at 0xbc836d8>"
      ]
     },
     "metadata": {},
     "output_type": "display_data"
    }
   ],
   "source": [
    "sdf.boxplot('rain')"
   ]
  },
  {
   "cell_type": "markdown",
   "metadata": {},
   "source": [
    "- rain데이터의 평균값을 보면 0.2이고 대부분의(최소 75%) 데이터가 0.0의 값을 보이고 있고, 이상 데이터는 약 1% (Box plot 상에서 육안으로 확인되는 6번)인것으로 보아 강수량과 화재 여부는 음의 관계인것으로 판단된다.\n",
    "- 대부분의 화재가 상온(15-25)에서 발생하였고 화재가 발생한 특별한 고온은 발견되지 않았다. 화재 발생에 있어서 온도가 큰 영향을 주지 않는것으로 판단된다."
   ]
  },
  {
   "cell_type": "markdown",
   "metadata": {},
   "source": [
    "## [Mission 4] 4대요인 및 area를 포함하여 dataframe을 얻어오고 area를 두 가지 부류로 나누어 각 4가지 속성을 비교 분석하기"
   ]
  },
  {
   "cell_type": "markdown",
   "metadata": {},
   "source": [
    "- area의 값의 편차가 너무 심하기 떄문에 그러한 편차를 줄이기 위하여numpy.log1p(자연로그) 사용\n",
    "    - Calualates log(1+x)\n",
    "    - http://docs.scipy.org/doc/numpy/reference/generated/numpy.log1p.html#numpy.log1p\n",
    "- 두 가지 부류로 나누는 기준은 log(1.area) 값이 50% percentile 이상인 것과 50% percentile 이하인 것으로 정함\n",
    "    - 각각을 sdf_1.과 sdf_2라고 명명\n",
    "- sdf_1및 sdf_2에 대하여 4대 주 요인(temp,RH,wind,rain) 속성별 기본 통계치 및 Box Plot 산출\n",
    "    - descirbe() 가 제공하는 통꼐치 및 boxplot을 보면서 나름대로의 해석을 반드시 2가지 이상 제시하시오."
   ]
  },
  {
   "cell_type": "code",
   "execution_count": 19,
   "metadata": {
    "collapsed": false
   },
   "outputs": [
    {
     "name": "stdout",
     "output_type": "stream",
     "text": [
      "   temp  RH  wind  rain  area\n",
      "0   8.2  51   6.7   0.0   0.0\n",
      "1  18.0  33   0.9   0.0   0.0\n",
      "2  14.6  33   1.3   0.0   0.0\n",
      "3   8.3  97   4.0   0.2   0.0\n",
      "4  11.4  99   1.8   0.0   0.0\n",
      "\n",
      "     temp  RH  wind  rain  area\n",
      "140  21.9  39   1.8   0.0  0.47\n",
      "141  23.3  31   4.5   0.0  0.55\n",
      "142  21.2  51   8.9   0.0  0.61\n",
      "143  16.6  53   5.4   0.0  0.71\n",
      "144  23.8  32   5.4   0.0  0.77\n"
     ]
    }
   ],
   "source": [
    "sdf = df[['temp', 'RH', 'wind', 'rain', 'area']]\n",
    "print sdf.head()\n",
    "print\n",
    "print sdf[140:145]"
   ]
  },
  {
   "cell_type": "code",
   "execution_count": 20,
   "metadata": {
    "collapsed": false,
    "scrolled": false
   },
   "outputs": [
    {
     "name": "stdout",
     "output_type": "stream",
     "text": [
      "   temp  RH  wind  rain  area\n",
      "0   8.2  51   6.7   0.0   0.0\n",
      "1  18.0  33   0.9   0.0   0.0\n",
      "2  14.6  33   1.3   0.0   0.0\n",
      "3   8.3  97   4.0   0.2   0.0\n",
      "4  11.4  99   1.8   0.0   0.0\n",
      "\n",
      "     temp  RH  wind  rain      area\n",
      "140  21.9  39   1.8   0.0  0.385262\n",
      "141  23.3  31   4.5   0.0  0.438255\n",
      "142  21.2  51   8.9   0.0  0.476234\n",
      "143  16.6  53   5.4   0.0  0.536493\n",
      "144  23.8  32   5.4   0.0  0.570980\n"
     ]
    },
    {
     "name": "stderr",
     "output_type": "stream",
     "text": [
      "C:\\Program Files\\Anaconda2\\lib\\site-packages\\pandas\\core\\indexing.py:465: SettingWithCopyWarning: \n",
      "A value is trying to be set on a copy of a slice from a DataFrame.\n",
      "Try using .loc[row_indexer,col_indexer] = value instead\n",
      "\n",
      "See the caveats in the documentation: http://pandas.pydata.org/pandas-docs/stable/indexing.html#indexing-view-versus-copy\n",
      "  self.obj[item] = s\n"
     ]
    }
   ],
   "source": [
    "log1p_val = np.log1p(sdf['area'])\n",
    "sdf.loc[:, 'area'] = log1p_val\n",
    "print sdf.head()\n",
    "print\n",
    "print sdf[140:145]"
   ]
  },
  {
   "cell_type": "code",
   "execution_count": 21,
   "metadata": {
    "collapsed": false
   },
   "outputs": [
    {
     "data": {
      "text/html": [
       "<div>\n",
       "<table border=\"1\" class=\"dataframe\">\n",
       "  <thead>\n",
       "    <tr style=\"text-align: right;\">\n",
       "      <th></th>\n",
       "      <th>temp</th>\n",
       "      <th>RH</th>\n",
       "      <th>wind</th>\n",
       "      <th>rain</th>\n",
       "      <th>area</th>\n",
       "    </tr>\n",
       "  </thead>\n",
       "  <tbody>\n",
       "    <tr>\n",
       "      <th>count</th>\n",
       "      <td>517.000000</td>\n",
       "      <td>517.000000</td>\n",
       "      <td>517.000000</td>\n",
       "      <td>517.000000</td>\n",
       "      <td>517.000000</td>\n",
       "    </tr>\n",
       "    <tr>\n",
       "      <th>mean</th>\n",
       "      <td>18.889168</td>\n",
       "      <td>44.288201</td>\n",
       "      <td>4.017602</td>\n",
       "      <td>0.021663</td>\n",
       "      <td>1.111026</td>\n",
       "    </tr>\n",
       "    <tr>\n",
       "      <th>std</th>\n",
       "      <td>5.806625</td>\n",
       "      <td>16.317469</td>\n",
       "      <td>1.791653</td>\n",
       "      <td>0.295959</td>\n",
       "      <td>1.398436</td>\n",
       "    </tr>\n",
       "    <tr>\n",
       "      <th>min</th>\n",
       "      <td>2.200000</td>\n",
       "      <td>15.000000</td>\n",
       "      <td>0.400000</td>\n",
       "      <td>0.000000</td>\n",
       "      <td>0.000000</td>\n",
       "    </tr>\n",
       "    <tr>\n",
       "      <th>25%</th>\n",
       "      <td>15.500000</td>\n",
       "      <td>33.000000</td>\n",
       "      <td>2.700000</td>\n",
       "      <td>0.000000</td>\n",
       "      <td>0.000000</td>\n",
       "    </tr>\n",
       "    <tr>\n",
       "      <th>50%</th>\n",
       "      <td>19.300000</td>\n",
       "      <td>42.000000</td>\n",
       "      <td>4.000000</td>\n",
       "      <td>0.000000</td>\n",
       "      <td>0.418710</td>\n",
       "    </tr>\n",
       "    <tr>\n",
       "      <th>75%</th>\n",
       "      <td>22.800000</td>\n",
       "      <td>53.000000</td>\n",
       "      <td>4.900000</td>\n",
       "      <td>0.000000</td>\n",
       "      <td>2.024193</td>\n",
       "    </tr>\n",
       "    <tr>\n",
       "      <th>max</th>\n",
       "      <td>33.300000</td>\n",
       "      <td>100.000000</td>\n",
       "      <td>9.400000</td>\n",
       "      <td>6.400000</td>\n",
       "      <td>6.995620</td>\n",
       "    </tr>\n",
       "  </tbody>\n",
       "</table>\n",
       "</div>"
      ],
      "text/plain": [
       "             temp          RH        wind        rain        area\n",
       "count  517.000000  517.000000  517.000000  517.000000  517.000000\n",
       "mean    18.889168   44.288201    4.017602    0.021663    1.111026\n",
       "std      5.806625   16.317469    1.791653    0.295959    1.398436\n",
       "min      2.200000   15.000000    0.400000    0.000000    0.000000\n",
       "25%     15.500000   33.000000    2.700000    0.000000    0.000000\n",
       "50%     19.300000   42.000000    4.000000    0.000000    0.418710\n",
       "75%     22.800000   53.000000    4.900000    0.000000    2.024193\n",
       "max     33.300000  100.000000    9.400000    6.400000    6.995620"
      ]
     },
     "execution_count": 21,
     "metadata": {},
     "output_type": "execute_result"
    }
   ],
   "source": [
    "sdf.describe()"
   ]
  },
  {
   "cell_type": "code",
   "execution_count": 22,
   "metadata": {
    "collapsed": false
   },
   "outputs": [
    {
     "data": {
      "text/plain": [
       "0.41871033485818504"
      ]
     },
     "execution_count": 22,
     "metadata": {},
     "output_type": "execute_result"
    }
   ],
   "source": [
    "sdf.area.median()"
   ]
  },
  {
   "cell_type": "code",
   "execution_count": 23,
   "metadata": {
    "collapsed": false
   },
   "outputs": [],
   "source": [
    "sdf_1 = sdf[sdf.area >= sdf.area.median()]"
   ]
  },
  {
   "cell_type": "code",
   "execution_count": 24,
   "metadata": {
    "collapsed": false
   },
   "outputs": [
    {
     "name": "stdout",
     "output_type": "stream",
     "text": [
      "     temp  RH  wind  rain      area\n",
      "141  23.3  31   4.5   0.0  0.438255\n",
      "142  21.2  51   8.9   0.0  0.476234\n",
      "143  16.6  53   5.4   0.0  0.536493\n",
      "144  23.8  32   5.4   0.0  0.570980\n",
      "145  27.4  22   4.0   0.0  0.641854\n",
      "\n",
      "     temp  RH  wind  rain      area\n",
      "319  21.6  28   6.3   0.0  1.688249\n",
      "320  18.9  34   7.2   0.0  3.565581\n",
      "321  16.8  28   4.0   0.0  2.105353\n",
      "322  16.8  28   4.0   0.0  0.698135\n",
      "323  12.9  39   2.7   0.0  1.156881\n"
     ]
    }
   ],
   "source": [
    "print sdf_1.head()\n",
    "\n",
    "print\n",
    "\n",
    "print sdf_1[140:145]"
   ]
  },
  {
   "cell_type": "code",
   "execution_count": 25,
   "metadata": {
    "collapsed": false
   },
   "outputs": [],
   "source": [
    "sdf_2 = sdf[sdf.area < sdf.area.median()]"
   ]
  },
  {
   "cell_type": "code",
   "execution_count": 26,
   "metadata": {
    "collapsed": false
   },
   "outputs": [
    {
     "name": "stdout",
     "output_type": "stream",
     "text": [
      "   temp  RH  wind  rain  area\n",
      "0   8.2  51   6.7   0.0   0.0\n",
      "1  18.0  33   0.9   0.0   0.0\n",
      "2  14.6  33   1.3   0.0   0.0\n",
      "3   8.3  97   4.0   0.2   0.0\n",
      "4  11.4  99   1.8   0.0   0.0\n",
      "\n",
      "     temp  RH  wind  rain      area\n",
      "140  21.9  39   1.8   0.0  0.385262\n",
      "239  13.4  75   1.8   0.0  0.000000\n",
      "240  15.2  51   2.7   0.0  0.000000\n",
      "241  16.7  20   3.1   0.0  0.000000\n",
      "243  21.9  73   7.6   1.0  0.000000\n"
     ]
    }
   ],
   "source": [
    "print sdf_2.head()\n",
    "\n",
    "print\n",
    "\n",
    "print sdf_2[140:145]"
   ]
  },
  {
   "cell_type": "code",
   "execution_count": 27,
   "metadata": {
    "collapsed": false
   },
   "outputs": [
    {
     "data": {
      "text/html": [
       "<div>\n",
       "<table border=\"1\" class=\"dataframe\">\n",
       "  <thead>\n",
       "    <tr style=\"text-align: right;\">\n",
       "      <th></th>\n",
       "      <th>temp</th>\n",
       "      <th>RH</th>\n",
       "      <th>wind</th>\n",
       "      <th>rain</th>\n",
       "      <th>area</th>\n",
       "    </tr>\n",
       "  </thead>\n",
       "  <tbody>\n",
       "    <tr>\n",
       "      <th>count</th>\n",
       "      <td>260.000000</td>\n",
       "      <td>260.000000</td>\n",
       "      <td>260.000000</td>\n",
       "      <td>260.000000</td>\n",
       "      <td>260.000000</td>\n",
       "    </tr>\n",
       "    <tr>\n",
       "      <th>mean</th>\n",
       "      <td>19.256923</td>\n",
       "      <td>43.696154</td>\n",
       "      <td>4.133462</td>\n",
       "      <td>0.030000</td>\n",
       "      <td>2.198902</td>\n",
       "    </tr>\n",
       "    <tr>\n",
       "      <th>std</th>\n",
       "      <td>6.269451</td>\n",
       "      <td>15.275462</td>\n",
       "      <td>1.899338</td>\n",
       "      <td>0.405969</td>\n",
       "      <td>1.226033</td>\n",
       "    </tr>\n",
       "    <tr>\n",
       "      <th>min</th>\n",
       "      <td>2.200000</td>\n",
       "      <td>15.000000</td>\n",
       "      <td>0.400000</td>\n",
       "      <td>0.000000</td>\n",
       "      <td>0.418710</td>\n",
       "    </tr>\n",
       "    <tr>\n",
       "      <th>25%</th>\n",
       "      <td>15.900000</td>\n",
       "      <td>32.750000</td>\n",
       "      <td>2.700000</td>\n",
       "      <td>0.000000</td>\n",
       "      <td>1.228844</td>\n",
       "    </tr>\n",
       "    <tr>\n",
       "      <th>50%</th>\n",
       "      <td>20.100000</td>\n",
       "      <td>41.000000</td>\n",
       "      <td>4.000000</td>\n",
       "      <td>0.000000</td>\n",
       "      <td>2.022208</td>\n",
       "    </tr>\n",
       "    <tr>\n",
       "      <th>75%</th>\n",
       "      <td>23.400000</td>\n",
       "      <td>53.000000</td>\n",
       "      <td>4.900000</td>\n",
       "      <td>0.000000</td>\n",
       "      <td>2.838020</td>\n",
       "    </tr>\n",
       "    <tr>\n",
       "      <th>max</th>\n",
       "      <td>33.300000</td>\n",
       "      <td>96.000000</td>\n",
       "      <td>9.400000</td>\n",
       "      <td>6.400000</td>\n",
       "      <td>6.995620</td>\n",
       "    </tr>\n",
       "  </tbody>\n",
       "</table>\n",
       "</div>"
      ],
      "text/plain": [
       "             temp          RH        wind        rain        area\n",
       "count  260.000000  260.000000  260.000000  260.000000  260.000000\n",
       "mean    19.256923   43.696154    4.133462    0.030000    2.198902\n",
       "std      6.269451   15.275462    1.899338    0.405969    1.226033\n",
       "min      2.200000   15.000000    0.400000    0.000000    0.418710\n",
       "25%     15.900000   32.750000    2.700000    0.000000    1.228844\n",
       "50%     20.100000   41.000000    4.000000    0.000000    2.022208\n",
       "75%     23.400000   53.000000    4.900000    0.000000    2.838020\n",
       "max     33.300000   96.000000    9.400000    6.400000    6.995620"
      ]
     },
     "execution_count": 27,
     "metadata": {},
     "output_type": "execute_result"
    }
   ],
   "source": [
    "sdf_1.describe()"
   ]
  },
  {
   "cell_type": "code",
   "execution_count": 28,
   "metadata": {
    "collapsed": false
   },
   "outputs": [
    {
     "name": "stderr",
     "output_type": "stream",
     "text": [
      "C:\\Program Files\\Anaconda2\\lib\\site-packages\\ipykernel\\__main__.py:1: FutureWarning: \n",
      "The default value for 'return_type' will change to 'axes' in a future release.\n",
      " To use the future behavior now, set return_type='axes'.\n",
      " To keep the previous behavior and silence this warning, set return_type='dict'.\n",
      "  if __name__ == '__main__':\n"
     ]
    },
    {
     "data": {
      "text/plain": [
       "{'boxes': [<matplotlib.lines.Line2D at 0xc276470>,\n",
       "  <matplotlib.lines.Line2D at 0xc293780>,\n",
       "  <matplotlib.lines.Line2D at 0xc2abe10>,\n",
       "  <matplotlib.lines.Line2D at 0xc3184e0>,\n",
       "  <matplotlib.lines.Line2D at 0xc333b70>],\n",
       " 'caps': [<matplotlib.lines.Line2D at 0xc2851d0>,\n",
       "  <matplotlib.lines.Line2D at 0xc285748>,\n",
       "  <matplotlib.lines.Line2D at 0xc29f860>,\n",
       "  <matplotlib.lines.Line2D at 0xc29fdd8>,\n",
       "  <matplotlib.lines.Line2D at 0xc2fdef0>,\n",
       "  <matplotlib.lines.Line2D at 0xc30a4a8>,\n",
       "  <matplotlib.lines.Line2D at 0xc3255c0>,\n",
       "  <matplotlib.lines.Line2D at 0xc325b38>,\n",
       "  <matplotlib.lines.Line2D at 0xc03da20>,\n",
       "  <matplotlib.lines.Line2D at 0xc034470>],\n",
       " 'fliers': [<matplotlib.lines.Line2D at 0xc293278>,\n",
       "  <matplotlib.lines.Line2D at 0xc2ab908>,\n",
       "  <matplotlib.lines.Line2D at 0xc30af98>,\n",
       "  <matplotlib.lines.Line2D at 0xc333668>,\n",
       "  <matplotlib.lines.Line2D at 0xc340940>],\n",
       " 'means': [],\n",
       " 'medians': [<matplotlib.lines.Line2D at 0xc285cc0>,\n",
       "  <matplotlib.lines.Line2D at 0xc2ab390>,\n",
       "  <matplotlib.lines.Line2D at 0xc30aa20>,\n",
       "  <matplotlib.lines.Line2D at 0xc3330f0>,\n",
       "  <matplotlib.lines.Line2D at 0xc02df98>],\n",
       " 'whiskers': [<matplotlib.lines.Line2D at 0xc276630>,\n",
       "  <matplotlib.lines.Line2D at 0xc276c18>,\n",
       "  <matplotlib.lines.Line2D at 0xc293d30>,\n",
       "  <matplotlib.lines.Line2D at 0xc29f2e8>,\n",
       "  <matplotlib.lines.Line2D at 0xc2fd400>,\n",
       "  <matplotlib.lines.Line2D at 0xc2fd978>,\n",
       "  <matplotlib.lines.Line2D at 0xc318a90>,\n",
       "  <matplotlib.lines.Line2D at 0xc325048>,\n",
       "  <matplotlib.lines.Line2D at 0xc053588>,\n",
       "  <matplotlib.lines.Line2D at 0xc053160>]}"
      ]
     },
     "execution_count": 28,
     "metadata": {},
     "output_type": "execute_result"
    },
    {
     "data": {
      "image/png": "[encoded data removed]",
      "text/plain": [
       "<matplotlib.figure.Figure at 0xbea4a90>"
      ]
     },
     "metadata": {},
     "output_type": "display_data"
    }
   ],
   "source": [
    "sdf_1.boxplot()"
   ]
  },
  {
   "cell_type": "code",
   "execution_count": 29,
   "metadata": {
    "collapsed": false
   },
   "outputs": [
    {
     "data": {
      "text/html": [
       "<div>\n",
       "<table border=\"1\" class=\"dataframe\">\n",
       "  <thead>\n",
       "    <tr style=\"text-align: right;\">\n",
       "      <th></th>\n",
       "      <th>temp</th>\n",
       "      <th>RH</th>\n",
       "      <th>wind</th>\n",
       "      <th>rain</th>\n",
       "      <th>area</th>\n",
       "    </tr>\n",
       "  </thead>\n",
       "  <tbody>\n",
       "    <tr>\n",
       "      <th>count</th>\n",
       "      <td>257.000000</td>\n",
       "      <td>257.00000</td>\n",
       "      <td>257.000000</td>\n",
       "      <td>257.000000</td>\n",
       "      <td>257.000000</td>\n",
       "    </tr>\n",
       "    <tr>\n",
       "      <th>mean</th>\n",
       "      <td>18.517121</td>\n",
       "      <td>44.88716</td>\n",
       "      <td>3.900389</td>\n",
       "      <td>0.013230</td>\n",
       "      <td>0.010450</td>\n",
       "    </tr>\n",
       "    <tr>\n",
       "      <th>std</th>\n",
       "      <td>5.283718</td>\n",
       "      <td>17.31732</td>\n",
       "      <td>1.671229</td>\n",
       "      <td>0.098326</td>\n",
       "      <td>0.055369</td>\n",
       "    </tr>\n",
       "    <tr>\n",
       "      <th>min</th>\n",
       "      <td>4.200000</td>\n",
       "      <td>15.00000</td>\n",
       "      <td>0.900000</td>\n",
       "      <td>0.000000</td>\n",
       "      <td>0.000000</td>\n",
       "    </tr>\n",
       "    <tr>\n",
       "      <th>25%</th>\n",
       "      <td>15.400000</td>\n",
       "      <td>33.00000</td>\n",
       "      <td>2.700000</td>\n",
       "      <td>0.000000</td>\n",
       "      <td>0.000000</td>\n",
       "    </tr>\n",
       "    <tr>\n",
       "      <th>50%</th>\n",
       "      <td>18.700000</td>\n",
       "      <td>42.00000</td>\n",
       "      <td>3.600000</td>\n",
       "      <td>0.000000</td>\n",
       "      <td>0.000000</td>\n",
       "    </tr>\n",
       "    <tr>\n",
       "      <th>75%</th>\n",
       "      <td>21.700000</td>\n",
       "      <td>54.00000</td>\n",
       "      <td>5.400000</td>\n",
       "      <td>0.000000</td>\n",
       "      <td>0.000000</td>\n",
       "    </tr>\n",
       "    <tr>\n",
       "      <th>max</th>\n",
       "      <td>32.400000</td>\n",
       "      <td>100.00000</td>\n",
       "      <td>8.500000</td>\n",
       "      <td>1.000000</td>\n",
       "      <td>0.385262</td>\n",
       "    </tr>\n",
       "  </tbody>\n",
       "</table>\n",
       "</div>"
      ],
      "text/plain": [
       "             temp         RH        wind        rain        area\n",
       "count  257.000000  257.00000  257.000000  257.000000  257.000000\n",
       "mean    18.517121   44.88716    3.900389    0.013230    0.010450\n",
       "std      5.283718   17.31732    1.671229    0.098326    0.055369\n",
       "min      4.200000   15.00000    0.900000    0.000000    0.000000\n",
       "25%     15.400000   33.00000    2.700000    0.000000    0.000000\n",
       "50%     18.700000   42.00000    3.600000    0.000000    0.000000\n",
       "75%     21.700000   54.00000    5.400000    0.000000    0.000000\n",
       "max     32.400000  100.00000    8.500000    1.000000    0.385262"
      ]
     },
     "execution_count": 29,
     "metadata": {},
     "output_type": "execute_result"
    }
   ],
   "source": [
    "sdf_2.describe()"
   ]
  },
  {
   "cell_type": "code",
   "execution_count": 30,
   "metadata": {
    "collapsed": false,
    "scrolled": true
   },
   "outputs": [
    {
     "name": "stderr",
     "output_type": "stream",
     "text": [
      "C:\\Program Files\\Anaconda2\\lib\\site-packages\\ipykernel\\__main__.py:1: FutureWarning: \n",
      "The default value for 'return_type' will change to 'axes' in a future release.\n",
      " To use the future behavior now, set return_type='axes'.\n",
      " To keep the previous behavior and silence this warning, set return_type='dict'.\n",
      "  if __name__ == '__main__':\n"
     ]
    },
    {
     "data": {
      "text/plain": [
       "{'boxes': [<matplotlib.lines.Line2D at 0xc417b38>,\n",
       "  <matplotlib.lines.Line2D at 0xc433e48>,\n",
       "  <matplotlib.lines.Line2D at 0xd3f3518>,\n",
       "  <matplotlib.lines.Line2D at 0xd40eba8>,\n",
       "  <matplotlib.lines.Line2D at 0xd435278>],\n",
       " 'caps': [<matplotlib.lines.Line2D at 0xc427710>,\n",
       "  <matplotlib.lines.Line2D at 0xc427e10>,\n",
       "  <matplotlib.lines.Line2D at 0xd3d8f28>,\n",
       "  <matplotlib.lines.Line2D at 0xd3e54e0>,\n",
       "  <matplotlib.lines.Line2D at 0xd4005f8>,\n",
       "  <matplotlib.lines.Line2D at 0xd400b70>,\n",
       "  <matplotlib.lines.Line2D at 0xd41cc88>,\n",
       "  <matplotlib.lines.Line2D at 0xd428240>,\n",
       "  <matplotlib.lines.Line2D at 0xd442358>,\n",
       "  <matplotlib.lines.Line2D at 0xd4428d0>],\n",
       " 'fliers': [<matplotlib.lines.Line2D at 0xc433940>,\n",
       "  <matplotlib.lines.Line2D at 0xd3e5fd0>,\n",
       "  <matplotlib.lines.Line2D at 0xd40e6a0>,\n",
       "  <matplotlib.lines.Line2D at 0xd428d30>,\n",
       "  <matplotlib.lines.Line2D at 0xd453400>],\n",
       " 'means': [],\n",
       " 'medians': [<matplotlib.lines.Line2D at 0xc4333c8>,\n",
       "  <matplotlib.lines.Line2D at 0xd3e5a58>,\n",
       "  <matplotlib.lines.Line2D at 0xd40e128>,\n",
       "  <matplotlib.lines.Line2D at 0xd4287b8>,\n",
       "  <matplotlib.lines.Line2D at 0xd442e48>],\n",
       " 'whiskers': [<matplotlib.lines.Line2D at 0xc417cf8>,\n",
       "  <matplotlib.lines.Line2D at 0xc427320>,\n",
       "  <matplotlib.lines.Line2D at 0xd3d8438>,\n",
       "  <matplotlib.lines.Line2D at 0xd3d89b0>,\n",
       "  <matplotlib.lines.Line2D at 0xd3f3ac8>,\n",
       "  <matplotlib.lines.Line2D at 0xd400080>,\n",
       "  <matplotlib.lines.Line2D at 0xd41c198>,\n",
       "  <matplotlib.lines.Line2D at 0xd41c710>,\n",
       "  <matplotlib.lines.Line2D at 0xd435828>,\n",
       "  <matplotlib.lines.Line2D at 0xd435da0>]}"
      ]
     },
     "execution_count": 30,
     "metadata": {},
     "output_type": "execute_result"
    },
    {
     "data": {
      "image/png": "[encoded data removed]",
      "text/plain": [
       "<matplotlib.figure.Figure at 0xc0f9710>"
      ]
     },
     "metadata": {},
     "output_type": "display_data"
    }
   ],
   "source": [
    "sdf_2.boxplot()"
   ]
  },
  {
   "cell_type": "markdown",
   "metadata": {},
   "source": [
    "- 전체 데이터 중 wind의 최대수치가 sdf_1에 있고, 평균값이 sdf_1이 더 높은것으로 보아 바람이 더 많이 불수록 화재 피해 범위가 커지는것으로 판단된다.\n",
    "- RH값들은 대체로 유사하나, 이상적으로 높은 수치들이 sdf_2의 분류에서 더 많이 기록된 것으로 보아 습도가 이상적으로 높을 경우에, 화재 피해 범위는 작아저는것으로 판단된다. "
   ]
  },
  {
   "cell_type": "markdown",
   "metadata": {},
   "source": [
    "## [Mission 5] 가장 영향이 높은 속성을 선택하여 단일변수 선형 회귀분석 수행"
   ]
  },
  {
   "cell_type": "code",
   "execution_count": 31,
   "metadata": {
    "collapsed": false,
    "scrolled": false
   },
   "outputs": [
    {
     "name": "stdout",
     "output_type": "stream",
     "text": [
      "   FFMC   DMC     DC  ISI  temp  RH  wind  rain  area\n",
      "0  86.2  26.2   94.3  5.1   8.2  51   6.7   0.0   0.0\n",
      "1  90.6  35.4  669.1  6.7  18.0  33   0.9   0.0   0.0\n",
      "2  90.6  43.7  686.9  6.7  14.6  33   1.3   0.0   0.0\n",
      "3  91.7  33.3   77.5  9.0   8.3  97   4.0   0.2   0.0\n",
      "4  89.3  51.3  102.2  9.6  11.4  99   1.8   0.0   0.0\n",
      "\n",
      "     FFMC    DMC     DC   ISI  temp  RH  wind  rain      area\n",
      "140  90.9  126.5  686.5   7.0  21.9  39   1.8   0.0  0.385262\n",
      "141  95.5   99.9  513.3  13.2  23.3  31   4.5   0.0  0.438255\n",
      "142  90.1  108.0  529.8  12.5  21.2  51   8.9   0.0  0.476234\n",
      "143  90.0   51.3  296.3   8.7  16.6  53   5.4   0.0  0.536493\n",
      "144  95.5   99.9  513.3  13.2  23.8  32   5.4   0.0  0.570980\n"
     ]
    }
   ],
   "source": [
    "sdf = df[['FFMC', 'DMC', 'DC', 'ISI', 'temp', 'RH', 'wind', 'rain', 'area']]\n",
    "log1p_val = np.log1p(sdf['area'])\n",
    "sdf.loc[:, 'area'] = log1p_val\n",
    "print sdf.head()\n",
    "print\n",
    "print sdf[140:145]"
   ]
  },
  {
   "cell_type": "markdown",
   "metadata": {},
   "source": [
    "#### 상관계수 계산"
   ]
  },
  {
   "cell_type": "code",
   "execution_count": 32,
   "metadata": {
    "collapsed": false
   },
   "outputs": [
    {
     "name": "stdout",
     "output_type": "stream",
     "text": [
      "0.0401220041586\n",
      "0.0729942962511\n",
      "0.0493832252989\n",
      "0.00825768784123\n",
      "0.0978441073417\n",
      "-0.0755185634699\n",
      "0.0123172768887\n",
      "-0.00736572927929\n"
     ]
    }
   ],
   "source": [
    "print np.corrcoef(df['FFMC'],df['area'])[0][1]\n",
    "print np.corrcoef(df['DMC'],df['area'])[0][1]\n",
    "print np.corrcoef(df['DC'],df['area'])[0][1]\n",
    "print np.corrcoef(df['ISI'],df['area'])[0][1]\n",
    "print np.corrcoef(df['temp'],df['area'])[0][1]\n",
    "print np.corrcoef(df['RH'],df['area'])[0][1]\n",
    "print np.corrcoef(df['wind'],df['area'])[0][1]\n",
    "print np.corrcoef(df['rain'],df['area'])[0][1]"
   ]
  },
  {
   "cell_type": "markdown",
   "metadata": {},
   "source": [
    "- 상관계수 값이 temp가 약 0.09로 가장 큰 값을 보임"
   ]
  },
  {
   "cell_type": "markdown",
   "metadata": {},
   "source": [
    "#### 선형 회귀 분석을 위한 scipy 모듈 import"
   ]
  },
  {
   "cell_type": "code",
   "execution_count": 33,
   "metadata": {
    "collapsed": true
   },
   "outputs": [],
   "source": [
    "from scipy import stats\n",
    "from pandas import Series, DataFrame\n",
    "import pandas as pd\n",
    "import matplotlib.pyplot as plt\n",
    "import numpy as np\n",
    "import scipy\n",
    "%matplotlib inline"
   ]
  },
  {
   "cell_type": "code",
   "execution_count": 34,
   "metadata": {
    "collapsed": true
   },
   "outputs": [],
   "source": [
    "slope, intercept, r_value, p_value, std_err = stats.linregress(sdf['temp'].values, df['area'].values)"
   ]
  },
  {
   "cell_type": "code",
   "execution_count": 35,
   "metadata": {
    "collapsed": false
   },
   "outputs": [
    {
     "name": "stdout",
     "output_type": "stream",
     "text": [
      "                                   slope: 1.0726276211\n",
      "                               intercept: -7.4137515648\n",
      "       r_value (Correlation Coefficient): 0.0978441073\n",
      "r-squared (Coefficient of Determination): 0.0095734693\n",
      "           p_value (Hyperthesis Testing): 0.0261014606\n",
      "                std_err (Standard Error): 0.4807527963\n"
     ]
    }
   ],
   "source": [
    "format = \"%40s: %12.10f\"\n",
    "print format % (\"slope\", slope)\n",
    "print format % (\"intercept\", intercept)\n",
    "print format % (\"r_value (Correlation Coefficient)\", r_value)\n",
    "print format % (\"r-squared (Coefficient of Determination)\", r_value**2)\n",
    "print format % (\"p_value (Hyperthesis Testing)\", p_value)\n",
    "print format % (\"std_err (Standard Error)\", std_err)"
   ]
  },
  {
   "cell_type": "markdown",
   "metadata": {},
   "source": [
    "- 선형 회귀 분석 방정식은 \\\\(y= intercept + slope * x \\\\)\n",
    "    - 타겟 데이터에서의 식은  \\\\(y(area) = -7.4137515648 + 1.0726276211 * x(temp)\\\\)"
   ]
  },
  {
   "cell_type": "markdown",
   "metadata": {},
   "source": [
    "## [Mission 6] 가장 영향이 높은 요인 두 개로 다변수 선형 회귀분석 수행"
   ]
  },
  {
   "cell_type": "markdown",
   "metadata": {},
   "source": [
    "- 선형 회귀분석 성능이 좋은지 자신의 의견을 제시하시오"
   ]
  },
  {
   "cell_type": "markdown",
   "metadata": {},
   "source": [
    "#### sklearn 모듈을 활용한 다중 변수 선형 회귀 사용"
   ]
  },
  {
   "cell_type": "code",
   "execution_count": 36,
   "metadata": {
    "collapsed": false
   },
   "outputs": [],
   "source": [
    "from sklearn import linear_model\n",
    "regr = linear_model.LinearRegression()"
   ]
  },
  {
   "cell_type": "code",
   "execution_count": 37,
   "metadata": {
    "collapsed": false
   },
   "outputs": [
    {
     "name": "stdout",
     "output_type": "stream",
     "text": [
      "0.0401220041586\n",
      "0.0729942962511\n",
      "0.0493832252989\n",
      "0.00825768784123\n",
      "0.0978441073417\n",
      "-0.0755185634699\n",
      "0.0123172768887\n",
      "-0.00736572927929\n"
     ]
    }
   ],
   "source": [
    "print np.corrcoef(df['FFMC'],df['area'])[0][1]\n",
    "print np.corrcoef(df['DMC'],df['area'])[0][1]\n",
    "print np.corrcoef(df['DC'],df['area'])[0][1]\n",
    "print np.corrcoef(df['ISI'],df['area'])[0][1]\n",
    "print np.corrcoef(df['temp'],df['area'])[0][1]\n",
    "print np.corrcoef(df['RH'],df['area'])[0][1]\n",
    "print np.corrcoef(df['wind'],df['area'])[0][1]\n",
    "print np.corrcoef(df['rain'],df['area'])[0][1]"
   ]
  },
  {
   "cell_type": "markdown",
   "metadata": {},
   "source": [
    "Mission5에서의 상관계수 계산 결과에 따르면 temp가 가장 계수가 높고, 그 다음은 DMC로 나타남(약 0.73)"
   ]
  },
  {
   "cell_type": "code",
   "execution_count": 38,
   "metadata": {
    "collapsed": false
   },
   "outputs": [
    {
     "data": {
      "text/html": [
       "<div>\n",
       "<table border=\"1\" class=\"dataframe\">\n",
       "  <thead>\n",
       "    <tr style=\"text-align: right;\">\n",
       "      <th></th>\n",
       "      <th>DMC</th>\n",
       "      <th>temp</th>\n",
       "    </tr>\n",
       "  </thead>\n",
       "  <tbody>\n",
       "    <tr>\n",
       "      <th>0</th>\n",
       "      <td>26.2</td>\n",
       "      <td>8.2</td>\n",
       "    </tr>\n",
       "    <tr>\n",
       "      <th>1</th>\n",
       "      <td>35.4</td>\n",
       "      <td>18.0</td>\n",
       "    </tr>\n",
       "    <tr>\n",
       "      <th>2</th>\n",
       "      <td>43.7</td>\n",
       "      <td>14.6</td>\n",
       "    </tr>\n",
       "    <tr>\n",
       "      <th>3</th>\n",
       "      <td>33.3</td>\n",
       "      <td>8.3</td>\n",
       "    </tr>\n",
       "    <tr>\n",
       "      <th>4</th>\n",
       "      <td>51.3</td>\n",
       "      <td>11.4</td>\n",
       "    </tr>\n",
       "  </tbody>\n",
       "</table>\n",
       "</div>"
      ],
      "text/plain": [
       "    DMC  temp\n",
       "0  26.2   8.2\n",
       "1  35.4  18.0\n",
       "2  43.7  14.6\n",
       "3  33.3   8.3\n",
       "4  51.3  11.4"
      ]
     },
     "execution_count": 38,
     "metadata": {},
     "output_type": "execute_result"
    }
   ],
   "source": [
    "sdf[['DMC','temp']].head()"
   ]
  },
  {
   "cell_type": "code",
   "execution_count": 39,
   "metadata": {
    "collapsed": false
   },
   "outputs": [
    {
     "name": "stdout",
     "output_type": "stream",
     "text": [
      "[(26.199999999999999, 8.1999999999999993), (35.399999999999999, 18.0), (43.700000000000003, 14.6), (33.299999999999997, 8.3000000000000007), (51.299999999999997, 11.4), (85.299999999999997, 22.199999999999999), (88.900000000000006, 24.100000000000001), (145.40000000000001, 8.0), (129.5, 13.1), (88.0, 22.800000000000001), (88.0, 17.800000000000001), (73.200000000000003, 19.300000000000001), (70.799999999999997, 17.0), (126.5, 21.300000000000001), (133.30000000000001, 26.399999999999999), (141.19999999999999, 22.899999999999999), (35.799999999999997, 15.1), (32.799999999999997, 16.699999999999999), (27.899999999999999, 15.9), (27.399999999999999, 9.3000000000000007), (129.5, 18.300000000000001), (78.5, 19.100000000000001), (96.299999999999997, 21.0), (110.90000000000001, 19.5), (139.40000000000001, 23.699999999999999), (142.40000000000001, 16.300000000000001), (117.90000000000001, 19.0), (126.5, 19.399999999999999), (145.40000000000001, 30.199999999999999), (149.30000000000001, 22.800000000000001), (85.099999999999994, 25.399999999999999), (91.799999999999997, 11.199999999999999), (69.700000000000003, 20.600000000000001), (75.599999999999994, 17.699999999999999), (78.5, 21.199999999999999), (80.700000000000003, 18.199999999999999), (35.399999999999999, 21.699999999999999), (41.5, 11.300000000000001), (43.700000000000003, 17.800000000000001), (25.699999999999999, 14.1), (60.600000000000001, 23.300000000000001), (96.900000000000006, 18.399999999999999), (108.3, 16.600000000000001), (88.0, 19.600000000000001), (82.900000000000006, 12.9), (85.099999999999994, 25.899999999999999), (126.5, 14.699999999999999), (62.299999999999997, 23.0), (23.899999999999999, 11.800000000000001), (52.200000000000003, 11.0), (137.0, 20.800000000000001), (99.599999999999994, 21.5), (111.2, 20.399999999999999), (111.2, 20.399999999999999), (114.3, 17.600000000000001), (137.0, 27.699999999999999), (80.700000000000003, 17.800000000000001), (46.5, 13.800000000000001), (9.3000000000000007, 13.9), (13.199999999999999, 12.300000000000001), (51.299999999999997, 11.5), (51.299999999999997, 5.5), (75.299999999999997, 18.800000000000001), (99.599999999999994, 20.800000000000001), (103.2, 23.100000000000001), (114.3, 18.600000000000001), (117.90000000000001, 23.0), (117.90000000000001, 19.600000000000001), (117.90000000000001, 19.600000000000001), (33.299999999999997, 17.199999999999999), (48.299999999999997, 15.800000000000001), (85.099999999999994, 17.699999999999999), (33.299999999999997, 15.6), (147.30000000000001, 17.300000000000001), (141.19999999999999, 27.600000000000001), (6.7999999999999998, 6.7000000000000002), (13.199999999999999, 15.699999999999999), (52.200000000000003, 8.3000000000000007), (108.0, 14.699999999999999), (121.2, 21.600000000000001), (142.40000000000001, 19.5), (99.599999999999994, 17.899999999999999), (108.3, 18.600000000000001), (111.2, 16.600000000000001), (114.3, 20.199999999999999), (137.0, 21.5), (137.0, 25.399999999999999), (137.0, 22.399999999999999), (149.30000000000001, 25.300000000000001), (35.799999999999997, 17.399999999999999), (96.900000000000006, 14.699999999999999), (35.799999999999997, 17.399999999999999), (85.299999999999997, 20.800000000000001), (142.40000000000001, 18.199999999999999), (103.2, 23.399999999999999), (90.0, 17.800000000000001), (8.0, 12.699999999999999), (2.3999999999999999, 17.399999999999999), (142.40000000000001, 11.6), (142.40000000000001, 19.800000000000001), (142.40000000000001, 19.800000000000001), (147.30000000000001, 14.4), (108.3, 20.100000000000001), (121.09999999999999, 24.100000000000001), (3.7000000000000002, 5.2999999999999998), (19.5, 12.699999999999999), (30.699999999999999, 18.199999999999999), (99.599999999999994, 21.399999999999999), (88.0, 20.300000000000001), (91.799999999999997, 17.399999999999999), (19.5, 13.699999999999999), (33.299999999999997, 18.800000000000001), (90.0, 22.800000000000001), (78.5, 18.899999999999999), (25.699999999999999, 15.800000000000001), (25.699999999999999, 15.5), (35.799999999999997, 11.6), (35.799999999999997, 15.199999999999999), (39.700000000000003, 10.6), (75.299999999999997, 19.600000000000001), (145.40000000000001, 10.300000000000001), (145.40000000000001, 17.100000000000001), (124.09999999999999, 22.5), (73.400000000000006, 17.899999999999999), (85.099999999999994, 19.800000000000001), (46.5, 20.600000000000001), (52.200000000000003, 9.0), (149.30000000000001, 17.199999999999999), (37.899999999999999, 15.9), (46.5, 15.4), (21.5, 15.4), (23.899999999999999, 14.0), (51.299999999999997, 10.6), (80.900000000000006, 17.600000000000001), (25.699999999999999, 14.9), (139.40000000000001, 17.600000000000001), (124.09999999999999, 17.199999999999999), (126.5, 15.6), (48.299999999999997, 18.0), (129.5, 21.699999999999999), (126.5, 21.899999999999999), (99.900000000000006, 23.300000000000001), (108.0, 21.199999999999999), (51.299999999999997, 16.600000000000001), (99.900000000000006, 23.800000000000001), (131.69999999999999, 27.399999999999999), (39.700000000000003, 13.199999999999999), (73.400000000000006, 24.199999999999999), (108.3, 17.399999999999999), (80.900000000000006, 23.699999999999999), (56.399999999999999, 23.199999999999999), (68.599999999999994, 24.800000000000001), (51.200000000000003, 24.600000000000001), (85.099999999999994, 20.100000000000001), (145.40000000000001, 29.600000000000001), (108.3, 16.399999999999999), (145.40000000000001, 28.600000000000001), (111.2, 18.399999999999999), (111.2, 20.5), (117.90000000000001, 19.0), (39.700000000000003, 16.100000000000001), (131.69999999999999, 20.300000000000001), (50.100000000000001, 15.199999999999999), (121.09999999999999, 17.800000000000001), (90.0, 17.800000000000001), (18.199999999999999, 5.2999999999999998), (111.2, 16.600000000000001), (127.09999999999999, 23.399999999999999), (48.299999999999997, 14.6), (131.69999999999999, 20.699999999999999), (133.30000000000001, 21.899999999999999), (90.400000000000006, 17.399999999999999), (142.40000000000001, 20.100000000000001), (126.5, 17.699999999999999), (96.900000000000006, 14.199999999999999), (96.900000000000006, 20.300000000000001), (9.0999999999999996, 5.7999999999999998), (99.599999999999994, 19.199999999999999), (82.900000000000006, 18.300000000000001), (147.30000000000001, 14.4), (124.09999999999999, 23.899999999999999), (32.799999999999997, 19.100000000000001), (15.6, 12.4), (48.5, 16.800000000000001), (135.69999999999999, 20.800000000000001), (129.5, 17.600000000000001), (51.299999999999997, 11.5), (126.5, 21.0), (41.899999999999999, 13.300000000000001), (44.0, 11.5), (48.299999999999997, 11.699999999999999), (131.69999999999999, 24.199999999999999), (108.3, 24.600000000000001), (133.30000000000001, 24.300000000000001), (108.3, 24.600000000000001), (135.69999999999999, 23.5), (9.0999999999999996, 5.7999999999999998), (137.0, 21.5), (129.5, 13.9), (70.799999999999997, 22.600000000000001), (129.5, 21.600000000000001), (37.600000000000001, 12.4), (8.6999999999999993, 8.8000000000000007), (37.899999999999999, 20.199999999999999), (50.100000000000001, 15.1), (137.0, 22.100000000000001), (139.40000000000001, 22.899999999999999), (129.5, 20.699999999999999), (117.90000000000001, 19.600000000000001), (80.900000000000006, 23.199999999999999), (43.700000000000003, 18.399999999999999), (139.40000000000001, 5.0999999999999996), (85.099999999999994, 20.100000000000001), (52.200000000000003, 11.0), (35.799999999999997, 17.0), (35.799999999999997, 17.0), (124.09999999999999, 16.899999999999999), (91.799999999999997, 12.4), (133.30000000000001, 19.399999999999999), (39.700000000000003, 15.199999999999999), (99.599999999999994, 16.199999999999999), (141.19999999999999, 18.600000000000001), (52.200000000000003, 11.0), (150.30000000000001, 13.4), (82.900000000000006, 15.4), (149.30000000000001, 22.899999999999999), (48.5, 16.100000000000001), (81.799999999999997, 20.100000000000001), (149.30000000000001, 28.300000000000001), (81.799999999999997, 16.399999999999999), (133.30000000000001, 26.399999999999999), (149.30000000000001, 27.800000000000001), (129.5, 18.699999999999999), (73.400000000000006, 24.300000000000001), (121.09999999999999, 17.699999999999999), (142.40000000000001, 19.600000000000001), (121.09999999999999, 18.199999999999999), (129.5, 18.800000000000001), (121.09999999999999, 25.100000000000001), (3.0, 13.4), (17.199999999999999, 15.199999999999999), (23.300000000000001, 16.699999999999999), (122.3, 15.4), (175.09999999999999, 21.899999999999999), (175.09999999999999, 22.399999999999999), (175.09999999999999, 26.800000000000001), (175.09999999999999, 25.699999999999999), (91.599999999999994, 20.699999999999999), (157.30000000000001, 28.699999999999999), (157.30000000000001, 21.699999999999999), (157.30000000000001, 26.800000000000001), (157.30000000000001, 24.0), (157.30000000000001, 22.100000000000001), (109.2, 21.399999999999999), (138.09999999999999, 18.899999999999999), (77.0, 22.300000000000001), (117.2, 23.899999999999999), (117.2, 21.399999999999999), (170.90000000000001, 20.600000000000001), (170.90000000000001, 23.699999999999999), (97.900000000000006, 28.300000000000001), (112.40000000000001, 11.199999999999999), (112.40000000000001, 21.399999999999999), (141.09999999999999, 19.300000000000001), (167.59999999999999, 21.800000000000001), (102.2, 22.100000000000001), (131.69999999999999, 19.399999999999999), (152.59999999999999, 23.699999999999999), (152.59999999999999, 21.0), (152.59999999999999, 19.100000000000001), (152.59999999999999, 21.800000000000001), (152.59999999999999, 20.100000000000001), (152.59999999999999, 20.199999999999999), (27.199999999999999, 4.7999999999999998), (27.800000000000001, 5.0999999999999996), (26.399999999999999, 5.0999999999999996), (25.399999999999999, 4.5999999999999996), (25.399999999999999, 4.5999999999999996), (25.399999999999999, 4.5999999999999996), (25.399999999999999, 4.5999999999999996), (26.699999999999999, 2.2000000000000002), (25.399999999999999, 5.0999999999999996), (27.5, 4.2000000000000002), (6.5999999999999996, 8.8000000000000007), (4.9000000000000004, 7.5), (169.69999999999999, 23.399999999999999), (183.09999999999999, 12.6), (104.2, 22.100000000000001), (104.2, 24.199999999999999), (104.2, 24.300000000000001), (104.2, 18.699999999999999), (104.2, 25.300000000000001), (100.2, 22.899999999999999), (180.40000000000001, 26.899999999999999), (88.799999999999997, 17.100000000000001), (180.40000000000001, 22.199999999999999), (89.5, 14.300000000000001), (89.5, 15.4), (147.80000000000001, 19.600000000000001), (71.0, 10.6), (93.299999999999997, 20.699999999999999), (93.299999999999997, 19.100000000000001), (94.099999999999994, 19.199999999999999), (94.099999999999994, 19.199999999999999), (28.0, 11.300000000000001), (84.099999999999994, 19.0), (84.099999999999994, 17.100000000000001), (84.099999999999994, 23.800000000000001), (105.8, 16.0), (105.8, 24.899999999999999), (105.8, 25.300000000000001), (105.8, 24.800000000000001), (46.200000000000003, 12.199999999999999), (115.40000000000001, 24.300000000000001), (115.40000000000001, 19.699999999999999), (134.69999999999999, 18.5), (96.200000000000003, 18.600000000000001), (96.200000000000003, 19.199999999999999), (119.0, 21.600000000000001), (119.0, 21.600000000000001), (119.0, 18.899999999999999), (119.0, 16.800000000000001), (119.0, 16.800000000000001), (136.90000000000001, 12.9), (53.299999999999997, 13.699999999999999), (102.3, 24.199999999999999), (102.3, 24.100000000000001), (102.3, 21.199999999999999), (102.3, 19.699999999999999), (102.3, 23.5), (102.3, 24.199999999999999), (124.40000000000001, 21.5), (124.40000000000001, 17.100000000000001), (87.700000000000003, 18.100000000000001), (108.40000000000001, 18.0), (108.40000000000001, 9.8000000000000007), (108.40000000000001, 19.300000000000001), (108.40000000000001, 23.0), (108.40000000000001, 22.699999999999999), (108.40000000000001, 20.399999999999999), (108.40000000000001, 19.300000000000001), (111.7, 15.699999999999999), (130.09999999999999, 20.600000000000001), (130.09999999999999, 15.9), (130.09999999999999, 12.199999999999999), (130.09999999999999, 16.800000000000001), (130.09999999999999, 21.300000000000001), (99.0, 10.1), (99.0, 17.399999999999999), (99.0, 12.800000000000001), (99.0, 10.1), (99.0, 15.4), (99.0, 20.600000000000001), (99.0, 19.800000000000001), (99.0, 18.699999999999999), (99.0, 20.800000000000001), (99.0, 20.800000000000001), (122.0, 15.9), (122.0, 19.699999999999999), (122.0, 21.100000000000001), (122.0, 18.399999999999999), (122.0, 17.300000000000001), (55.200000000000003, 15.199999999999999), (111.7, 15.9), (111.7, 21.100000000000001), (111.7, 19.600000000000001), (132.30000000000001, 15.9), (132.30000000000001, 16.399999999999999), (94.299999999999997, 16.800000000000001), (276.30000000000001, 13.800000000000001), (276.30000000000001, 13.800000000000001), (133.59999999999999, 14.199999999999999), (203.19999999999999, 10.4), (222.40000000000001, 20.300000000000001), (290.0, 10.300000000000001), (94.299999999999997, 15.4), (207.0, 21.100000000000001), (231.09999999999999, 21.899999999999999), (18.899999999999999, 8.6999999999999993), (1.1000000000000001, 5.2000000000000002), (101.3, 19.300000000000001), (194.09999999999999, 16.199999999999999), (217.69999999999999, 28.199999999999999), (248.40000000000001, 20.5), (273.80000000000001, 21.300000000000001), (181.30000000000001, 20.899999999999999), (96.700000000000003, 20.600000000000001), (18.899999999999999, 11.6), (227.0, 23.300000000000001), (227.0, 23.300000000000001), (9.5, 7.5), (91.299999999999997, 20.699999999999999), (276.30000000000001, 21.899999999999999), (15.0, 15.199999999999999), (4.5999999999999996, 5.2999999999999998), (9.0, 10.1), (96.700000000000003, 20.399999999999999), (181.30000000000001, 24.300000000000001), (231.09999999999999, 25.899999999999999), (49.5, 28.0), (49.5, 28.0), (88.200000000000003, 22.800000000000001), (227.0, 25.0), (194.09999999999999, 21.300000000000001), (84.799999999999997, 21.800000000000001), (212.09999999999999, 27.899999999999999), (291.30000000000001, 17.0), (8.1999999999999993, 14.199999999999999), (290.0, 19.899999999999999), (96.200000000000003, 23.399999999999999), (7.2999999999999998, 14.699999999999999), (3.2000000000000002, 8.1999999999999993), (92.099999999999994, 22.800000000000001), (231.09999999999999, 26.399999999999999), (235.09999999999999, 24.100000000000001), (222.40000000000001, 27.5), (164.09999999999999, 26.300000000000001), (17.300000000000001, 13.800000000000001), (203.19999999999999, 24.899999999999999), (181.30000000000001, 24.800000000000001), (191.40000000000001, 26.199999999999999), (217.69999999999999, 30.800000000000001), (263.10000000000002, 29.300000000000001), (94.299999999999997, 22.300000000000001), (231.09999999999999, 26.899999999999999), (248.40000000000001, 20.399999999999999), (248.40000000000001, 20.399999999999999), (207.0, 27.899999999999999), (222.40000000000001, 26.199999999999999), (181.30000000000001, 24.600000000000001), (287.19999999999999, 19.399999999999999), (178.0, 23.300000000000001), (222.40000000000001, 23.899999999999999), (235.09999999999999, 20.899999999999999), (269.80000000000001, 22.199999999999999), (84.700000000000003, 23.800000000000001), (207.0, 26.800000000000001), (253.59999999999999, 14.199999999999999), (231.09999999999999, 23.600000000000001), (91.299999999999997, 19.100000000000001), (290.0, 16.199999999999999), (207.0, 25.5), (24.899999999999999, 10.9), (80.900000000000006, 14.800000000000001), (290.0, 16.199999999999999), (47.899999999999999, 17.300000000000001), (203.19999999999999, 19.100000000000001), (17.300000000000001, 8.9000000000000004), (284.89999999999998, 10.5), (181.30000000000001, 19.300000000000001), (217.69999999999999, 23.399999999999999), (196.80000000000001, 11.800000000000001), (238.19999999999999, 17.699999999999999), (266.19999999999999, 17.399999999999999), (248.40000000000001, 16.800000000000001), (160.0, 17.899999999999999), (248.40000000000001, 16.600000000000001), (191.40000000000001, 19.899999999999999), (231.09999999999999, 18.899999999999999), (273.80000000000001, 15.5), (231.09999999999999, 18.899999999999999), (231.09999999999999, 18.899999999999999), (276.30000000000001, 14.5), (4.4000000000000004, 4.5999999999999996), (4.4000000000000004, 5.0999999999999996), (3.6000000000000001, 4.5999999999999996), (15.1, 10.199999999999999), (18.5, 11.199999999999999), (20.600000000000001, 13.300000000000001), (14.6, 13.699999999999999), (14.6, 17.600000000000001), (25.399999999999999, 18.0), (96.200000000000003, 14.300000000000001), (61.100000000000001, 24.5), (103.8, 26.399999999999999), (121.7, 22.699999999999999), (85.299999999999997, 27.199999999999999), (101.3, 26.100000000000001), (101.3, 18.199999999999999), (103.90000000000001, 22.600000000000001), (114.40000000000001, 30.199999999999999), (114.40000000000001, 30.199999999999999), (130.30000000000001, 23.399999999999999), (130.30000000000001, 31.0), (130.30000000000001, 33.100000000000001), (135.5, 30.600000000000001), (141.30000000000001, 24.100000000000001), (141.30000000000001, 26.399999999999999), (141.30000000000001, 19.399999999999999), (141.30000000000001, 20.600000000000001), (141.30000000000001, 28.699999999999999), (152.0, 32.399999999999999), (158.0, 32.399999999999999), (158.0, 27.5), (164.0, 30.800000000000001), (175.5, 23.899999999999999), (175.5, 32.600000000000001), (181.09999999999999, 32.299999999999997), (181.09999999999999, 33.299999999999997), (181.09999999999999, 27.300000000000001), (181.09999999999999, 21.600000000000001), (181.09999999999999, 21.600000000000001), (181.09999999999999, 20.699999999999999), (139.40000000000001, 29.199999999999999), (139.40000000000001, 28.899999999999999), (163.19999999999999, 26.699999999999999), (166.90000000000001, 18.5), (166.90000000000001, 25.899999999999999), (166.90000000000001, 25.899999999999999), (166.90000000000001, 21.100000000000001), (166.90000000000001, 18.199999999999999), (56.700000000000003, 27.800000000000001), (56.700000000000003, 27.800000000000001), (56.700000000000003, 21.899999999999999), (56.700000000000003, 21.199999999999999), (146.0, 25.600000000000001), (3.0, 11.800000000000001)]\n"
     ]
    }
   ],
   "source": [
    "X = zip(sdf['DMC'],sdf['temp'])\n",
    "print X\n",
    "y = sdf['area'].values"
   ]
  },
  {
   "cell_type": "code",
   "execution_count": 40,
   "metadata": {
    "collapsed": false
   },
   "outputs": [
    {
     "name": "stdout",
     "output_type": "stream",
     "text": [
      "Coefficients: [ 0.0011775   0.00678247]\n",
      "Intercept: 0.852358519604\n"
     ]
    }
   ],
   "source": [
    "regr = regr.fit(X,y)\n",
    "print 'Coefficients:', regr.coef_\n",
    "print 'Intercept:', regr.intercept_"
   ]
  },
  {
   "cell_type": "markdown",
   "metadata": {},
   "source": [
    "- 선형 회귀식  : \\\\(y = 0.8524 + (0.0012 * temp) + (0.0068 * dmc) \\\\)"
   ]
  },
  {
   "cell_type": "markdown",
   "metadata": {},
   "source": [
    "#### 선형 회귀식과 데이터 scatter plot을 합쳐 놓으면 아래와 같다 "
   ]
  },
  {
   "cell_type": "code",
   "execution_count": 41,
   "metadata": {
    "collapsed": false
   },
   "outputs": [
    {
     "data": {
      "text/plain": [
       "<mpl_toolkits.mplot3d.art3d.Poly3DCollection at 0xdd24940>"
      ]
     },
     "execution_count": 41,
     "metadata": {},
     "output_type": "execute_result"
    },
    {
     "data": {
      "image/png": "[encoded data removed]",
      "text/plain": [
       "<matplotlib.figure.Figure at 0xd878c50>"
      ]
     },
     "metadata": {},
     "output_type": "display_data"
    }
   ],
   "source": [
    "from mpl_toolkits.mplot3d import Axes3D\n",
    "fig = plt.figure(figsize=(17, 7))\n",
    "ax1 = fig.add_subplot(121, projection='3d')\n",
    "ax1.scatter(sdf['temp'], sdf['DMC'], sdf['area'])\n",
    "\n",
    "ax2 = fig.add_subplot(122, projection='3d')\n",
    "ax2.scatter(df['temp'], df['DMC'], sdf['area'])\n",
    "# create x,y\n",
    "xx, yy = np.meshgrid(range(int(df['temp'].min()), int(df['temp'].max())), range(int(df['DMC'].min()), int(df['DMC'].max())))\n",
    "# calculate corresponding z\n",
    "z = 0.8280 + 0.0036 * xx + 0.0018 * yy\n",
    "ax2.plot_surface(xx, yy, z, rstride=1, cstride=1, linewidth=0, color=\"yellow\", shade=False)"
   ]
  },
  {
   "cell_type": "markdown",
   "metadata": {},
   "source": [
    "#### 선형 회귀분석식의 평면에 포함되는 scatter가 많기는 하나, 벗어나는 경우의 수가 무시할 수 없는 만큼 있으므로, 2개 변수를 사용한 선형 회귀분석은 신뢰하기 다소 어려운 부분이 있다. "
   ]
  },
  {
   "cell_type": "markdown",
   "metadata": {},
   "source": [
    "## [Mission 7] 가장 영향이 높은 요인 두 개로 다변수 로지스틱 회귀분석 수행"
   ]
  },
  {
   "cell_type": "markdown",
   "metadata": {},
   "source": [
    "- area의 값의 편차가 너무 심하기 떄문에 그러한 편차를 줄이기 위하여 numpy.log1(자연로그) 사용\n",
    "    - Calulates log(1+x)\n",
    "    - http://docs.scipy.org/doc/numpy/reference/generated/numpy.log1p.html#numpy.log1p\n",
    "- 새로운 Categorical Variable로서 0및 1을 지니는 'fire' 컬럼 생성\n",
    "- 두 가지 부류로 나누는 기준은 log(1+area) 값이 50% percentile 이상인 것과 50 % percentile 이하인 것으로 정함\n",
    "    - log(1+area) 값이 50% percentile 이상이면 'fire' 칼럼 값이 1\n",
    "    - log(1+area) 값이 50% percentile 미만이면 'fire' 칼럼 값이 0\n",
    "- 로지스틱 회귀분석에 의한 분류의 정확도를 최종적으로 출력하시오"
   ]
  },
  {
   "cell_type": "code",
   "execution_count": 42,
   "metadata": {
    "collapsed": false
   },
   "outputs": [],
   "source": [
    "sdf = sdf.assign(fire = Series(sdf.area >= sdf.area.median() ,index=sdf.index))"
   ]
  },
  {
   "cell_type": "code",
   "execution_count": 43,
   "metadata": {
    "collapsed": false
   },
   "outputs": [
    {
     "data": {
      "text/html": [
       "<div>\n",
       "<table border=\"1\" class=\"dataframe\">\n",
       "  <thead>\n",
       "    <tr style=\"text-align: right;\">\n",
       "      <th></th>\n",
       "      <th>FFMC</th>\n",
       "      <th>DMC</th>\n",
       "      <th>DC</th>\n",
       "      <th>ISI</th>\n",
       "      <th>temp</th>\n",
       "      <th>RH</th>\n",
       "      <th>wind</th>\n",
       "      <th>rain</th>\n",
       "      <th>area</th>\n",
       "      <th>fire</th>\n",
       "    </tr>\n",
       "  </thead>\n",
       "  <tbody>\n",
       "    <tr>\n",
       "      <th>0</th>\n",
       "      <td>86.2</td>\n",
       "      <td>26.2</td>\n",
       "      <td>94.3</td>\n",
       "      <td>5.1</td>\n",
       "      <td>8.2</td>\n",
       "      <td>51</td>\n",
       "      <td>6.7</td>\n",
       "      <td>0.0</td>\n",
       "      <td>0.0</td>\n",
       "      <td>False</td>\n",
       "    </tr>\n",
       "    <tr>\n",
       "      <th>1</th>\n",
       "      <td>90.6</td>\n",
       "      <td>35.4</td>\n",
       "      <td>669.1</td>\n",
       "      <td>6.7</td>\n",
       "      <td>18.0</td>\n",
       "      <td>33</td>\n",
       "      <td>0.9</td>\n",
       "      <td>0.0</td>\n",
       "      <td>0.0</td>\n",
       "      <td>False</td>\n",
       "    </tr>\n",
       "    <tr>\n",
       "      <th>2</th>\n",
       "      <td>90.6</td>\n",
       "      <td>43.7</td>\n",
       "      <td>686.9</td>\n",
       "      <td>6.7</td>\n",
       "      <td>14.6</td>\n",
       "      <td>33</td>\n",
       "      <td>1.3</td>\n",
       "      <td>0.0</td>\n",
       "      <td>0.0</td>\n",
       "      <td>False</td>\n",
       "    </tr>\n",
       "    <tr>\n",
       "      <th>3</th>\n",
       "      <td>91.7</td>\n",
       "      <td>33.3</td>\n",
       "      <td>77.5</td>\n",
       "      <td>9.0</td>\n",
       "      <td>8.3</td>\n",
       "      <td>97</td>\n",
       "      <td>4.0</td>\n",
       "      <td>0.2</td>\n",
       "      <td>0.0</td>\n",
       "      <td>False</td>\n",
       "    </tr>\n",
       "    <tr>\n",
       "      <th>4</th>\n",
       "      <td>89.3</td>\n",
       "      <td>51.3</td>\n",
       "      <td>102.2</td>\n",
       "      <td>9.6</td>\n",
       "      <td>11.4</td>\n",
       "      <td>99</td>\n",
       "      <td>1.8</td>\n",
       "      <td>0.0</td>\n",
       "      <td>0.0</td>\n",
       "      <td>False</td>\n",
       "    </tr>\n",
       "  </tbody>\n",
       "</table>\n",
       "</div>"
      ],
      "text/plain": [
       "   FFMC   DMC     DC  ISI  temp  RH  wind  rain  area   fire\n",
       "0  86.2  26.2   94.3  5.1   8.2  51   6.7   0.0   0.0  False\n",
       "1  90.6  35.4  669.1  6.7  18.0  33   0.9   0.0   0.0  False\n",
       "2  90.6  43.7  686.9  6.7  14.6  33   1.3   0.0   0.0  False\n",
       "3  91.7  33.3   77.5  9.0   8.3  97   4.0   0.2   0.0  False\n",
       "4  89.3  51.3  102.2  9.6  11.4  99   1.8   0.0   0.0  False"
      ]
     },
     "execution_count": 43,
     "metadata": {},
     "output_type": "execute_result"
    }
   ],
   "source": [
    "sdf.head()"
   ]
  },
  {
   "cell_type": "code",
   "execution_count": 44,
   "metadata": {
    "collapsed": false
   },
   "outputs": [],
   "source": [
    "sdf['fire'] = sdf['fire'].map({False : 0, True :1})"
   ]
  },
  {
   "cell_type": "code",
   "execution_count": 45,
   "metadata": {
    "collapsed": false,
    "scrolled": false
   },
   "outputs": [
    {
     "data": {
      "text/html": [
       "<div>\n",
       "<table border=\"1\" class=\"dataframe\">\n",
       "  <thead>\n",
       "    <tr style=\"text-align: right;\">\n",
       "      <th></th>\n",
       "      <th>FFMC</th>\n",
       "      <th>DMC</th>\n",
       "      <th>DC</th>\n",
       "      <th>ISI</th>\n",
       "      <th>temp</th>\n",
       "      <th>RH</th>\n",
       "      <th>wind</th>\n",
       "      <th>rain</th>\n",
       "      <th>area</th>\n",
       "      <th>fire</th>\n",
       "    </tr>\n",
       "  </thead>\n",
       "  <tbody>\n",
       "    <tr>\n",
       "      <th>0</th>\n",
       "      <td>86.2</td>\n",
       "      <td>26.2</td>\n",
       "      <td>94.3</td>\n",
       "      <td>5.1</td>\n",
       "      <td>8.2</td>\n",
       "      <td>51</td>\n",
       "      <td>6.7</td>\n",
       "      <td>0.0</td>\n",
       "      <td>0.0</td>\n",
       "      <td>0</td>\n",
       "    </tr>\n",
       "    <tr>\n",
       "      <th>1</th>\n",
       "      <td>90.6</td>\n",
       "      <td>35.4</td>\n",
       "      <td>669.1</td>\n",
       "      <td>6.7</td>\n",
       "      <td>18.0</td>\n",
       "      <td>33</td>\n",
       "      <td>0.9</td>\n",
       "      <td>0.0</td>\n",
       "      <td>0.0</td>\n",
       "      <td>0</td>\n",
       "    </tr>\n",
       "    <tr>\n",
       "      <th>2</th>\n",
       "      <td>90.6</td>\n",
       "      <td>43.7</td>\n",
       "      <td>686.9</td>\n",
       "      <td>6.7</td>\n",
       "      <td>14.6</td>\n",
       "      <td>33</td>\n",
       "      <td>1.3</td>\n",
       "      <td>0.0</td>\n",
       "      <td>0.0</td>\n",
       "      <td>0</td>\n",
       "    </tr>\n",
       "    <tr>\n",
       "      <th>3</th>\n",
       "      <td>91.7</td>\n",
       "      <td>33.3</td>\n",
       "      <td>77.5</td>\n",
       "      <td>9.0</td>\n",
       "      <td>8.3</td>\n",
       "      <td>97</td>\n",
       "      <td>4.0</td>\n",
       "      <td>0.2</td>\n",
       "      <td>0.0</td>\n",
       "      <td>0</td>\n",
       "    </tr>\n",
       "    <tr>\n",
       "      <th>4</th>\n",
       "      <td>89.3</td>\n",
       "      <td>51.3</td>\n",
       "      <td>102.2</td>\n",
       "      <td>9.6</td>\n",
       "      <td>11.4</td>\n",
       "      <td>99</td>\n",
       "      <td>1.8</td>\n",
       "      <td>0.0</td>\n",
       "      <td>0.0</td>\n",
       "      <td>0</td>\n",
       "    </tr>\n",
       "  </tbody>\n",
       "</table>\n",
       "</div>"
      ],
      "text/plain": [
       "   FFMC   DMC     DC  ISI  temp  RH  wind  rain  area  fire\n",
       "0  86.2  26.2   94.3  5.1   8.2  51   6.7   0.0   0.0     0\n",
       "1  90.6  35.4  669.1  6.7  18.0  33   0.9   0.0   0.0     0\n",
       "2  90.6  43.7  686.9  6.7  14.6  33   1.3   0.0   0.0     0\n",
       "3  91.7  33.3   77.5  9.0   8.3  97   4.0   0.2   0.0     0\n",
       "4  89.3  51.3  102.2  9.6  11.4  99   1.8   0.0   0.0     0"
      ]
     },
     "execution_count": 45,
     "metadata": {},
     "output_type": "execute_result"
    }
   ],
   "source": [
    "sdf.head()"
   ]
  },
  {
   "cell_type": "code",
   "execution_count": 46,
   "metadata": {
    "collapsed": false
   },
   "outputs": [],
   "source": [
    "sdf = sdf[['DMC','temp','fire']]"
   ]
  },
  {
   "cell_type": "code",
   "execution_count": 47,
   "metadata": {
    "collapsed": false,
    "scrolled": false
   },
   "outputs": [
    {
     "data": {
      "text/plain": [
       "array([[  26.2,    8.2],\n",
       "       [  35.4,   18. ],\n",
       "       [  43.7,   14.6],\n",
       "       ..., \n",
       "       [  56.7,   21.2],\n",
       "       [ 146. ,   25.6],\n",
       "       [   3. ,   11.8]])"
      ]
     },
     "execution_count": 47,
     "metadata": {},
     "output_type": "execute_result"
    }
   ],
   "source": [
    "attributes = sdf.iloc[:, 0:2]\n",
    "fire_data = attributes.values\n",
    "fire_data"
   ]
  },
  {
   "cell_type": "code",
   "execution_count": 48,
   "metadata": {
    "collapsed": false
   },
   "outputs": [
    {
     "data": {
      "text/plain": [
       "array([0, 0, 0, 0, 0, 0, 0, 0, 0, 0, 0, 0, 0, 0, 0, 0, 0, 0, 0, 0, 0, 0, 0,\n",
       "       0, 0, 0, 0, 0, 0, 0, 0, 0, 0, 0, 0, 0, 0, 0, 0, 0, 0, 0, 0, 0, 0, 0,\n",
       "       0, 0, 0, 0, 0, 0, 0, 0, 0, 0, 0, 0, 0, 0, 0, 0, 0, 0, 0, 0, 0, 0, 0,\n",
       "       0, 0, 0, 0, 0, 0, 0, 0, 0, 0, 0, 0, 0, 0, 0, 0, 0, 0, 0, 0, 0, 0, 0,\n",
       "       0, 0, 0, 0, 0, 0, 0, 0, 0, 0, 0, 0, 0, 0, 0, 0, 0, 0, 0, 0, 0, 0, 0,\n",
       "       0, 0, 0, 0, 0, 0, 0, 0, 0, 0, 0, 0, 0, 0, 0, 0, 0, 0, 0, 0, 0, 0, 0,\n",
       "       0, 0, 0, 1, 1, 1, 1, 1, 1, 1, 1, 1, 1, 1, 1, 1, 1, 1, 1, 1, 1, 1, 1,\n",
       "       1, 1, 1, 1, 1, 1, 1, 1, 1, 1, 1, 1, 1, 1, 1, 1, 1, 1, 1, 1, 1, 1, 1,\n",
       "       1, 1, 1, 1, 1, 1, 1, 1, 1, 1, 1, 1, 1, 1, 1, 1, 1, 1, 1, 1, 1, 1, 1,\n",
       "       1, 1, 1, 1, 1, 1, 1, 1, 1, 1, 1, 1, 1, 1, 1, 1, 1, 1, 1, 1, 1, 1, 1,\n",
       "       1, 1, 1, 1, 1, 1, 1, 1, 1, 0, 0, 0, 1, 0, 1, 1, 0, 1, 0, 1, 1, 0, 0,\n",
       "       1, 1, 0, 1, 1, 0, 1, 1, 1, 1, 1, 1, 1, 0, 0, 0, 1, 1, 1, 1, 1, 1, 1,\n",
       "       1, 1, 1, 1, 1, 1, 0, 1, 1, 0, 0, 0, 0, 0, 0, 1, 1, 1, 1, 0, 1, 0, 0,\n",
       "       0, 0, 1, 0, 0, 0, 0, 0, 1, 0, 0, 0, 1, 0, 0, 1, 0, 0, 1, 0, 1, 1, 1,\n",
       "       1, 1, 1, 0, 0, 0, 0, 1, 1, 1, 1, 1, 0, 0, 0, 1, 1, 1, 1, 0, 0, 1, 1,\n",
       "       1, 1, 0, 0, 1, 1, 1, 1, 1, 1, 1, 1, 0, 0, 1, 1, 1, 1, 1, 1, 1, 1, 0,\n",
       "       1, 0, 1, 0, 0, 0, 1, 1, 0, 1, 0, 0, 1, 1, 1, 1, 1, 1, 1, 0, 1, 0, 1,\n",
       "       1, 1, 0, 0, 1, 1, 1, 0, 0, 1, 1, 0, 0, 1, 0, 1, 0, 1, 0, 0, 1, 1, 0,\n",
       "       0, 1, 1, 0, 1, 1, 1, 0, 1, 1, 1, 0, 0, 1, 0, 1, 0, 1, 0, 1, 0, 0, 1,\n",
       "       0, 1, 0, 0, 1, 1, 0, 1, 0, 0, 0, 0, 0, 1, 1, 0, 0, 0, 0, 0, 1, 1, 1,\n",
       "       0, 0, 1, 1, 1, 1, 1, 1, 1, 1, 0, 1, 1, 1, 1, 1, 1, 1, 1, 1, 1, 0, 1,\n",
       "       0, 1, 1, 1, 1, 1, 0, 0, 0, 0, 1, 1, 0, 1, 1, 1, 1, 0, 0, 0, 1, 1, 1,\n",
       "       0, 0, 0, 1, 0, 0, 1, 1, 1, 0, 0], dtype=int64)"
      ]
     },
     "execution_count": 48,
     "metadata": {},
     "output_type": "execute_result"
    }
   ],
   "source": [
    "target_series = sdf.iloc[:, 2]\n",
    "fire_target = target_series.values\n",
    "fire_target"
   ]
  },
  {
   "cell_type": "code",
   "execution_count": 49,
   "metadata": {
    "collapsed": false
   },
   "outputs": [
    {
     "name": "stdout",
     "output_type": "stream",
     "text": [
      "413 413\n",
      "104 104\n"
     ]
    }
   ],
   "source": [
    "from sklearn.cross_validation import train_test_split\n",
    "data_train, data_test, labels_train, labels_test = train_test_split(fire_data, fire_target, test_size=0.20)\n",
    "print len(data_train), len(labels_train) \n",
    "print len(data_test), len(labels_test)"
   ]
  },
  {
   "cell_type": "markdown",
   "metadata": {},
   "source": [
    "sklearn 모듈 import"
   ]
  },
  {
   "cell_type": "code",
   "execution_count": 50,
   "metadata": {
    "collapsed": false
   },
   "outputs": [
    {
     "data": {
      "text/plain": [
       "LogisticRegression(C=1.0, class_weight=None, dual=False, fit_intercept=True,\n",
       "          intercept_scaling=1, max_iter=100, multi_class='ovr', n_jobs=1,\n",
       "          penalty='l2', random_state=None, solver='liblinear', tol=0.0001,\n",
       "          verbose=0, warm_start=False)"
      ]
     },
     "execution_count": 50,
     "metadata": {},
     "output_type": "execute_result"
    }
   ],
   "source": [
    "from sklearn import linear_model\n",
    "regr = linear_model.LogisticRegression()\n",
    "regr.fit(data_train,labels_train)"
   ]
  },
  {
   "cell_type": "code",
   "execution_count": 51,
   "metadata": {
    "collapsed": false
   },
   "outputs": [
    {
     "name": "stdout",
     "output_type": "stream",
     "text": [
      "Coefficients: [[ 0.00146792  0.01656734]]\n",
      "Intercept: [-0.51596141]\n"
     ]
    }
   ],
   "source": [
    "print 'Coefficients:', regr.coef_\n",
    "print 'Intercept:', regr.intercept_"
   ]
  },
  {
   "cell_type": "code",
   "execution_count": 52,
   "metadata": {
    "collapsed": false
   },
   "outputs": [
    {
     "name": "stdout",
     "output_type": "stream",
     "text": [
      "[ 119.    18.9]\n",
      "[[ 119.    18.9]]\n"
     ]
    }
   ],
   "source": [
    "print data_test[0]\n",
    "print data_test[0].reshape(1,-1)"
   ]
  },
  {
   "cell_type": "code",
   "execution_count": 53,
   "metadata": {
    "collapsed": false,
    "scrolled": true
   },
   "outputs": [
    {
     "name": "stdout",
     "output_type": "stream",
     "text": [
      "[ 119.    18.9] : 1\n",
      "0\n"
     ]
    }
   ],
   "source": [
    "print data_test[0], \":\", labels_test[0]\n",
    "print regr.predict(data_test[0].reshape(1,-1))[0]"
   ]
  },
  {
   "cell_type": "markdown",
   "metadata": {},
   "source": [
    "- 로지스틱 회귀분석에 의한 분류 정확도"
   ]
  },
  {
   "cell_type": "code",
   "execution_count": 54,
   "metadata": {
    "collapsed": false
   },
   "outputs": [
    {
     "name": "stdout",
     "output_type": "stream",
     "text": [
      "0.509615384615\n"
     ]
    }
   ],
   "source": [
    "predicted = []\n",
    "for i in range(0, len(data_test)):\n",
    "    predicted.append(regr.predict(data_test[i].reshape(1,-1))[0] == labels_test[i])\n",
    "\n",
    "total = len(predicted)\n",
    "numTrue = 0\n",
    "for i in range(0, total):\n",
    "    if predicted[i]:\n",
    "        numTrue = numTrue + 1\n",
    "print float(numTrue) / total    "
   ]
  },
  {
   "cell_type": "markdown",
   "metadata": {},
   "source": [
    "분류 정확도가 50% 내외이므로 2개 변수만을 고려한 경우는 신뢰할 수 없다고 판단된다."
   ]
  },
  {
   "cell_type": "markdown",
   "metadata": {},
   "source": [
    "### Appendix"
   ]
  },
  {
   "cell_type": "markdown",
   "metadata": {},
   "source": [
    "- 모든 특징들을 고려한 로지스틱 회귀분석"
   ]
  },
  {
   "cell_type": "code",
   "execution_count": 55,
   "metadata": {
    "collapsed": true
   },
   "outputs": [],
   "source": [
    "sdf = df[['FFMC', 'DMC', 'DC', 'ISI', 'temp', 'RH', 'wind', 'rain', 'area']]"
   ]
  },
  {
   "cell_type": "code",
   "execution_count": 56,
   "metadata": {
    "collapsed": true
   },
   "outputs": [],
   "source": [
    "sdf = sdf.assign(fire = Series(sdf.area >= sdf.area.median() ,index=sdf.index))"
   ]
  },
  {
   "cell_type": "code",
   "execution_count": 57,
   "metadata": {
    "collapsed": true
   },
   "outputs": [],
   "source": [
    "sdf = sdf[['FFMC', 'DMC', 'DC', 'ISI', 'temp', 'RH', 'wind', 'rain','fire']]"
   ]
  },
  {
   "cell_type": "code",
   "execution_count": 58,
   "metadata": {
    "collapsed": false
   },
   "outputs": [
    {
     "data": {
      "text/html": [
       "<div>\n",
       "<table border=\"1\" class=\"dataframe\">\n",
       "  <thead>\n",
       "    <tr style=\"text-align: right;\">\n",
       "      <th></th>\n",
       "      <th>FFMC</th>\n",
       "      <th>DMC</th>\n",
       "      <th>DC</th>\n",
       "      <th>ISI</th>\n",
       "      <th>temp</th>\n",
       "      <th>RH</th>\n",
       "      <th>wind</th>\n",
       "      <th>rain</th>\n",
       "      <th>fire</th>\n",
       "    </tr>\n",
       "  </thead>\n",
       "  <tbody>\n",
       "    <tr>\n",
       "      <th>0</th>\n",
       "      <td>86.2</td>\n",
       "      <td>26.2</td>\n",
       "      <td>94.3</td>\n",
       "      <td>5.1</td>\n",
       "      <td>8.2</td>\n",
       "      <td>51</td>\n",
       "      <td>6.7</td>\n",
       "      <td>0.0</td>\n",
       "      <td>False</td>\n",
       "    </tr>\n",
       "    <tr>\n",
       "      <th>1</th>\n",
       "      <td>90.6</td>\n",
       "      <td>35.4</td>\n",
       "      <td>669.1</td>\n",
       "      <td>6.7</td>\n",
       "      <td>18.0</td>\n",
       "      <td>33</td>\n",
       "      <td>0.9</td>\n",
       "      <td>0.0</td>\n",
       "      <td>False</td>\n",
       "    </tr>\n",
       "    <tr>\n",
       "      <th>2</th>\n",
       "      <td>90.6</td>\n",
       "      <td>43.7</td>\n",
       "      <td>686.9</td>\n",
       "      <td>6.7</td>\n",
       "      <td>14.6</td>\n",
       "      <td>33</td>\n",
       "      <td>1.3</td>\n",
       "      <td>0.0</td>\n",
       "      <td>False</td>\n",
       "    </tr>\n",
       "    <tr>\n",
       "      <th>3</th>\n",
       "      <td>91.7</td>\n",
       "      <td>33.3</td>\n",
       "      <td>77.5</td>\n",
       "      <td>9.0</td>\n",
       "      <td>8.3</td>\n",
       "      <td>97</td>\n",
       "      <td>4.0</td>\n",
       "      <td>0.2</td>\n",
       "      <td>False</td>\n",
       "    </tr>\n",
       "    <tr>\n",
       "      <th>4</th>\n",
       "      <td>89.3</td>\n",
       "      <td>51.3</td>\n",
       "      <td>102.2</td>\n",
       "      <td>9.6</td>\n",
       "      <td>11.4</td>\n",
       "      <td>99</td>\n",
       "      <td>1.8</td>\n",
       "      <td>0.0</td>\n",
       "      <td>False</td>\n",
       "    </tr>\n",
       "  </tbody>\n",
       "</table>\n",
       "</div>"
      ],
      "text/plain": [
       "   FFMC   DMC     DC  ISI  temp  RH  wind  rain   fire\n",
       "0  86.2  26.2   94.3  5.1   8.2  51   6.7   0.0  False\n",
       "1  90.6  35.4  669.1  6.7  18.0  33   0.9   0.0  False\n",
       "2  90.6  43.7  686.9  6.7  14.6  33   1.3   0.0  False\n",
       "3  91.7  33.3   77.5  9.0   8.3  97   4.0   0.2  False\n",
       "4  89.3  51.3  102.2  9.6  11.4  99   1.8   0.0  False"
      ]
     },
     "execution_count": 58,
     "metadata": {},
     "output_type": "execute_result"
    }
   ],
   "source": [
    "sdf.head()"
   ]
  },
  {
   "cell_type": "code",
   "execution_count": 59,
   "metadata": {
    "collapsed": true
   },
   "outputs": [],
   "source": [
    "sdf['fire'] = sdf['fire'].map({False : 0, True :1})"
   ]
  },
  {
   "cell_type": "code",
   "execution_count": 60,
   "metadata": {
    "collapsed": false
   },
   "outputs": [
    {
     "data": {
      "text/html": [
       "<div>\n",
       "<table border=\"1\" class=\"dataframe\">\n",
       "  <thead>\n",
       "    <tr style=\"text-align: right;\">\n",
       "      <th></th>\n",
       "      <th>FFMC</th>\n",
       "      <th>DMC</th>\n",
       "      <th>DC</th>\n",
       "      <th>ISI</th>\n",
       "      <th>temp</th>\n",
       "      <th>RH</th>\n",
       "      <th>wind</th>\n",
       "      <th>rain</th>\n",
       "      <th>fire</th>\n",
       "    </tr>\n",
       "  </thead>\n",
       "  <tbody>\n",
       "    <tr>\n",
       "      <th>0</th>\n",
       "      <td>86.2</td>\n",
       "      <td>26.2</td>\n",
       "      <td>94.3</td>\n",
       "      <td>5.1</td>\n",
       "      <td>8.2</td>\n",
       "      <td>51</td>\n",
       "      <td>6.7</td>\n",
       "      <td>0.0</td>\n",
       "      <td>0</td>\n",
       "    </tr>\n",
       "    <tr>\n",
       "      <th>1</th>\n",
       "      <td>90.6</td>\n",
       "      <td>35.4</td>\n",
       "      <td>669.1</td>\n",
       "      <td>6.7</td>\n",
       "      <td>18.0</td>\n",
       "      <td>33</td>\n",
       "      <td>0.9</td>\n",
       "      <td>0.0</td>\n",
       "      <td>0</td>\n",
       "    </tr>\n",
       "    <tr>\n",
       "      <th>2</th>\n",
       "      <td>90.6</td>\n",
       "      <td>43.7</td>\n",
       "      <td>686.9</td>\n",
       "      <td>6.7</td>\n",
       "      <td>14.6</td>\n",
       "      <td>33</td>\n",
       "      <td>1.3</td>\n",
       "      <td>0.0</td>\n",
       "      <td>0</td>\n",
       "    </tr>\n",
       "    <tr>\n",
       "      <th>3</th>\n",
       "      <td>91.7</td>\n",
       "      <td>33.3</td>\n",
       "      <td>77.5</td>\n",
       "      <td>9.0</td>\n",
       "      <td>8.3</td>\n",
       "      <td>97</td>\n",
       "      <td>4.0</td>\n",
       "      <td>0.2</td>\n",
       "      <td>0</td>\n",
       "    </tr>\n",
       "    <tr>\n",
       "      <th>4</th>\n",
       "      <td>89.3</td>\n",
       "      <td>51.3</td>\n",
       "      <td>102.2</td>\n",
       "      <td>9.6</td>\n",
       "      <td>11.4</td>\n",
       "      <td>99</td>\n",
       "      <td>1.8</td>\n",
       "      <td>0.0</td>\n",
       "      <td>0</td>\n",
       "    </tr>\n",
       "  </tbody>\n",
       "</table>\n",
       "</div>"
      ],
      "text/plain": [
       "   FFMC   DMC     DC  ISI  temp  RH  wind  rain  fire\n",
       "0  86.2  26.2   94.3  5.1   8.2  51   6.7   0.0     0\n",
       "1  90.6  35.4  669.1  6.7  18.0  33   0.9   0.0     0\n",
       "2  90.6  43.7  686.9  6.7  14.6  33   1.3   0.0     0\n",
       "3  91.7  33.3   77.5  9.0   8.3  97   4.0   0.2     0\n",
       "4  89.3  51.3  102.2  9.6  11.4  99   1.8   0.0     0"
      ]
     },
     "execution_count": 60,
     "metadata": {},
     "output_type": "execute_result"
    }
   ],
   "source": [
    "sdf.head()"
   ]
  },
  {
   "cell_type": "code",
   "execution_count": 61,
   "metadata": {
    "collapsed": false
   },
   "outputs": [
    {
     "data": {
      "text/plain": [
       "array([[  86.2,   26.2,   94.3, ...,   51. ,    6.7,    0. ],\n",
       "       [  90.6,   35.4,  669.1, ...,   33. ,    0.9,    0. ],\n",
       "       [  90.6,   43.7,  686.9, ...,   33. ,    1.3,    0. ],\n",
       "       ..., \n",
       "       [  81.6,   56.7,  665.6, ...,   70. ,    6.7,    0. ],\n",
       "       [  94.4,  146. ,  614.7, ...,   42. ,    4. ,    0. ],\n",
       "       [  79.5,    3. ,  106.7, ...,   31. ,    4.5,    0. ]])"
      ]
     },
     "execution_count": 61,
     "metadata": {},
     "output_type": "execute_result"
    }
   ],
   "source": [
    "attributes = sdf.iloc[:, 0:8]\n",
    "fire_data = attributes.values\n",
    "fire_data"
   ]
  },
  {
   "cell_type": "code",
   "execution_count": 62,
   "metadata": {
    "collapsed": false
   },
   "outputs": [
    {
     "data": {
      "text/plain": [
       "array([0, 0, 0, 0, 0, 0, 0, 0, 0, 0, 0, 0, 0, 0, 0, 0, 0, 0, 0, 0, 0, 0, 0,\n",
       "       0, 0, 0, 0, 0, 0, 0, 0, 0, 0, 0, 0, 0, 0, 0, 0, 0, 0, 0, 0, 0, 0, 0,\n",
       "       0, 0, 0, 0, 0, 0, 0, 0, 0, 0, 0, 0, 0, 0, 0, 0, 0, 0, 0, 0, 0, 0, 0,\n",
       "       0, 0, 0, 0, 0, 0, 0, 0, 0, 0, 0, 0, 0, 0, 0, 0, 0, 0, 0, 0, 0, 0, 0,\n",
       "       0, 0, 0, 0, 0, 0, 0, 0, 0, 0, 0, 0, 0, 0, 0, 0, 0, 0, 0, 0, 0, 0, 0,\n",
       "       0, 0, 0, 0, 0, 0, 0, 0, 0, 0, 0, 0, 0, 0, 0, 0, 0, 0, 0, 0, 0, 0, 0,\n",
       "       0, 0, 0, 1, 1, 1, 1, 1, 1, 1, 1, 1, 1, 1, 1, 1, 1, 1, 1, 1, 1, 1, 1,\n",
       "       1, 1, 1, 1, 1, 1, 1, 1, 1, 1, 1, 1, 1, 1, 1, 1, 1, 1, 1, 1, 1, 1, 1,\n",
       "       1, 1, 1, 1, 1, 1, 1, 1, 1, 1, 1, 1, 1, 1, 1, 1, 1, 1, 1, 1, 1, 1, 1,\n",
       "       1, 1, 1, 1, 1, 1, 1, 1, 1, 1, 1, 1, 1, 1, 1, 1, 1, 1, 1, 1, 1, 1, 1,\n",
       "       1, 1, 1, 1, 1, 1, 1, 1, 1, 0, 0, 0, 1, 0, 1, 1, 0, 1, 0, 1, 1, 0, 0,\n",
       "       1, 1, 0, 1, 1, 0, 1, 1, 1, 1, 1, 1, 1, 0, 0, 0, 1, 1, 1, 1, 1, 1, 1,\n",
       "       1, 1, 1, 1, 1, 1, 0, 1, 1, 0, 0, 0, 0, 0, 0, 1, 1, 1, 1, 0, 1, 0, 0,\n",
       "       0, 0, 1, 0, 0, 0, 0, 0, 1, 0, 0, 0, 1, 0, 0, 1, 0, 0, 1, 0, 1, 1, 1,\n",
       "       1, 1, 1, 0, 0, 0, 0, 1, 1, 1, 1, 1, 0, 0, 0, 1, 1, 1, 1, 0, 0, 1, 1,\n",
       "       1, 1, 0, 0, 1, 1, 1, 1, 1, 1, 1, 1, 0, 0, 1, 1, 1, 1, 1, 1, 1, 1, 0,\n",
       "       1, 0, 1, 0, 0, 0, 1, 1, 0, 1, 0, 0, 1, 1, 1, 1, 1, 1, 1, 0, 1, 0, 1,\n",
       "       1, 1, 0, 0, 1, 1, 1, 0, 0, 1, 1, 0, 0, 1, 0, 1, 0, 1, 0, 0, 1, 1, 0,\n",
       "       0, 1, 1, 0, 1, 1, 1, 0, 1, 1, 1, 0, 0, 1, 0, 1, 0, 1, 0, 1, 0, 0, 1,\n",
       "       0, 1, 0, 0, 1, 1, 0, 1, 0, 0, 0, 0, 0, 1, 1, 0, 0, 0, 0, 0, 1, 1, 1,\n",
       "       0, 0, 1, 1, 1, 1, 1, 1, 1, 1, 0, 1, 1, 1, 1, 1, 1, 1, 1, 1, 1, 0, 1,\n",
       "       0, 1, 1, 1, 1, 1, 0, 0, 0, 0, 1, 1, 0, 1, 1, 1, 1, 0, 0, 0, 1, 1, 1,\n",
       "       0, 0, 0, 1, 0, 0, 1, 1, 1, 0, 0], dtype=int64)"
      ]
     },
     "execution_count": 62,
     "metadata": {},
     "output_type": "execute_result"
    }
   ],
   "source": [
    "target_series = sdf.iloc[:, 8]\n",
    "fire_target = target_series.values\n",
    "fire_target"
   ]
  },
  {
   "cell_type": "code",
   "execution_count": 63,
   "metadata": {
    "collapsed": false
   },
   "outputs": [
    {
     "name": "stdout",
     "output_type": "stream",
     "text": [
      "413 413\n",
      "104 104\n"
     ]
    }
   ],
   "source": [
    "data_train, data_test, labels_train, labels_test = train_test_split(fire_data, fire_target, test_size=0.20)\n",
    "print len(data_train), len(labels_train) \n",
    "print len(data_test), len(labels_test)"
   ]
  },
  {
   "cell_type": "code",
   "execution_count": 64,
   "metadata": {
    "collapsed": false
   },
   "outputs": [
    {
     "data": {
      "text/plain": [
       "LogisticRegression(C=1.0, class_weight=None, dual=False, fit_intercept=True,\n",
       "          intercept_scaling=1, max_iter=100, multi_class='ovr', n_jobs=1,\n",
       "          penalty='l2', random_state=None, solver='liblinear', tol=0.0001,\n",
       "          verbose=0, warm_start=False)"
      ]
     },
     "execution_count": 64,
     "metadata": {},
     "output_type": "execute_result"
    }
   ],
   "source": [
    "regr = linear_model.LogisticRegression()\n",
    "regr.fit(data_train,labels_train)"
   ]
  },
  {
   "cell_type": "code",
   "execution_count": 65,
   "metadata": {
    "collapsed": false
   },
   "outputs": [
    {
     "name": "stdout",
     "output_type": "stream",
     "text": [
      "0.451923076923\n"
     ]
    }
   ],
   "source": [
    "predicted = []\n",
    "for i in range(0, len(data_test)):\n",
    "    predicted.append(regr.predict(data_test[i].reshape(1,-1))[0] == labels_test[i])\n",
    "\n",
    "total = len(predicted)\n",
    "numTrue = 0\n",
    "for i in range(0, total):\n",
    "    if predicted[i]:\n",
    "        numTrue = numTrue + 1\n",
    "print float(numTrue) / total    "
   ]
  },
  {
   "cell_type": "markdown",
   "metadata": {},
   "source": [
    "로지스틱 회귀분석의 정확도는 모든 변수들을 고려하더라도 50% 내외의 수준으로 나타난다."
   ]
  }
 ],
 "metadata": {
  "anaconda-cloud": {},
  "kernelspec": {
   "display_name": "Python [default]",
   "language": "python",
   "name": "python2"
  },
  "language_info": {
   "codemirror_mode": {
    "name": "ipython",
    "version": 2
   },
   "file_extension": ".py",
   "mimetype": "text/x-python",
   "name": "python",
   "nbconvert_exporter": "python",
   "pygments_lexer": "ipython2",
   "version": "2.7.12"
  }
 },
 "nbformat": 4,
 "nbformat_minor": 1
}
