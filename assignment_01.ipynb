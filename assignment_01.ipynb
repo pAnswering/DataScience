{
 "cells": [
  {
   "cell_type": "markdown",
   "metadata": {},
   "source": [
    "# Data Science assignment 1"
   ]
  },
  {
   "cell_type": "markdown",
   "metadata": {},
   "source": [
    "10min pandas lecture를 통한 python과 pandas 모듈 사용법 익히기"
   ]
  },
  {
   "cell_type": "markdown",
   "metadata": {},
   "source": [
    "## import python module"
   ]
  },
  {
   "cell_type": "code",
   "execution_count": 1,
   "metadata": {
    "collapsed": true
   },
   "outputs": [],
   "source": [
    "import pandas as pd\n",
    "import numpy as np\n",
    "import matplotlib.pyplot as plt"
   ]
  },
  {
   "cell_type": "markdown",
   "metadata": {},
   "source": [
    "## Object Creation"
   ]
  },
  {
   "cell_type": "code",
   "execution_count": 2,
   "metadata": {
    "collapsed": true
   },
   "outputs": [],
   "source": [
    "s1 = pd.Series([1,3,5,np.nan,6,8])"
   ]
  },
  {
   "cell_type": "code",
   "execution_count": 3,
   "metadata": {
    "collapsed": false
   },
   "outputs": [
    {
     "data": {
      "text/plain": [
       "0    1.0\n",
       "1    3.0\n",
       "2    5.0\n",
       "3    NaN\n",
       "4    6.0\n",
       "5    8.0\n",
       "dtype: float64"
      ]
     },
     "execution_count": 3,
     "metadata": {},
     "output_type": "execute_result"
    }
   ],
   "source": [
    "s1"
   ]
  },
  {
   "cell_type": "code",
   "execution_count": 4,
   "metadata": {
    "collapsed": false
   },
   "outputs": [
    {
     "data": {
      "text/plain": [
       "0    1\n",
       "1    2\n",
       "2    3\n",
       "3    4\n",
       "4    5\n",
       "dtype: int64"
      ]
     },
     "execution_count": 4,
     "metadata": {},
     "output_type": "execute_result"
    }
   ],
   "source": [
    "s2 = pd.Series([1,2,3,4,5])\n",
    "s2"
   ]
  },
  {
   "cell_type": "markdown",
   "metadata": {},
   "source": [
    "s1과 s2의 Data type이 다르게 나타남"
   ]
  },
  {
   "cell_type": "code",
   "execution_count": 5,
   "metadata": {
    "collapsed": false
   },
   "outputs": [
    {
     "data": {
      "text/plain": [
       "float"
      ]
     },
     "execution_count": 5,
     "metadata": {},
     "output_type": "execute_result"
    }
   ],
   "source": [
    "type(np.nan)"
   ]
  },
  {
   "cell_type": "markdown",
   "metadata": {},
   "source": [
    "np.nan의 type이 float 형태기 때문에 s1 Series의 data type들이 float64로 결정된것으로 보임"
   ]
  },
  {
   "cell_type": "code",
   "execution_count": 6,
   "metadata": {
    "collapsed": false
   },
   "outputs": [
    {
     "data": {
      "text/plain": [
       "DatetimeIndex(['2016-09-06', '2016-09-07', '2016-09-08', '2016-09-09',\n",
       "               '2016-09-10', '2016-09-11', '2016-09-12', '2016-09-13',\n",
       "               '2016-09-14', '2016-09-15'],\n",
       "              dtype='datetime64[ns]', freq='D')"
      ]
     },
     "execution_count": 6,
     "metadata": {},
     "output_type": "execute_result"
    }
   ],
   "source": [
    "dates = pd.date_range('20160906',periods=10)\n",
    "dates"
   ]
  },
  {
   "cell_type": "code",
   "execution_count": 7,
   "metadata": {
    "collapsed": false
   },
   "outputs": [],
   "source": [
    "dates2 = pd.date_range('20160906',periods = 10, freq='M')\n",
    "dates3 = pd.date_range('20160906',periods = 10, freq=\"H\")"
   ]
  },
  {
   "cell_type": "code",
   "execution_count": 8,
   "metadata": {
    "collapsed": false
   },
   "outputs": [
    {
     "data": {
      "text/plain": [
       "DatetimeIndex(['2016-09-30', '2016-10-31', '2016-11-30', '2016-12-31',\n",
       "               '2017-01-31', '2017-02-28', '2017-03-31', '2017-04-30',\n",
       "               '2017-05-31', '2017-06-30'],\n",
       "              dtype='datetime64[ns]', freq='M')"
      ]
     },
     "execution_count": 8,
     "metadata": {},
     "output_type": "execute_result"
    }
   ],
   "source": [
    "dates2"
   ]
  },
  {
   "cell_type": "code",
   "execution_count": 9,
   "metadata": {
    "collapsed": false
   },
   "outputs": [
    {
     "data": {
      "text/plain": [
       "DatetimeIndex(['2016-09-06 00:00:00', '2016-09-06 01:00:00',\n",
       "               '2016-09-06 02:00:00', '2016-09-06 03:00:00',\n",
       "               '2016-09-06 04:00:00', '2016-09-06 05:00:00',\n",
       "               '2016-09-06 06:00:00', '2016-09-06 07:00:00',\n",
       "               '2016-09-06 08:00:00', '2016-09-06 09:00:00'],\n",
       "              dtype='datetime64[ns]', freq='H')"
      ]
     },
     "execution_count": 9,
     "metadata": {},
     "output_type": "execute_result"
    }
   ],
   "source": [
    "dates3"
   ]
  },
  {
   "cell_type": "markdown",
   "metadata": {},
   "source": [
    "freq parameter 전달을 통해서 각각 데이터 사이의 range를 설정할 수 있음"
   ]
  },
  {
   "cell_type": "code",
   "execution_count": 10,
   "metadata": {
    "collapsed": false
   },
   "outputs": [],
   "source": [
    "df = pd.DataFrame(np.random.randn(10,5), index=dates, columns=list('ABCDE'))"
   ]
  },
  {
   "cell_type": "code",
   "execution_count": 11,
   "metadata": {
    "collapsed": false
   },
   "outputs": [
    {
     "data": {
      "text/html": [
       "<div>\n",
       "<table border=\"1\" class=\"dataframe\">\n",
       "  <thead>\n",
       "    <tr style=\"text-align: right;\">\n",
       "      <th></th>\n",
       "      <th>A</th>\n",
       "      <th>B</th>\n",
       "      <th>C</th>\n",
       "      <th>D</th>\n",
       "      <th>E</th>\n",
       "    </tr>\n",
       "  </thead>\n",
       "  <tbody>\n",
       "    <tr>\n",
       "      <th>2016-09-06</th>\n",
       "      <td>-0.035993</td>\n",
       "      <td>0.695608</td>\n",
       "      <td>1.367394</td>\n",
       "      <td>-0.460833</td>\n",
       "      <td>-1.831966</td>\n",
       "    </tr>\n",
       "    <tr>\n",
       "      <th>2016-09-07</th>\n",
       "      <td>-0.134062</td>\n",
       "      <td>0.102121</td>\n",
       "      <td>1.368043</td>\n",
       "      <td>-0.222717</td>\n",
       "      <td>-0.033737</td>\n",
       "    </tr>\n",
       "    <tr>\n",
       "      <th>2016-09-08</th>\n",
       "      <td>0.829000</td>\n",
       "      <td>-0.531877</td>\n",
       "      <td>-0.757570</td>\n",
       "      <td>-0.509633</td>\n",
       "      <td>-0.330411</td>\n",
       "    </tr>\n",
       "    <tr>\n",
       "      <th>2016-09-09</th>\n",
       "      <td>1.544292</td>\n",
       "      <td>2.687190</td>\n",
       "      <td>-0.250315</td>\n",
       "      <td>0.582108</td>\n",
       "      <td>-0.460251</td>\n",
       "    </tr>\n",
       "    <tr>\n",
       "      <th>2016-09-10</th>\n",
       "      <td>0.231375</td>\n",
       "      <td>-0.569297</td>\n",
       "      <td>0.345982</td>\n",
       "      <td>0.808207</td>\n",
       "      <td>-0.185727</td>\n",
       "    </tr>\n",
       "    <tr>\n",
       "      <th>2016-09-11</th>\n",
       "      <td>0.915069</td>\n",
       "      <td>1.052924</td>\n",
       "      <td>1.325713</td>\n",
       "      <td>0.213799</td>\n",
       "      <td>-0.781177</td>\n",
       "    </tr>\n",
       "    <tr>\n",
       "      <th>2016-09-12</th>\n",
       "      <td>1.455754</td>\n",
       "      <td>-1.393895</td>\n",
       "      <td>-0.385851</td>\n",
       "      <td>-0.023382</td>\n",
       "      <td>0.688416</td>\n",
       "    </tr>\n",
       "    <tr>\n",
       "      <th>2016-09-13</th>\n",
       "      <td>0.713636</td>\n",
       "      <td>-0.164957</td>\n",
       "      <td>1.844750</td>\n",
       "      <td>0.660041</td>\n",
       "      <td>-0.538254</td>\n",
       "    </tr>\n",
       "    <tr>\n",
       "      <th>2016-09-14</th>\n",
       "      <td>1.145684</td>\n",
       "      <td>0.761863</td>\n",
       "      <td>-1.177131</td>\n",
       "      <td>1.183652</td>\n",
       "      <td>0.037257</td>\n",
       "    </tr>\n",
       "    <tr>\n",
       "      <th>2016-09-15</th>\n",
       "      <td>-0.853759</td>\n",
       "      <td>0.414959</td>\n",
       "      <td>1.363772</td>\n",
       "      <td>1.538513</td>\n",
       "      <td>-1.044263</td>\n",
       "    </tr>\n",
       "  </tbody>\n",
       "</table>\n",
       "</div>"
      ],
      "text/plain": [
       "                   A         B         C         D         E\n",
       "2016-09-06 -0.035993  0.695608  1.367394 -0.460833 -1.831966\n",
       "2016-09-07 -0.134062  0.102121  1.368043 -0.222717 -0.033737\n",
       "2016-09-08  0.829000 -0.531877 -0.757570 -0.509633 -0.330411\n",
       "2016-09-09  1.544292  2.687190 -0.250315  0.582108 -0.460251\n",
       "2016-09-10  0.231375 -0.569297  0.345982  0.808207 -0.185727\n",
       "2016-09-11  0.915069  1.052924  1.325713  0.213799 -0.781177\n",
       "2016-09-12  1.455754 -1.393895 -0.385851 -0.023382  0.688416\n",
       "2016-09-13  0.713636 -0.164957  1.844750  0.660041 -0.538254\n",
       "2016-09-14  1.145684  0.761863 -1.177131  1.183652  0.037257\n",
       "2016-09-15 -0.853759  0.414959  1.363772  1.538513 -1.044263"
      ]
     },
     "execution_count": 11,
     "metadata": {},
     "output_type": "execute_result"
    }
   ],
   "source": [
    "df"
   ]
  },
  {
   "cell_type": "code",
   "execution_count": 12,
   "metadata": {
    "collapsed": false
   },
   "outputs": [
    {
     "name": "stdout",
     "output_type": "stream",
     "text": [
      "                   A         B         C         D         E\n",
      "2016-09-06 -0.035993  0.695608  1.367394 -0.460833 -1.831966\n",
      "2016-09-07 -0.134062  0.102121  1.368043 -0.222717 -0.033737\n",
      "2016-09-08  0.829000 -0.531877 -0.757570 -0.509633 -0.330411\n",
      "2016-09-09  1.544292  2.687190 -0.250315  0.582108 -0.460251\n",
      "2016-09-10  0.231375 -0.569297  0.345982  0.808207 -0.185727\n",
      "2016-09-11  0.915069  1.052924  1.325713  0.213799 -0.781177\n",
      "2016-09-12  1.455754 -1.393895 -0.385851 -0.023382  0.688416\n",
      "2016-09-13  0.713636 -0.164957  1.844750  0.660041 -0.538254\n",
      "2016-09-14  1.145684  0.761863 -1.177131  1.183652  0.037257\n",
      "2016-09-15 -0.853759  0.414959  1.363772  1.538513 -1.044263\n"
     ]
    }
   ],
   "source": [
    "print df"
   ]
  },
  {
   "cell_type": "markdown",
   "metadata": {},
   "source": [
    "randn의 첫번째 parameter는 index, 두번째 parameter는 colum의 수를 정확히 넘겨주어야 작동하였음\n",
    "그렇지 않을경우 error 발생"
   ]
  },
  {
   "cell_type": "code",
   "execution_count": 13,
   "metadata": {
    "collapsed": true
   },
   "outputs": [],
   "source": [
    "df2 = pd.DataFrame({ 'A' : 1.,\n",
    "   ....:                      'B' : pd.Timestamp('20130102'),\n",
    "   ....:                      'C' : pd.Series(1,index=list(range(4)),dtype='float32'),\n",
    "   ....:                      'D' : np.array([3] * 4,dtype='int32'),\n",
    "   ....:                      'E' : pd.Categorical([\"test\",\"train\",\"test\",\"train\"]),\n",
    "   ....:                      'F' : 'foo' })\n",
    "   ....: "
   ]
  },
  {
   "cell_type": "code",
   "execution_count": 14,
   "metadata": {
    "collapsed": false
   },
   "outputs": [
    {
     "data": {
      "text/html": [
       "<div>\n",
       "<table border=\"1\" class=\"dataframe\">\n",
       "  <thead>\n",
       "    <tr style=\"text-align: right;\">\n",
       "      <th></th>\n",
       "      <th>A</th>\n",
       "      <th>B</th>\n",
       "      <th>C</th>\n",
       "      <th>D</th>\n",
       "      <th>E</th>\n",
       "      <th>F</th>\n",
       "    </tr>\n",
       "  </thead>\n",
       "  <tbody>\n",
       "    <tr>\n",
       "      <th>0</th>\n",
       "      <td>1.0</td>\n",
       "      <td>2013-01-02</td>\n",
       "      <td>1.0</td>\n",
       "      <td>3</td>\n",
       "      <td>test</td>\n",
       "      <td>foo</td>\n",
       "    </tr>\n",
       "    <tr>\n",
       "      <th>1</th>\n",
       "      <td>1.0</td>\n",
       "      <td>2013-01-02</td>\n",
       "      <td>1.0</td>\n",
       "      <td>3</td>\n",
       "      <td>train</td>\n",
       "      <td>foo</td>\n",
       "    </tr>\n",
       "    <tr>\n",
       "      <th>2</th>\n",
       "      <td>1.0</td>\n",
       "      <td>2013-01-02</td>\n",
       "      <td>1.0</td>\n",
       "      <td>3</td>\n",
       "      <td>test</td>\n",
       "      <td>foo</td>\n",
       "    </tr>\n",
       "    <tr>\n",
       "      <th>3</th>\n",
       "      <td>1.0</td>\n",
       "      <td>2013-01-02</td>\n",
       "      <td>1.0</td>\n",
       "      <td>3</td>\n",
       "      <td>train</td>\n",
       "      <td>foo</td>\n",
       "    </tr>\n",
       "  </tbody>\n",
       "</table>\n",
       "</div>"
      ],
      "text/plain": [
       "     A          B    C  D      E    F\n",
       "0  1.0 2013-01-02  1.0  3   test  foo\n",
       "1  1.0 2013-01-02  1.0  3  train  foo\n",
       "2  1.0 2013-01-02  1.0  3   test  foo\n",
       "3  1.0 2013-01-02  1.0  3  train  foo"
      ]
     },
     "execution_count": 14,
     "metadata": {},
     "output_type": "execute_result"
    }
   ],
   "source": [
    "df2"
   ]
  },
  {
   "cell_type": "code",
   "execution_count": 15,
   "metadata": {
    "collapsed": false
   },
   "outputs": [
    {
     "data": {
      "text/plain": [
       "A           float64\n",
       "B    datetime64[ns]\n",
       "C           float32\n",
       "D             int32\n",
       "E          category\n",
       "F            object\n",
       "dtype: object"
      ]
     },
     "execution_count": 15,
     "metadata": {},
     "output_type": "execute_result"
    }
   ],
   "source": [
    "df2.dtypes"
   ]
  },
  {
   "cell_type": "markdown",
   "metadata": {},
   "source": [
    "## Viewing Data"
   ]
  },
  {
   "cell_type": "code",
   "execution_count": 16,
   "metadata": {
    "collapsed": false
   },
   "outputs": [
    {
     "data": {
      "text/html": [
       "<div>\n",
       "<table border=\"1\" class=\"dataframe\">\n",
       "  <thead>\n",
       "    <tr style=\"text-align: right;\">\n",
       "      <th></th>\n",
       "      <th>A</th>\n",
       "      <th>B</th>\n",
       "      <th>C</th>\n",
       "      <th>D</th>\n",
       "      <th>E</th>\n",
       "    </tr>\n",
       "  </thead>\n",
       "  <tbody>\n",
       "    <tr>\n",
       "      <th>2016-09-06</th>\n",
       "      <td>-0.035993</td>\n",
       "      <td>0.695608</td>\n",
       "      <td>1.367394</td>\n",
       "      <td>-0.460833</td>\n",
       "      <td>-1.831966</td>\n",
       "    </tr>\n",
       "    <tr>\n",
       "      <th>2016-09-07</th>\n",
       "      <td>-0.134062</td>\n",
       "      <td>0.102121</td>\n",
       "      <td>1.368043</td>\n",
       "      <td>-0.222717</td>\n",
       "      <td>-0.033737</td>\n",
       "    </tr>\n",
       "    <tr>\n",
       "      <th>2016-09-08</th>\n",
       "      <td>0.829000</td>\n",
       "      <td>-0.531877</td>\n",
       "      <td>-0.757570</td>\n",
       "      <td>-0.509633</td>\n",
       "      <td>-0.330411</td>\n",
       "    </tr>\n",
       "  </tbody>\n",
       "</table>\n",
       "</div>"
      ],
      "text/plain": [
       "                   A         B         C         D         E\n",
       "2016-09-06 -0.035993  0.695608  1.367394 -0.460833 -1.831966\n",
       "2016-09-07 -0.134062  0.102121  1.368043 -0.222717 -0.033737\n",
       "2016-09-08  0.829000 -0.531877 -0.757570 -0.509633 -0.330411"
      ]
     },
     "execution_count": 16,
     "metadata": {},
     "output_type": "execute_result"
    }
   ],
   "source": [
    "df.head(3)"
   ]
  },
  {
   "cell_type": "code",
   "execution_count": 17,
   "metadata": {
    "collapsed": false
   },
   "outputs": [
    {
     "data": {
      "text/html": [
       "<div>\n",
       "<table border=\"1\" class=\"dataframe\">\n",
       "  <thead>\n",
       "    <tr style=\"text-align: right;\">\n",
       "      <th></th>\n",
       "      <th>A</th>\n",
       "      <th>B</th>\n",
       "      <th>C</th>\n",
       "      <th>D</th>\n",
       "      <th>E</th>\n",
       "    </tr>\n",
       "  </thead>\n",
       "  <tbody>\n",
       "    <tr>\n",
       "      <th>2016-09-12</th>\n",
       "      <td>1.455754</td>\n",
       "      <td>-1.393895</td>\n",
       "      <td>-0.385851</td>\n",
       "      <td>-0.023382</td>\n",
       "      <td>0.688416</td>\n",
       "    </tr>\n",
       "    <tr>\n",
       "      <th>2016-09-13</th>\n",
       "      <td>0.713636</td>\n",
       "      <td>-0.164957</td>\n",
       "      <td>1.844750</td>\n",
       "      <td>0.660041</td>\n",
       "      <td>-0.538254</td>\n",
       "    </tr>\n",
       "    <tr>\n",
       "      <th>2016-09-14</th>\n",
       "      <td>1.145684</td>\n",
       "      <td>0.761863</td>\n",
       "      <td>-1.177131</td>\n",
       "      <td>1.183652</td>\n",
       "      <td>0.037257</td>\n",
       "    </tr>\n",
       "    <tr>\n",
       "      <th>2016-09-15</th>\n",
       "      <td>-0.853759</td>\n",
       "      <td>0.414959</td>\n",
       "      <td>1.363772</td>\n",
       "      <td>1.538513</td>\n",
       "      <td>-1.044263</td>\n",
       "    </tr>\n",
       "  </tbody>\n",
       "</table>\n",
       "</div>"
      ],
      "text/plain": [
       "                   A         B         C         D         E\n",
       "2016-09-12  1.455754 -1.393895 -0.385851 -0.023382  0.688416\n",
       "2016-09-13  0.713636 -0.164957  1.844750  0.660041 -0.538254\n",
       "2016-09-14  1.145684  0.761863 -1.177131  1.183652  0.037257\n",
       "2016-09-15 -0.853759  0.414959  1.363772  1.538513 -1.044263"
      ]
     },
     "execution_count": 17,
     "metadata": {},
     "output_type": "execute_result"
    }
   ],
   "source": [
    "df.tail(4)"
   ]
  },
  {
   "cell_type": "markdown",
   "metadata": {},
   "source": [
    "위에서부터, 아래로부터 parameter로 넘겨준 값만큼 선택하는 method"
   ]
  },
  {
   "cell_type": "code",
   "execution_count": 18,
   "metadata": {
    "collapsed": false
   },
   "outputs": [
    {
     "data": {
      "text/plain": [
       "DatetimeIndex(['2016-09-06', '2016-09-07', '2016-09-08', '2016-09-09',\n",
       "               '2016-09-10', '2016-09-11', '2016-09-12', '2016-09-13',\n",
       "               '2016-09-14', '2016-09-15'],\n",
       "              dtype='datetime64[ns]', freq='D')"
      ]
     },
     "execution_count": 18,
     "metadata": {},
     "output_type": "execute_result"
    }
   ],
   "source": [
    "df.index"
   ]
  },
  {
   "cell_type": "code",
   "execution_count": 19,
   "metadata": {
    "collapsed": false
   },
   "outputs": [
    {
     "data": {
      "text/plain": [
       "Index([u'A', u'B', u'C', u'D', u'E'], dtype='object')"
      ]
     },
     "execution_count": 19,
     "metadata": {},
     "output_type": "execute_result"
    }
   ],
   "source": [
    "df.columns"
   ]
  },
  {
   "cell_type": "code",
   "execution_count": 20,
   "metadata": {
    "collapsed": false
   },
   "outputs": [
    {
     "data": {
      "text/plain": [
       "array([[-0.03599283,  0.69560845,  1.36739419, -0.46083334, -1.83196563],\n",
       "       [-0.13406214,  0.10212101,  1.36804308, -0.22271652, -0.0337368 ],\n",
       "       [ 0.82900006, -0.53187711, -0.7575696 , -0.50963346, -0.33041125],\n",
       "       [ 1.54429211,  2.68718987, -0.25031485,  0.58210816, -0.46025143],\n",
       "       [ 0.23137461, -0.56929723,  0.34598247,  0.80820667, -0.18572702],\n",
       "       [ 0.91506938,  1.05292355,  1.32571344,  0.21379915, -0.781177  ],\n",
       "       [ 1.45575424, -1.39389487, -0.38585138, -0.02338202,  0.68841568],\n",
       "       [ 0.71363642, -0.16495735,  1.84474976,  0.66004063, -0.53825395],\n",
       "       [ 1.14568355,  0.76186253, -1.17713099,  1.18365227,  0.03725746],\n",
       "       [-0.8537593 ,  0.41495851,  1.36377225,  1.53851347, -1.04426324]])"
      ]
     },
     "execution_count": 20,
     "metadata": {},
     "output_type": "execute_result"
    }
   ],
   "source": [
    "df.values"
   ]
  },
  {
   "cell_type": "markdown",
   "metadata": {},
   "source": [
    "index, colums, values값만 각각 출력"
   ]
  },
  {
   "cell_type": "code",
   "execution_count": 21,
   "metadata": {
    "collapsed": false,
    "scrolled": true
   },
   "outputs": [
    {
     "data": {
      "text/html": [
       "<div>\n",
       "<table border=\"1\" class=\"dataframe\">\n",
       "  <thead>\n",
       "    <tr style=\"text-align: right;\">\n",
       "      <th></th>\n",
       "      <th>A</th>\n",
       "      <th>B</th>\n",
       "      <th>C</th>\n",
       "      <th>D</th>\n",
       "      <th>E</th>\n",
       "    </tr>\n",
       "  </thead>\n",
       "  <tbody>\n",
       "    <tr>\n",
       "      <th>count</th>\n",
       "      <td>10.000000</td>\n",
       "      <td>10.000000</td>\n",
       "      <td>10.000000</td>\n",
       "      <td>10.000000</td>\n",
       "      <td>10.000000</td>\n",
       "    </tr>\n",
       "    <tr>\n",
       "      <th>mean</th>\n",
       "      <td>0.581100</td>\n",
       "      <td>0.305464</td>\n",
       "      <td>0.504479</td>\n",
       "      <td>0.376975</td>\n",
       "      <td>-0.448011</td>\n",
       "    </tr>\n",
       "    <tr>\n",
       "      <th>std</th>\n",
       "      <td>0.765612</td>\n",
       "      <td>1.116574</td>\n",
       "      <td>1.080514</td>\n",
       "      <td>0.694631</td>\n",
       "      <td>0.680795</td>\n",
       "    </tr>\n",
       "    <tr>\n",
       "      <th>min</th>\n",
       "      <td>-0.853759</td>\n",
       "      <td>-1.393895</td>\n",
       "      <td>-1.177131</td>\n",
       "      <td>-0.509633</td>\n",
       "      <td>-1.831966</td>\n",
       "    </tr>\n",
       "    <tr>\n",
       "      <th>25%</th>\n",
       "      <td>0.030849</td>\n",
       "      <td>-0.440147</td>\n",
       "      <td>-0.351967</td>\n",
       "      <td>-0.172883</td>\n",
       "      <td>-0.720446</td>\n",
       "    </tr>\n",
       "    <tr>\n",
       "      <th>50%</th>\n",
       "      <td>0.771318</td>\n",
       "      <td>0.258540</td>\n",
       "      <td>0.835848</td>\n",
       "      <td>0.397954</td>\n",
       "      <td>-0.395331</td>\n",
       "    </tr>\n",
       "    <tr>\n",
       "      <th>75%</th>\n",
       "      <td>1.088030</td>\n",
       "      <td>0.745299</td>\n",
       "      <td>1.366489</td>\n",
       "      <td>0.771165</td>\n",
       "      <td>-0.071734</td>\n",
       "    </tr>\n",
       "    <tr>\n",
       "      <th>max</th>\n",
       "      <td>1.544292</td>\n",
       "      <td>2.687190</td>\n",
       "      <td>1.844750</td>\n",
       "      <td>1.538513</td>\n",
       "      <td>0.688416</td>\n",
       "    </tr>\n",
       "  </tbody>\n",
       "</table>\n",
       "</div>"
      ],
      "text/plain": [
       "               A          B          C          D          E\n",
       "count  10.000000  10.000000  10.000000  10.000000  10.000000\n",
       "mean    0.581100   0.305464   0.504479   0.376975  -0.448011\n",
       "std     0.765612   1.116574   1.080514   0.694631   0.680795\n",
       "min    -0.853759  -1.393895  -1.177131  -0.509633  -1.831966\n",
       "25%     0.030849  -0.440147  -0.351967  -0.172883  -0.720446\n",
       "50%     0.771318   0.258540   0.835848   0.397954  -0.395331\n",
       "75%     1.088030   0.745299   1.366489   0.771165  -0.071734\n",
       "max     1.544292   2.687190   1.844750   1.538513   0.688416"
      ]
     },
     "execution_count": 21,
     "metadata": {},
     "output_type": "execute_result"
    }
   ],
   "source": [
    "df.describe()"
   ]
  },
  {
   "cell_type": "markdown",
   "metadata": {},
   "source": [
    "Data의 통계적인 값들 출력"
   ]
  },
  {
   "cell_type": "code",
   "execution_count": 22,
   "metadata": {
    "collapsed": false
   },
   "outputs": [
    {
     "data": {
      "text/html": [
       "<div>\n",
       "<table border=\"1\" class=\"dataframe\">\n",
       "  <thead>\n",
       "    <tr style=\"text-align: right;\">\n",
       "      <th></th>\n",
       "      <th>2016-09-06 00:00:00</th>\n",
       "      <th>2016-09-07 00:00:00</th>\n",
       "      <th>2016-09-08 00:00:00</th>\n",
       "      <th>2016-09-09 00:00:00</th>\n",
       "      <th>2016-09-10 00:00:00</th>\n",
       "      <th>2016-09-11 00:00:00</th>\n",
       "      <th>2016-09-12 00:00:00</th>\n",
       "      <th>2016-09-13 00:00:00</th>\n",
       "      <th>2016-09-14 00:00:00</th>\n",
       "      <th>2016-09-15 00:00:00</th>\n",
       "    </tr>\n",
       "  </thead>\n",
       "  <tbody>\n",
       "    <tr>\n",
       "      <th>A</th>\n",
       "      <td>-0.035993</td>\n",
       "      <td>-0.134062</td>\n",
       "      <td>0.829000</td>\n",
       "      <td>1.544292</td>\n",
       "      <td>0.231375</td>\n",
       "      <td>0.915069</td>\n",
       "      <td>1.455754</td>\n",
       "      <td>0.713636</td>\n",
       "      <td>1.145684</td>\n",
       "      <td>-0.853759</td>\n",
       "    </tr>\n",
       "    <tr>\n",
       "      <th>B</th>\n",
       "      <td>0.695608</td>\n",
       "      <td>0.102121</td>\n",
       "      <td>-0.531877</td>\n",
       "      <td>2.687190</td>\n",
       "      <td>-0.569297</td>\n",
       "      <td>1.052924</td>\n",
       "      <td>-1.393895</td>\n",
       "      <td>-0.164957</td>\n",
       "      <td>0.761863</td>\n",
       "      <td>0.414959</td>\n",
       "    </tr>\n",
       "    <tr>\n",
       "      <th>C</th>\n",
       "      <td>1.367394</td>\n",
       "      <td>1.368043</td>\n",
       "      <td>-0.757570</td>\n",
       "      <td>-0.250315</td>\n",
       "      <td>0.345982</td>\n",
       "      <td>1.325713</td>\n",
       "      <td>-0.385851</td>\n",
       "      <td>1.844750</td>\n",
       "      <td>-1.177131</td>\n",
       "      <td>1.363772</td>\n",
       "    </tr>\n",
       "    <tr>\n",
       "      <th>D</th>\n",
       "      <td>-0.460833</td>\n",
       "      <td>-0.222717</td>\n",
       "      <td>-0.509633</td>\n",
       "      <td>0.582108</td>\n",
       "      <td>0.808207</td>\n",
       "      <td>0.213799</td>\n",
       "      <td>-0.023382</td>\n",
       "      <td>0.660041</td>\n",
       "      <td>1.183652</td>\n",
       "      <td>1.538513</td>\n",
       "    </tr>\n",
       "    <tr>\n",
       "      <th>E</th>\n",
       "      <td>-1.831966</td>\n",
       "      <td>-0.033737</td>\n",
       "      <td>-0.330411</td>\n",
       "      <td>-0.460251</td>\n",
       "      <td>-0.185727</td>\n",
       "      <td>-0.781177</td>\n",
       "      <td>0.688416</td>\n",
       "      <td>-0.538254</td>\n",
       "      <td>0.037257</td>\n",
       "      <td>-1.044263</td>\n",
       "    </tr>\n",
       "  </tbody>\n",
       "</table>\n",
       "</div>"
      ],
      "text/plain": [
       "   2016-09-06  2016-09-07  2016-09-08  2016-09-09  2016-09-10  2016-09-11  \\\n",
       "A   -0.035993   -0.134062    0.829000    1.544292    0.231375    0.915069   \n",
       "B    0.695608    0.102121   -0.531877    2.687190   -0.569297    1.052924   \n",
       "C    1.367394    1.368043   -0.757570   -0.250315    0.345982    1.325713   \n",
       "D   -0.460833   -0.222717   -0.509633    0.582108    0.808207    0.213799   \n",
       "E   -1.831966   -0.033737   -0.330411   -0.460251   -0.185727   -0.781177   \n",
       "\n",
       "   2016-09-12  2016-09-13  2016-09-14  2016-09-15  \n",
       "A    1.455754    0.713636    1.145684   -0.853759  \n",
       "B   -1.393895   -0.164957    0.761863    0.414959  \n",
       "C   -0.385851    1.844750   -1.177131    1.363772  \n",
       "D   -0.023382    0.660041    1.183652    1.538513  \n",
       "E    0.688416   -0.538254    0.037257   -1.044263  "
      ]
     },
     "execution_count": 22,
     "metadata": {},
     "output_type": "execute_result"
    }
   ],
   "source": [
    "df.T"
   ]
  },
  {
   "cell_type": "markdown",
   "metadata": {},
   "source": [
    "Transposing Table"
   ]
  },
  {
   "cell_type": "code",
   "execution_count": 23,
   "metadata": {
    "collapsed": false
   },
   "outputs": [
    {
     "data": {
      "text/html": [
       "<div>\n",
       "<table border=\"1\" class=\"dataframe\">\n",
       "  <thead>\n",
       "    <tr style=\"text-align: right;\">\n",
       "      <th></th>\n",
       "      <th>E</th>\n",
       "      <th>D</th>\n",
       "      <th>C</th>\n",
       "      <th>B</th>\n",
       "      <th>A</th>\n",
       "    </tr>\n",
       "  </thead>\n",
       "  <tbody>\n",
       "    <tr>\n",
       "      <th>2016-09-06</th>\n",
       "      <td>-1.831966</td>\n",
       "      <td>-0.460833</td>\n",
       "      <td>1.367394</td>\n",
       "      <td>0.695608</td>\n",
       "      <td>-0.035993</td>\n",
       "    </tr>\n",
       "    <tr>\n",
       "      <th>2016-09-07</th>\n",
       "      <td>-0.033737</td>\n",
       "      <td>-0.222717</td>\n",
       "      <td>1.368043</td>\n",
       "      <td>0.102121</td>\n",
       "      <td>-0.134062</td>\n",
       "    </tr>\n",
       "    <tr>\n",
       "      <th>2016-09-08</th>\n",
       "      <td>-0.330411</td>\n",
       "      <td>-0.509633</td>\n",
       "      <td>-0.757570</td>\n",
       "      <td>-0.531877</td>\n",
       "      <td>0.829000</td>\n",
       "    </tr>\n",
       "    <tr>\n",
       "      <th>2016-09-09</th>\n",
       "      <td>-0.460251</td>\n",
       "      <td>0.582108</td>\n",
       "      <td>-0.250315</td>\n",
       "      <td>2.687190</td>\n",
       "      <td>1.544292</td>\n",
       "    </tr>\n",
       "    <tr>\n",
       "      <th>2016-09-10</th>\n",
       "      <td>-0.185727</td>\n",
       "      <td>0.808207</td>\n",
       "      <td>0.345982</td>\n",
       "      <td>-0.569297</td>\n",
       "      <td>0.231375</td>\n",
       "    </tr>\n",
       "    <tr>\n",
       "      <th>2016-09-11</th>\n",
       "      <td>-0.781177</td>\n",
       "      <td>0.213799</td>\n",
       "      <td>1.325713</td>\n",
       "      <td>1.052924</td>\n",
       "      <td>0.915069</td>\n",
       "    </tr>\n",
       "    <tr>\n",
       "      <th>2016-09-12</th>\n",
       "      <td>0.688416</td>\n",
       "      <td>-0.023382</td>\n",
       "      <td>-0.385851</td>\n",
       "      <td>-1.393895</td>\n",
       "      <td>1.455754</td>\n",
       "    </tr>\n",
       "    <tr>\n",
       "      <th>2016-09-13</th>\n",
       "      <td>-0.538254</td>\n",
       "      <td>0.660041</td>\n",
       "      <td>1.844750</td>\n",
       "      <td>-0.164957</td>\n",
       "      <td>0.713636</td>\n",
       "    </tr>\n",
       "    <tr>\n",
       "      <th>2016-09-14</th>\n",
       "      <td>0.037257</td>\n",
       "      <td>1.183652</td>\n",
       "      <td>-1.177131</td>\n",
       "      <td>0.761863</td>\n",
       "      <td>1.145684</td>\n",
       "    </tr>\n",
       "    <tr>\n",
       "      <th>2016-09-15</th>\n",
       "      <td>-1.044263</td>\n",
       "      <td>1.538513</td>\n",
       "      <td>1.363772</td>\n",
       "      <td>0.414959</td>\n",
       "      <td>-0.853759</td>\n",
       "    </tr>\n",
       "  </tbody>\n",
       "</table>\n",
       "</div>"
      ],
      "text/plain": [
       "                   E         D         C         B         A\n",
       "2016-09-06 -1.831966 -0.460833  1.367394  0.695608 -0.035993\n",
       "2016-09-07 -0.033737 -0.222717  1.368043  0.102121 -0.134062\n",
       "2016-09-08 -0.330411 -0.509633 -0.757570 -0.531877  0.829000\n",
       "2016-09-09 -0.460251  0.582108 -0.250315  2.687190  1.544292\n",
       "2016-09-10 -0.185727  0.808207  0.345982 -0.569297  0.231375\n",
       "2016-09-11 -0.781177  0.213799  1.325713  1.052924  0.915069\n",
       "2016-09-12  0.688416 -0.023382 -0.385851 -1.393895  1.455754\n",
       "2016-09-13 -0.538254  0.660041  1.844750 -0.164957  0.713636\n",
       "2016-09-14  0.037257  1.183652 -1.177131  0.761863  1.145684\n",
       "2016-09-15 -1.044263  1.538513  1.363772  0.414959 -0.853759"
      ]
     },
     "execution_count": 23,
     "metadata": {},
     "output_type": "execute_result"
    }
   ],
   "source": [
    "df.sort_index(axis=1, ascending=False)"
   ]
  },
  {
   "cell_type": "markdown",
   "metadata": {},
   "source": [
    "\"C\" index값을 통해서 정렬"
   ]
  },
  {
   "cell_type": "code",
   "execution_count": 24,
   "metadata": {
    "collapsed": false
   },
   "outputs": [
    {
     "data": {
      "text/html": [
       "<div>\n",
       "<table border=\"1\" class=\"dataframe\">\n",
       "  <thead>\n",
       "    <tr style=\"text-align: right;\">\n",
       "      <th></th>\n",
       "      <th>A</th>\n",
       "      <th>B</th>\n",
       "      <th>C</th>\n",
       "      <th>D</th>\n",
       "      <th>E</th>\n",
       "    </tr>\n",
       "  </thead>\n",
       "  <tbody>\n",
       "    <tr>\n",
       "      <th>2016-09-14</th>\n",
       "      <td>1.145684</td>\n",
       "      <td>0.761863</td>\n",
       "      <td>-1.177131</td>\n",
       "      <td>1.183652</td>\n",
       "      <td>0.037257</td>\n",
       "    </tr>\n",
       "    <tr>\n",
       "      <th>2016-09-08</th>\n",
       "      <td>0.829000</td>\n",
       "      <td>-0.531877</td>\n",
       "      <td>-0.757570</td>\n",
       "      <td>-0.509633</td>\n",
       "      <td>-0.330411</td>\n",
       "    </tr>\n",
       "    <tr>\n",
       "      <th>2016-09-12</th>\n",
       "      <td>1.455754</td>\n",
       "      <td>-1.393895</td>\n",
       "      <td>-0.385851</td>\n",
       "      <td>-0.023382</td>\n",
       "      <td>0.688416</td>\n",
       "    </tr>\n",
       "    <tr>\n",
       "      <th>2016-09-09</th>\n",
       "      <td>1.544292</td>\n",
       "      <td>2.687190</td>\n",
       "      <td>-0.250315</td>\n",
       "      <td>0.582108</td>\n",
       "      <td>-0.460251</td>\n",
       "    </tr>\n",
       "    <tr>\n",
       "      <th>2016-09-10</th>\n",
       "      <td>0.231375</td>\n",
       "      <td>-0.569297</td>\n",
       "      <td>0.345982</td>\n",
       "      <td>0.808207</td>\n",
       "      <td>-0.185727</td>\n",
       "    </tr>\n",
       "    <tr>\n",
       "      <th>2016-09-11</th>\n",
       "      <td>0.915069</td>\n",
       "      <td>1.052924</td>\n",
       "      <td>1.325713</td>\n",
       "      <td>0.213799</td>\n",
       "      <td>-0.781177</td>\n",
       "    </tr>\n",
       "    <tr>\n",
       "      <th>2016-09-15</th>\n",
       "      <td>-0.853759</td>\n",
       "      <td>0.414959</td>\n",
       "      <td>1.363772</td>\n",
       "      <td>1.538513</td>\n",
       "      <td>-1.044263</td>\n",
       "    </tr>\n",
       "    <tr>\n",
       "      <th>2016-09-06</th>\n",
       "      <td>-0.035993</td>\n",
       "      <td>0.695608</td>\n",
       "      <td>1.367394</td>\n",
       "      <td>-0.460833</td>\n",
       "      <td>-1.831966</td>\n",
       "    </tr>\n",
       "    <tr>\n",
       "      <th>2016-09-07</th>\n",
       "      <td>-0.134062</td>\n",
       "      <td>0.102121</td>\n",
       "      <td>1.368043</td>\n",
       "      <td>-0.222717</td>\n",
       "      <td>-0.033737</td>\n",
       "    </tr>\n",
       "    <tr>\n",
       "      <th>2016-09-13</th>\n",
       "      <td>0.713636</td>\n",
       "      <td>-0.164957</td>\n",
       "      <td>1.844750</td>\n",
       "      <td>0.660041</td>\n",
       "      <td>-0.538254</td>\n",
       "    </tr>\n",
       "  </tbody>\n",
       "</table>\n",
       "</div>"
      ],
      "text/plain": [
       "                   A         B         C         D         E\n",
       "2016-09-14  1.145684  0.761863 -1.177131  1.183652  0.037257\n",
       "2016-09-08  0.829000 -0.531877 -0.757570 -0.509633 -0.330411\n",
       "2016-09-12  1.455754 -1.393895 -0.385851 -0.023382  0.688416\n",
       "2016-09-09  1.544292  2.687190 -0.250315  0.582108 -0.460251\n",
       "2016-09-10  0.231375 -0.569297  0.345982  0.808207 -0.185727\n",
       "2016-09-11  0.915069  1.052924  1.325713  0.213799 -0.781177\n",
       "2016-09-15 -0.853759  0.414959  1.363772  1.538513 -1.044263\n",
       "2016-09-06 -0.035993  0.695608  1.367394 -0.460833 -1.831966\n",
       "2016-09-07 -0.134062  0.102121  1.368043 -0.222717 -0.033737\n",
       "2016-09-13  0.713636 -0.164957  1.844750  0.660041 -0.538254"
      ]
     },
     "execution_count": 24,
     "metadata": {},
     "output_type": "execute_result"
    }
   ],
   "source": [
    "df.sort_values(by=\"C\")"
   ]
  },
  {
   "cell_type": "code",
   "execution_count": 110,
   "metadata": {
    "collapsed": false
   },
   "outputs": [
    {
     "data": {
      "text/html": [
       "<div>\n",
       "<table border=\"1\" class=\"dataframe\">\n",
       "  <thead>\n",
       "    <tr style=\"text-align: right;\">\n",
       "      <th></th>\n",
       "      <th>A</th>\n",
       "      <th>B</th>\n",
       "      <th>C</th>\n",
       "      <th>D</th>\n",
       "      <th>E</th>\n",
       "    </tr>\n",
       "  </thead>\n",
       "  <tbody>\n",
       "    <tr>\n",
       "      <th>2016-09-12</th>\n",
       "      <td>0.934308</td>\n",
       "      <td>-1.003990</td>\n",
       "      <td>1.300007</td>\n",
       "      <td>1.119088</td>\n",
       "      <td>-1.556634</td>\n",
       "    </tr>\n",
       "    <tr>\n",
       "      <th>2016-09-07</th>\n",
       "      <td>-2.649810</td>\n",
       "      <td>1.930686</td>\n",
       "      <td>1.248943</td>\n",
       "      <td>-0.842927</td>\n",
       "      <td>1.672825</td>\n",
       "    </tr>\n",
       "    <tr>\n",
       "      <th>2016-09-11</th>\n",
       "      <td>0.334778</td>\n",
       "      <td>1.363951</td>\n",
       "      <td>0.781070</td>\n",
       "      <td>-0.823499</td>\n",
       "      <td>0.686858</td>\n",
       "    </tr>\n",
       "    <tr>\n",
       "      <th>2016-09-15</th>\n",
       "      <td>1.666588</td>\n",
       "      <td>-0.184773</td>\n",
       "      <td>0.561936</td>\n",
       "      <td>-1.437131</td>\n",
       "      <td>-0.337799</td>\n",
       "    </tr>\n",
       "    <tr>\n",
       "      <th>2016-09-08</th>\n",
       "      <td>-0.987488</td>\n",
       "      <td>-0.276117</td>\n",
       "      <td>0.473817</td>\n",
       "      <td>1.170554</td>\n",
       "      <td>-0.074974</td>\n",
       "    </tr>\n",
       "    <tr>\n",
       "      <th>2016-09-14</th>\n",
       "      <td>1.202492</td>\n",
       "      <td>1.292376</td>\n",
       "      <td>0.353395</td>\n",
       "      <td>0.197067</td>\n",
       "      <td>-1.571785</td>\n",
       "    </tr>\n",
       "    <tr>\n",
       "      <th>2016-09-13</th>\n",
       "      <td>-1.113481</td>\n",
       "      <td>-1.456722</td>\n",
       "      <td>-0.262049</td>\n",
       "      <td>-0.384681</td>\n",
       "      <td>-0.782280</td>\n",
       "    </tr>\n",
       "    <tr>\n",
       "      <th>2016-09-10</th>\n",
       "      <td>0.671273</td>\n",
       "      <td>0.490926</td>\n",
       "      <td>-0.333710</td>\n",
       "      <td>-1.828877</td>\n",
       "      <td>0.044393</td>\n",
       "    </tr>\n",
       "    <tr>\n",
       "      <th>2016-09-06</th>\n",
       "      <td>0.751200</td>\n",
       "      <td>0.618443</td>\n",
       "      <td>-0.342827</td>\n",
       "      <td>-0.589471</td>\n",
       "      <td>0.615410</td>\n",
       "    </tr>\n",
       "    <tr>\n",
       "      <th>2016-09-09</th>\n",
       "      <td>0.446936</td>\n",
       "      <td>0.420871</td>\n",
       "      <td>-1.358857</td>\n",
       "      <td>-0.645100</td>\n",
       "      <td>-0.156841</td>\n",
       "    </tr>\n",
       "  </tbody>\n",
       "</table>\n",
       "</div>"
      ],
      "text/plain": [
       "                   A         B         C         D         E\n",
       "2016-09-12  0.934308 -1.003990  1.300007  1.119088 -1.556634\n",
       "2016-09-07 -2.649810  1.930686  1.248943 -0.842927  1.672825\n",
       "2016-09-11  0.334778  1.363951  0.781070 -0.823499  0.686858\n",
       "2016-09-15  1.666588 -0.184773  0.561936 -1.437131 -0.337799\n",
       "2016-09-08 -0.987488 -0.276117  0.473817  1.170554 -0.074974\n",
       "2016-09-14  1.202492  1.292376  0.353395  0.197067 -1.571785\n",
       "2016-09-13 -1.113481 -1.456722 -0.262049 -0.384681 -0.782280\n",
       "2016-09-10  0.671273  0.490926 -0.333710 -1.828877  0.044393\n",
       "2016-09-06  0.751200  0.618443 -0.342827 -0.589471  0.615410\n",
       "2016-09-09  0.446936  0.420871 -1.358857 -0.645100 -0.156841"
      ]
     },
     "execution_count": 110,
     "metadata": {},
     "output_type": "execute_result"
    }
   ],
   "source": [
    "df.sort_values(by=\"C\", ascending = False)"
   ]
  },
  {
   "cell_type": "markdown",
   "metadata": {},
   "source": [
    "ascending paramter의 전달을 통해 내림차순, 오름차순 설정 가능"
   ]
  },
  {
   "cell_type": "markdown",
   "metadata": {},
   "source": [
    "## Selection"
   ]
  },
  {
   "cell_type": "code",
   "execution_count": 111,
   "metadata": {
    "collapsed": false
   },
   "outputs": [
    {
     "data": {
      "text/plain": [
       "<pandas.core.indexing._AtIndexer at 0x9dd0f98>"
      ]
     },
     "execution_count": 111,
     "metadata": {},
     "output_type": "execute_result"
    }
   ],
   "source": [
    "df.at"
   ]
  },
  {
   "cell_type": "code",
   "execution_count": 112,
   "metadata": {
    "collapsed": false
   },
   "outputs": [
    {
     "data": {
      "text/plain": [
       "<pandas.core.indexing._iAtIndexer at 0x9dd0d30>"
      ]
     },
     "execution_count": 112,
     "metadata": {},
     "output_type": "execute_result"
    }
   ],
   "source": [
    "df.iat"
   ]
  },
  {
   "cell_type": "code",
   "execution_count": 113,
   "metadata": {
    "collapsed": false
   },
   "outputs": [
    {
     "data": {
      "text/plain": [
       "<pandas.core.indexing._LocIndexer at 0x9bfef98>"
      ]
     },
     "execution_count": 113,
     "metadata": {},
     "output_type": "execute_result"
    }
   ],
   "source": [
    "df.loc"
   ]
  },
  {
   "cell_type": "code",
   "execution_count": 114,
   "metadata": {
    "collapsed": false
   },
   "outputs": [
    {
     "data": {
      "text/plain": [
       "<pandas.core.indexing._iLocIndexer at 0x9dd0630>"
      ]
     },
     "execution_count": 114,
     "metadata": {},
     "output_type": "execute_result"
    }
   ],
   "source": [
    "df.iloc"
   ]
  },
  {
   "cell_type": "code",
   "execution_count": 115,
   "metadata": {
    "collapsed": false
   },
   "outputs": [
    {
     "data": {
      "text/plain": [
       "<pandas.core.indexing._IXIndexer at 0x9dd0fd0>"
      ]
     },
     "execution_count": 115,
     "metadata": {},
     "output_type": "execute_result"
    }
   ],
   "source": [
    "df.ix"
   ]
  },
  {
   "cell_type": "markdown",
   "metadata": {},
   "source": [
    "## Getting"
   ]
  },
  {
   "cell_type": "code",
   "execution_count": 116,
   "metadata": {
    "collapsed": false
   },
   "outputs": [
    {
     "data": {
      "text/plain": [
       "2016-09-06   -0.342827\n",
       "2016-09-07    1.248943\n",
       "2016-09-08    0.473817\n",
       "2016-09-09   -1.358857\n",
       "2016-09-10   -0.333710\n",
       "2016-09-11    0.781070\n",
       "2016-09-12    1.300007\n",
       "2016-09-13   -0.262049\n",
       "2016-09-14    0.353395\n",
       "2016-09-15    0.561936\n",
       "Freq: D, Name: C, dtype: float64"
      ]
     },
     "execution_count": 116,
     "metadata": {},
     "output_type": "execute_result"
    }
   ],
   "source": [
    "df['C']"
   ]
  },
  {
   "cell_type": "markdown",
   "metadata": {},
   "source": [
    "특정 column만을 선택"
   ]
  },
  {
   "cell_type": "code",
   "execution_count": 117,
   "metadata": {
    "collapsed": false
   },
   "outputs": [
    {
     "data": {
      "text/plain": [
       "2016-09-06   -0.342827\n",
       "2016-09-07    1.248943\n",
       "2016-09-08    0.473817\n",
       "2016-09-09   -1.358857\n",
       "2016-09-10   -0.333710\n",
       "2016-09-11    0.781070\n",
       "2016-09-12    1.300007\n",
       "2016-09-13   -0.262049\n",
       "2016-09-14    0.353395\n",
       "2016-09-15    0.561936\n",
       "Freq: D, Name: C, dtype: float64"
      ]
     },
     "execution_count": 117,
     "metadata": {},
     "output_type": "execute_result"
    }
   ],
   "source": [
    "df.C"
   ]
  },
  {
   "cell_type": "markdown",
   "metadata": {},
   "source": [
    "위와 같은 방식으로도 사용 가능"
   ]
  },
  {
   "cell_type": "code",
   "execution_count": 118,
   "metadata": {
    "collapsed": false
   },
   "outputs": [
    {
     "data": {
      "text/html": [
       "<div>\n",
       "<table border=\"1\" class=\"dataframe\">\n",
       "  <thead>\n",
       "    <tr style=\"text-align: right;\">\n",
       "      <th></th>\n",
       "      <th>A</th>\n",
       "      <th>B</th>\n",
       "      <th>C</th>\n",
       "      <th>D</th>\n",
       "      <th>E</th>\n",
       "    </tr>\n",
       "  </thead>\n",
       "  <tbody>\n",
       "    <tr>\n",
       "      <th>2016-09-06</th>\n",
       "      <td>0.751200</td>\n",
       "      <td>0.618443</td>\n",
       "      <td>-0.342827</td>\n",
       "      <td>-0.589471</td>\n",
       "      <td>0.615410</td>\n",
       "    </tr>\n",
       "    <tr>\n",
       "      <th>2016-09-07</th>\n",
       "      <td>-2.649810</td>\n",
       "      <td>1.930686</td>\n",
       "      <td>1.248943</td>\n",
       "      <td>-0.842927</td>\n",
       "      <td>1.672825</td>\n",
       "    </tr>\n",
       "    <tr>\n",
       "      <th>2016-09-08</th>\n",
       "      <td>-0.987488</td>\n",
       "      <td>-0.276117</td>\n",
       "      <td>0.473817</td>\n",
       "      <td>1.170554</td>\n",
       "      <td>-0.074974</td>\n",
       "    </tr>\n",
       "  </tbody>\n",
       "</table>\n",
       "</div>"
      ],
      "text/plain": [
       "                   A         B         C         D         E\n",
       "2016-09-06  0.751200  0.618443 -0.342827 -0.589471  0.615410\n",
       "2016-09-07 -2.649810  1.930686  1.248943 -0.842927  1.672825\n",
       "2016-09-08 -0.987488 -0.276117  0.473817  1.170554 -0.074974"
      ]
     },
     "execution_count": 118,
     "metadata": {},
     "output_type": "execute_result"
    }
   ],
   "source": [
    "df[0:3]"
   ]
  },
  {
   "cell_type": "code",
   "execution_count": 119,
   "metadata": {
    "collapsed": false
   },
   "outputs": [
    {
     "data": {
      "text/html": [
       "<div>\n",
       "<table border=\"1\" class=\"dataframe\">\n",
       "  <thead>\n",
       "    <tr style=\"text-align: right;\">\n",
       "      <th></th>\n",
       "      <th>A</th>\n",
       "      <th>B</th>\n",
       "      <th>C</th>\n",
       "      <th>D</th>\n",
       "      <th>E</th>\n",
       "    </tr>\n",
       "  </thead>\n",
       "  <tbody>\n",
       "    <tr>\n",
       "      <th>2016-09-09</th>\n",
       "      <td>0.446936</td>\n",
       "      <td>0.420871</td>\n",
       "      <td>-1.358857</td>\n",
       "      <td>-0.645100</td>\n",
       "      <td>-0.156841</td>\n",
       "    </tr>\n",
       "    <tr>\n",
       "      <th>2016-09-10</th>\n",
       "      <td>0.671273</td>\n",
       "      <td>0.490926</td>\n",
       "      <td>-0.333710</td>\n",
       "      <td>-1.828877</td>\n",
       "      <td>0.044393</td>\n",
       "    </tr>\n",
       "    <tr>\n",
       "      <th>2016-09-11</th>\n",
       "      <td>0.334778</td>\n",
       "      <td>1.363951</td>\n",
       "      <td>0.781070</td>\n",
       "      <td>-0.823499</td>\n",
       "      <td>0.686858</td>\n",
       "    </tr>\n",
       "    <tr>\n",
       "      <th>2016-09-12</th>\n",
       "      <td>0.934308</td>\n",
       "      <td>-1.003990</td>\n",
       "      <td>1.300007</td>\n",
       "      <td>1.119088</td>\n",
       "      <td>-1.556634</td>\n",
       "    </tr>\n",
       "  </tbody>\n",
       "</table>\n",
       "</div>"
      ],
      "text/plain": [
       "                   A         B         C         D         E\n",
       "2016-09-09  0.446936  0.420871 -1.358857 -0.645100 -0.156841\n",
       "2016-09-10  0.671273  0.490926 -0.333710 -1.828877  0.044393\n",
       "2016-09-11  0.334778  1.363951  0.781070 -0.823499  0.686858\n",
       "2016-09-12  0.934308 -1.003990  1.300007  1.119088 -1.556634"
      ]
     },
     "execution_count": 119,
     "metadata": {},
     "output_type": "execute_result"
    }
   ],
   "source": [
    "df[3:7]"
   ]
  },
  {
   "cell_type": "code",
   "execution_count": 120,
   "metadata": {
    "collapsed": false
   },
   "outputs": [
    {
     "data": {
      "text/html": [
       "<div>\n",
       "<table border=\"1\" class=\"dataframe\">\n",
       "  <thead>\n",
       "    <tr style=\"text-align: right;\">\n",
       "      <th></th>\n",
       "      <th>A</th>\n",
       "      <th>B</th>\n",
       "      <th>C</th>\n",
       "      <th>D</th>\n",
       "      <th>E</th>\n",
       "    </tr>\n",
       "  </thead>\n",
       "  <tbody>\n",
       "    <tr>\n",
       "      <th>2016-09-06</th>\n",
       "      <td>0.751200</td>\n",
       "      <td>0.618443</td>\n",
       "      <td>-0.342827</td>\n",
       "      <td>-0.589471</td>\n",
       "      <td>0.615410</td>\n",
       "    </tr>\n",
       "    <tr>\n",
       "      <th>2016-09-07</th>\n",
       "      <td>-2.649810</td>\n",
       "      <td>1.930686</td>\n",
       "      <td>1.248943</td>\n",
       "      <td>-0.842927</td>\n",
       "      <td>1.672825</td>\n",
       "    </tr>\n",
       "    <tr>\n",
       "      <th>2016-09-08</th>\n",
       "      <td>-0.987488</td>\n",
       "      <td>-0.276117</td>\n",
       "      <td>0.473817</td>\n",
       "      <td>1.170554</td>\n",
       "      <td>-0.074974</td>\n",
       "    </tr>\n",
       "    <tr>\n",
       "      <th>2016-09-09</th>\n",
       "      <td>0.446936</td>\n",
       "      <td>0.420871</td>\n",
       "      <td>-1.358857</td>\n",
       "      <td>-0.645100</td>\n",
       "      <td>-0.156841</td>\n",
       "    </tr>\n",
       "    <tr>\n",
       "      <th>2016-09-10</th>\n",
       "      <td>0.671273</td>\n",
       "      <td>0.490926</td>\n",
       "      <td>-0.333710</td>\n",
       "      <td>-1.828877</td>\n",
       "      <td>0.044393</td>\n",
       "    </tr>\n",
       "    <tr>\n",
       "      <th>2016-09-11</th>\n",
       "      <td>0.334778</td>\n",
       "      <td>1.363951</td>\n",
       "      <td>0.781070</td>\n",
       "      <td>-0.823499</td>\n",
       "      <td>0.686858</td>\n",
       "    </tr>\n",
       "    <tr>\n",
       "      <th>2016-09-12</th>\n",
       "      <td>0.934308</td>\n",
       "      <td>-1.003990</td>\n",
       "      <td>1.300007</td>\n",
       "      <td>1.119088</td>\n",
       "      <td>-1.556634</td>\n",
       "    </tr>\n",
       "    <tr>\n",
       "      <th>2016-09-13</th>\n",
       "      <td>-1.113481</td>\n",
       "      <td>-1.456722</td>\n",
       "      <td>-0.262049</td>\n",
       "      <td>-0.384681</td>\n",
       "      <td>-0.782280</td>\n",
       "    </tr>\n",
       "    <tr>\n",
       "      <th>2016-09-14</th>\n",
       "      <td>1.202492</td>\n",
       "      <td>1.292376</td>\n",
       "      <td>0.353395</td>\n",
       "      <td>0.197067</td>\n",
       "      <td>-1.571785</td>\n",
       "    </tr>\n",
       "    <tr>\n",
       "      <th>2016-09-15</th>\n",
       "      <td>1.666588</td>\n",
       "      <td>-0.184773</td>\n",
       "      <td>0.561936</td>\n",
       "      <td>-1.437131</td>\n",
       "      <td>-0.337799</td>\n",
       "    </tr>\n",
       "  </tbody>\n",
       "</table>\n",
       "</div>"
      ],
      "text/plain": [
       "                   A         B         C         D         E\n",
       "2016-09-06  0.751200  0.618443 -0.342827 -0.589471  0.615410\n",
       "2016-09-07 -2.649810  1.930686  1.248943 -0.842927  1.672825\n",
       "2016-09-08 -0.987488 -0.276117  0.473817  1.170554 -0.074974\n",
       "2016-09-09  0.446936  0.420871 -1.358857 -0.645100 -0.156841\n",
       "2016-09-10  0.671273  0.490926 -0.333710 -1.828877  0.044393\n",
       "2016-09-11  0.334778  1.363951  0.781070 -0.823499  0.686858\n",
       "2016-09-12  0.934308 -1.003990  1.300007  1.119088 -1.556634\n",
       "2016-09-13 -1.113481 -1.456722 -0.262049 -0.384681 -0.782280\n",
       "2016-09-14  1.202492  1.292376  0.353395  0.197067 -1.571785\n",
       "2016-09-15  1.666588 -0.184773  0.561936 -1.437131 -0.337799"
      ]
     },
     "execution_count": 120,
     "metadata": {},
     "output_type": "execute_result"
    }
   ],
   "source": [
    "df['20160906':'20160915']"
   ]
  },
  {
   "cell_type": "markdown",
   "metadata": {},
   "source": [
    "특정 범위 혹은 특정 구간의 열을 선택할 수 있음 Slicing"
   ]
  },
  {
   "cell_type": "markdown",
   "metadata": {},
   "source": [
    "## Selection by Label"
   ]
  },
  {
   "cell_type": "code",
   "execution_count": 121,
   "metadata": {
    "collapsed": false
   },
   "outputs": [
    {
     "data": {
      "text/plain": [
       "A    0.751200\n",
       "B    0.618443\n",
       "C   -0.342827\n",
       "D   -0.589471\n",
       "E    0.615410\n",
       "Name: 2016-09-06 00:00:00, dtype: float64"
      ]
     },
     "execution_count": 121,
     "metadata": {},
     "output_type": "execute_result"
    }
   ],
   "source": [
    "df.loc[dates[0]]"
   ]
  },
  {
   "cell_type": "code",
   "execution_count": 122,
   "metadata": {
    "collapsed": false
   },
   "outputs": [
    {
     "data": {
      "text/html": [
       "<div>\n",
       "<table border=\"1\" class=\"dataframe\">\n",
       "  <thead>\n",
       "    <tr style=\"text-align: right;\">\n",
       "      <th></th>\n",
       "      <th>A</th>\n",
       "      <th>B</th>\n",
       "    </tr>\n",
       "  </thead>\n",
       "  <tbody>\n",
       "    <tr>\n",
       "      <th>2016-09-06</th>\n",
       "      <td>0.751200</td>\n",
       "      <td>0.618443</td>\n",
       "    </tr>\n",
       "    <tr>\n",
       "      <th>2016-09-07</th>\n",
       "      <td>-2.649810</td>\n",
       "      <td>1.930686</td>\n",
       "    </tr>\n",
       "    <tr>\n",
       "      <th>2016-09-08</th>\n",
       "      <td>-0.987488</td>\n",
       "      <td>-0.276117</td>\n",
       "    </tr>\n",
       "    <tr>\n",
       "      <th>2016-09-09</th>\n",
       "      <td>0.446936</td>\n",
       "      <td>0.420871</td>\n",
       "    </tr>\n",
       "    <tr>\n",
       "      <th>2016-09-10</th>\n",
       "      <td>0.671273</td>\n",
       "      <td>0.490926</td>\n",
       "    </tr>\n",
       "    <tr>\n",
       "      <th>2016-09-11</th>\n",
       "      <td>0.334778</td>\n",
       "      <td>1.363951</td>\n",
       "    </tr>\n",
       "    <tr>\n",
       "      <th>2016-09-12</th>\n",
       "      <td>0.934308</td>\n",
       "      <td>-1.003990</td>\n",
       "    </tr>\n",
       "    <tr>\n",
       "      <th>2016-09-13</th>\n",
       "      <td>-1.113481</td>\n",
       "      <td>-1.456722</td>\n",
       "    </tr>\n",
       "    <tr>\n",
       "      <th>2016-09-14</th>\n",
       "      <td>1.202492</td>\n",
       "      <td>1.292376</td>\n",
       "    </tr>\n",
       "    <tr>\n",
       "      <th>2016-09-15</th>\n",
       "      <td>1.666588</td>\n",
       "      <td>-0.184773</td>\n",
       "    </tr>\n",
       "  </tbody>\n",
       "</table>\n",
       "</div>"
      ],
      "text/plain": [
       "                   A         B\n",
       "2016-09-06  0.751200  0.618443\n",
       "2016-09-07 -2.649810  1.930686\n",
       "2016-09-08 -0.987488 -0.276117\n",
       "2016-09-09  0.446936  0.420871\n",
       "2016-09-10  0.671273  0.490926\n",
       "2016-09-11  0.334778  1.363951\n",
       "2016-09-12  0.934308 -1.003990\n",
       "2016-09-13 -1.113481 -1.456722\n",
       "2016-09-14  1.202492  1.292376\n",
       "2016-09-15  1.666588 -0.184773"
      ]
     },
     "execution_count": 122,
     "metadata": {},
     "output_type": "execute_result"
    }
   ],
   "source": [
    " df.loc[:,['A','B']]"
   ]
  },
  {
   "cell_type": "code",
   "execution_count": 123,
   "metadata": {
    "collapsed": false,
    "scrolled": true
   },
   "outputs": [
    {
     "data": {
      "text/html": [
       "<div>\n",
       "<table border=\"1\" class=\"dataframe\">\n",
       "  <thead>\n",
       "    <tr style=\"text-align: right;\">\n",
       "      <th></th>\n",
       "      <th>A</th>\n",
       "      <th>B</th>\n",
       "    </tr>\n",
       "  </thead>\n",
       "  <tbody>\n",
       "    <tr>\n",
       "      <th>2016-09-06</th>\n",
       "      <td>0.751200</td>\n",
       "      <td>0.618443</td>\n",
       "    </tr>\n",
       "    <tr>\n",
       "      <th>2016-09-07</th>\n",
       "      <td>-2.649810</td>\n",
       "      <td>1.930686</td>\n",
       "    </tr>\n",
       "    <tr>\n",
       "      <th>2016-09-08</th>\n",
       "      <td>-0.987488</td>\n",
       "      <td>-0.276117</td>\n",
       "    </tr>\n",
       "    <tr>\n",
       "      <th>2016-09-09</th>\n",
       "      <td>0.446936</td>\n",
       "      <td>0.420871</td>\n",
       "    </tr>\n",
       "    <tr>\n",
       "      <th>2016-09-10</th>\n",
       "      <td>0.671273</td>\n",
       "      <td>0.490926</td>\n",
       "    </tr>\n",
       "  </tbody>\n",
       "</table>\n",
       "</div>"
      ],
      "text/plain": [
       "                   A         B\n",
       "2016-09-06  0.751200  0.618443\n",
       "2016-09-07 -2.649810  1.930686\n",
       "2016-09-08 -0.987488 -0.276117\n",
       "2016-09-09  0.446936  0.420871\n",
       "2016-09-10  0.671273  0.490926"
      ]
     },
     "execution_count": 123,
     "metadata": {},
     "output_type": "execute_result"
    }
   ],
   "source": [
    "df.loc['20160906':'20160910',['A','B']]"
   ]
  },
  {
   "cell_type": "code",
   "execution_count": 124,
   "metadata": {
    "collapsed": false
   },
   "outputs": [
    {
     "data": {
      "text/plain": [
       "A    0.751200\n",
       "B    0.618443\n",
       "Name: 2016-09-06 00:00:00, dtype: float64"
      ]
     },
     "execution_count": 124,
     "metadata": {},
     "output_type": "execute_result"
    }
   ],
   "source": [
    "df.loc['20160906',['A','B']]"
   ]
  },
  {
   "cell_type": "markdown",
   "metadata": {},
   "source": [
    "get scala value"
   ]
  },
  {
   "cell_type": "code",
   "execution_count": 125,
   "metadata": {
    "collapsed": false
   },
   "outputs": [
    {
     "data": {
      "text/plain": [
       "0.75119987435538194"
      ]
     },
     "execution_count": 125,
     "metadata": {},
     "output_type": "execute_result"
    }
   ],
   "source": [
    "df.loc[dates[0],'A']"
   ]
  },
  {
   "cell_type": "code",
   "execution_count": 126,
   "metadata": {
    "collapsed": false
   },
   "outputs": [
    {
     "data": {
      "text/plain": [
       "0.75119987435538194"
      ]
     },
     "execution_count": 126,
     "metadata": {},
     "output_type": "execute_result"
    }
   ],
   "source": [
    "df.at[dates[0],'A']"
   ]
  },
  {
   "cell_type": "markdown",
   "metadata": {},
   "source": [
    "같은 기능의 method,... at이 데이터 찾기를 위해서는 더 빠른 작동을 함"
   ]
  },
  {
   "cell_type": "markdown",
   "metadata": {},
   "source": [
    "## Selection by Position"
   ]
  },
  {
   "cell_type": "code",
   "execution_count": 127,
   "metadata": {
    "collapsed": false
   },
   "outputs": [
    {
     "data": {
      "text/plain": [
       "A    0.446936\n",
       "B    0.420871\n",
       "C   -1.358857\n",
       "D   -0.645100\n",
       "E   -0.156841\n",
       "Name: 2016-09-09 00:00:00, dtype: float64"
      ]
     },
     "execution_count": 127,
     "metadata": {},
     "output_type": "execute_result"
    }
   ],
   "source": [
    "df.iloc[3]"
   ]
  },
  {
   "cell_type": "code",
   "execution_count": 128,
   "metadata": {
    "collapsed": false
   },
   "outputs": [
    {
     "data": {
      "text/plain": [
       "A   -2.649810\n",
       "B    1.930686\n",
       "C    1.248943\n",
       "D   -0.842927\n",
       "E    1.672825\n",
       "Name: 2016-09-07 00:00:00, dtype: float64"
      ]
     },
     "execution_count": 128,
     "metadata": {},
     "output_type": "execute_result"
    }
   ],
   "source": [
    "df.iloc[1]"
   ]
  },
  {
   "cell_type": "code",
   "execution_count": 129,
   "metadata": {
    "collapsed": false
   },
   "outputs": [
    {
     "data": {
      "text/plain": [
       "A    0.751200\n",
       "B    0.618443\n",
       "C   -0.342827\n",
       "D   -0.589471\n",
       "E    0.615410\n",
       "Name: 2016-09-06 00:00:00, dtype: float64"
      ]
     },
     "execution_count": 129,
     "metadata": {},
     "output_type": "execute_result"
    }
   ],
   "source": [
    "df.iloc[0]"
   ]
  },
  {
   "cell_type": "markdown",
   "metadata": {},
   "source": [
    "IN"
   ]
  },
  {
   "cell_type": "code",
   "execution_count": 130,
   "metadata": {
    "collapsed": false
   },
   "outputs": [
    {
     "data": {
      "text/html": [
       "<div>\n",
       "<table border=\"1\" class=\"dataframe\">\n",
       "  <thead>\n",
       "    <tr style=\"text-align: right;\">\n",
       "      <th></th>\n",
       "      <th>A</th>\n",
       "      <th>B</th>\n",
       "    </tr>\n",
       "  </thead>\n",
       "  <tbody>\n",
       "    <tr>\n",
       "      <th>2016-09-09</th>\n",
       "      <td>0.446936</td>\n",
       "      <td>0.420871</td>\n",
       "    </tr>\n",
       "    <tr>\n",
       "      <th>2016-09-10</th>\n",
       "      <td>0.671273</td>\n",
       "      <td>0.490926</td>\n",
       "    </tr>\n",
       "  </tbody>\n",
       "</table>\n",
       "</div>"
      ],
      "text/plain": [
       "                   A         B\n",
       "2016-09-09  0.446936  0.420871\n",
       "2016-09-10  0.671273  0.490926"
      ]
     },
     "execution_count": 130,
     "metadata": {},
     "output_type": "execute_result"
    }
   ],
   "source": [
    "df.iloc[3:5,0:2]"
   ]
  },
  {
   "cell_type": "markdown",
   "metadata": {},
   "source": [
    "행,열 slice 선택 가능"
   ]
  },
  {
   "cell_type": "code",
   "execution_count": 131,
   "metadata": {
    "collapsed": false
   },
   "outputs": [
    {
     "data": {
      "text/html": [
       "<div>\n",
       "<table border=\"1\" class=\"dataframe\">\n",
       "  <thead>\n",
       "    <tr style=\"text-align: right;\">\n",
       "      <th></th>\n",
       "      <th>C</th>\n",
       "      <th>E</th>\n",
       "    </tr>\n",
       "  </thead>\n",
       "  <tbody>\n",
       "    <tr>\n",
       "      <th>2016-09-07</th>\n",
       "      <td>1.248943</td>\n",
       "      <td>1.672825</td>\n",
       "    </tr>\n",
       "    <tr>\n",
       "      <th>2016-09-08</th>\n",
       "      <td>0.473817</td>\n",
       "      <td>-0.074974</td>\n",
       "    </tr>\n",
       "    <tr>\n",
       "      <th>2016-09-11</th>\n",
       "      <td>0.781070</td>\n",
       "      <td>0.686858</td>\n",
       "    </tr>\n",
       "  </tbody>\n",
       "</table>\n",
       "</div>"
      ],
      "text/plain": [
       "                   C         E\n",
       "2016-09-07  1.248943  1.672825\n",
       "2016-09-08  0.473817 -0.074974\n",
       "2016-09-11  0.781070  0.686858"
      ]
     },
     "execution_count": 131,
     "metadata": {},
     "output_type": "execute_result"
    }
   ],
   "source": [
    "df.iloc[[1,2,5],[2,4]]"
   ]
  },
  {
   "cell_type": "markdown",
   "metadata": {},
   "source": [
    "행,열 integer값으로 선택"
   ]
  },
  {
   "cell_type": "code",
   "execution_count": 132,
   "metadata": {
    "collapsed": false
   },
   "outputs": [
    {
     "data": {
      "text/html": [
       "<div>\n",
       "<table border=\"1\" class=\"dataframe\">\n",
       "  <thead>\n",
       "    <tr style=\"text-align: right;\">\n",
       "      <th></th>\n",
       "      <th>A</th>\n",
       "      <th>B</th>\n",
       "      <th>C</th>\n",
       "      <th>D</th>\n",
       "      <th>E</th>\n",
       "    </tr>\n",
       "  </thead>\n",
       "  <tbody>\n",
       "    <tr>\n",
       "      <th>2016-09-08</th>\n",
       "      <td>-0.987488</td>\n",
       "      <td>-0.276117</td>\n",
       "      <td>0.473817</td>\n",
       "      <td>1.170554</td>\n",
       "      <td>-0.074974</td>\n",
       "    </tr>\n",
       "    <tr>\n",
       "      <th>2016-09-09</th>\n",
       "      <td>0.446936</td>\n",
       "      <td>0.420871</td>\n",
       "      <td>-1.358857</td>\n",
       "      <td>-0.645100</td>\n",
       "      <td>-0.156841</td>\n",
       "    </tr>\n",
       "    <tr>\n",
       "      <th>2016-09-10</th>\n",
       "      <td>0.671273</td>\n",
       "      <td>0.490926</td>\n",
       "      <td>-0.333710</td>\n",
       "      <td>-1.828877</td>\n",
       "      <td>0.044393</td>\n",
       "    </tr>\n",
       "    <tr>\n",
       "      <th>2016-09-11</th>\n",
       "      <td>0.334778</td>\n",
       "      <td>1.363951</td>\n",
       "      <td>0.781070</td>\n",
       "      <td>-0.823499</td>\n",
       "      <td>0.686858</td>\n",
       "    </tr>\n",
       "    <tr>\n",
       "      <th>2016-09-12</th>\n",
       "      <td>0.934308</td>\n",
       "      <td>-1.003990</td>\n",
       "      <td>1.300007</td>\n",
       "      <td>1.119088</td>\n",
       "      <td>-1.556634</td>\n",
       "    </tr>\n",
       "  </tbody>\n",
       "</table>\n",
       "</div>"
      ],
      "text/plain": [
       "                   A         B         C         D         E\n",
       "2016-09-08 -0.987488 -0.276117  0.473817  1.170554 -0.074974\n",
       "2016-09-09  0.446936  0.420871 -1.358857 -0.645100 -0.156841\n",
       "2016-09-10  0.671273  0.490926 -0.333710 -1.828877  0.044393\n",
       "2016-09-11  0.334778  1.363951  0.781070 -0.823499  0.686858\n",
       "2016-09-12  0.934308 -1.003990  1.300007  1.119088 -1.556634"
      ]
     },
     "execution_count": 132,
     "metadata": {},
     "output_type": "execute_result"
    }
   ],
   "source": [
    "df.iloc[2:7,:]"
   ]
  },
  {
   "cell_type": "markdown",
   "metadata": {},
   "source": [
    "rows slicing"
   ]
  },
  {
   "cell_type": "code",
   "execution_count": 133,
   "metadata": {
    "collapsed": false
   },
   "outputs": [
    {
     "data": {
      "text/html": [
       "<div>\n",
       "<table border=\"1\" class=\"dataframe\">\n",
       "  <thead>\n",
       "    <tr style=\"text-align: right;\">\n",
       "      <th></th>\n",
       "      <th>B</th>\n",
       "      <th>C</th>\n",
       "    </tr>\n",
       "  </thead>\n",
       "  <tbody>\n",
       "    <tr>\n",
       "      <th>2016-09-06</th>\n",
       "      <td>0.618443</td>\n",
       "      <td>-0.342827</td>\n",
       "    </tr>\n",
       "    <tr>\n",
       "      <th>2016-09-07</th>\n",
       "      <td>1.930686</td>\n",
       "      <td>1.248943</td>\n",
       "    </tr>\n",
       "    <tr>\n",
       "      <th>2016-09-08</th>\n",
       "      <td>-0.276117</td>\n",
       "      <td>0.473817</td>\n",
       "    </tr>\n",
       "    <tr>\n",
       "      <th>2016-09-09</th>\n",
       "      <td>0.420871</td>\n",
       "      <td>-1.358857</td>\n",
       "    </tr>\n",
       "    <tr>\n",
       "      <th>2016-09-10</th>\n",
       "      <td>0.490926</td>\n",
       "      <td>-0.333710</td>\n",
       "    </tr>\n",
       "    <tr>\n",
       "      <th>2016-09-11</th>\n",
       "      <td>1.363951</td>\n",
       "      <td>0.781070</td>\n",
       "    </tr>\n",
       "    <tr>\n",
       "      <th>2016-09-12</th>\n",
       "      <td>-1.003990</td>\n",
       "      <td>1.300007</td>\n",
       "    </tr>\n",
       "    <tr>\n",
       "      <th>2016-09-13</th>\n",
       "      <td>-1.456722</td>\n",
       "      <td>-0.262049</td>\n",
       "    </tr>\n",
       "    <tr>\n",
       "      <th>2016-09-14</th>\n",
       "      <td>1.292376</td>\n",
       "      <td>0.353395</td>\n",
       "    </tr>\n",
       "    <tr>\n",
       "      <th>2016-09-15</th>\n",
       "      <td>-0.184773</td>\n",
       "      <td>0.561936</td>\n",
       "    </tr>\n",
       "  </tbody>\n",
       "</table>\n",
       "</div>"
      ],
      "text/plain": [
       "                   B         C\n",
       "2016-09-06  0.618443 -0.342827\n",
       "2016-09-07  1.930686  1.248943\n",
       "2016-09-08 -0.276117  0.473817\n",
       "2016-09-09  0.420871 -1.358857\n",
       "2016-09-10  0.490926 -0.333710\n",
       "2016-09-11  1.363951  0.781070\n",
       "2016-09-12 -1.003990  1.300007\n",
       "2016-09-13 -1.456722 -0.262049\n",
       "2016-09-14  1.292376  0.353395\n",
       "2016-09-15 -0.184773  0.561936"
      ]
     },
     "execution_count": 133,
     "metadata": {},
     "output_type": "execute_result"
    }
   ],
   "source": [
    "df.iloc[:,1:3]"
   ]
  },
  {
   "cell_type": "markdown",
   "metadata": {},
   "source": [
    "columns slicing"
   ]
  },
  {
   "cell_type": "code",
   "execution_count": 134,
   "metadata": {
    "collapsed": false
   },
   "outputs": [
    {
     "data": {
      "text/plain": [
       "1.9306856195286639"
      ]
     },
     "execution_count": 134,
     "metadata": {},
     "output_type": "execute_result"
    }
   ],
   "source": [
    "df.iloc[1,1]"
   ]
  },
  {
   "cell_type": "code",
   "execution_count": 135,
   "metadata": {
    "collapsed": false
   },
   "outputs": [
    {
     "data": {
      "text/plain": [
       "1.9306856195286639"
      ]
     },
     "execution_count": 135,
     "metadata": {},
     "output_type": "execute_result"
    }
   ],
   "source": [
    "df.iat[1,1]"
   ]
  },
  {
   "cell_type": "markdown",
   "metadata": {},
   "source": [
    "## Boolean indexing"
   ]
  },
  {
   "cell_type": "code",
   "execution_count": 136,
   "metadata": {
    "collapsed": false
   },
   "outputs": [
    {
     "data": {
      "text/html": [
       "<div>\n",
       "<table border=\"1\" class=\"dataframe\">\n",
       "  <thead>\n",
       "    <tr style=\"text-align: right;\">\n",
       "      <th></th>\n",
       "      <th>A</th>\n",
       "      <th>B</th>\n",
       "      <th>C</th>\n",
       "      <th>D</th>\n",
       "      <th>E</th>\n",
       "    </tr>\n",
       "  </thead>\n",
       "  <tbody>\n",
       "    <tr>\n",
       "      <th>2016-09-06</th>\n",
       "      <td>0.751200</td>\n",
       "      <td>0.618443</td>\n",
       "      <td>-0.342827</td>\n",
       "      <td>-0.589471</td>\n",
       "      <td>0.615410</td>\n",
       "    </tr>\n",
       "    <tr>\n",
       "      <th>2016-09-09</th>\n",
       "      <td>0.446936</td>\n",
       "      <td>0.420871</td>\n",
       "      <td>-1.358857</td>\n",
       "      <td>-0.645100</td>\n",
       "      <td>-0.156841</td>\n",
       "    </tr>\n",
       "    <tr>\n",
       "      <th>2016-09-10</th>\n",
       "      <td>0.671273</td>\n",
       "      <td>0.490926</td>\n",
       "      <td>-0.333710</td>\n",
       "      <td>-1.828877</td>\n",
       "      <td>0.044393</td>\n",
       "    </tr>\n",
       "    <tr>\n",
       "      <th>2016-09-11</th>\n",
       "      <td>0.334778</td>\n",
       "      <td>1.363951</td>\n",
       "      <td>0.781070</td>\n",
       "      <td>-0.823499</td>\n",
       "      <td>0.686858</td>\n",
       "    </tr>\n",
       "    <tr>\n",
       "      <th>2016-09-12</th>\n",
       "      <td>0.934308</td>\n",
       "      <td>-1.003990</td>\n",
       "      <td>1.300007</td>\n",
       "      <td>1.119088</td>\n",
       "      <td>-1.556634</td>\n",
       "    </tr>\n",
       "    <tr>\n",
       "      <th>2016-09-14</th>\n",
       "      <td>1.202492</td>\n",
       "      <td>1.292376</td>\n",
       "      <td>0.353395</td>\n",
       "      <td>0.197067</td>\n",
       "      <td>-1.571785</td>\n",
       "    </tr>\n",
       "    <tr>\n",
       "      <th>2016-09-15</th>\n",
       "      <td>1.666588</td>\n",
       "      <td>-0.184773</td>\n",
       "      <td>0.561936</td>\n",
       "      <td>-1.437131</td>\n",
       "      <td>-0.337799</td>\n",
       "    </tr>\n",
       "  </tbody>\n",
       "</table>\n",
       "</div>"
      ],
      "text/plain": [
       "                   A         B         C         D         E\n",
       "2016-09-06  0.751200  0.618443 -0.342827 -0.589471  0.615410\n",
       "2016-09-09  0.446936  0.420871 -1.358857 -0.645100 -0.156841\n",
       "2016-09-10  0.671273  0.490926 -0.333710 -1.828877  0.044393\n",
       "2016-09-11  0.334778  1.363951  0.781070 -0.823499  0.686858\n",
       "2016-09-12  0.934308 -1.003990  1.300007  1.119088 -1.556634\n",
       "2016-09-14  1.202492  1.292376  0.353395  0.197067 -1.571785\n",
       "2016-09-15  1.666588 -0.184773  0.561936 -1.437131 -0.337799"
      ]
     },
     "execution_count": 136,
     "metadata": {},
     "output_type": "execute_result"
    }
   ],
   "source": [
    "df[df.A>0]"
   ]
  },
  {
   "cell_type": "code",
   "execution_count": 137,
   "metadata": {
    "collapsed": false
   },
   "outputs": [
    {
     "data": {
      "text/html": [
       "<div>\n",
       "<table border=\"1\" class=\"dataframe\">\n",
       "  <thead>\n",
       "    <tr style=\"text-align: right;\">\n",
       "      <th></th>\n",
       "      <th>A</th>\n",
       "      <th>B</th>\n",
       "      <th>C</th>\n",
       "      <th>D</th>\n",
       "      <th>E</th>\n",
       "    </tr>\n",
       "  </thead>\n",
       "  <tbody>\n",
       "    <tr>\n",
       "      <th>2016-09-06</th>\n",
       "      <td>0.751200</td>\n",
       "      <td>0.618443</td>\n",
       "      <td>NaN</td>\n",
       "      <td>NaN</td>\n",
       "      <td>0.615410</td>\n",
       "    </tr>\n",
       "    <tr>\n",
       "      <th>2016-09-07</th>\n",
       "      <td>NaN</td>\n",
       "      <td>1.930686</td>\n",
       "      <td>1.248943</td>\n",
       "      <td>NaN</td>\n",
       "      <td>1.672825</td>\n",
       "    </tr>\n",
       "    <tr>\n",
       "      <th>2016-09-08</th>\n",
       "      <td>NaN</td>\n",
       "      <td>NaN</td>\n",
       "      <td>0.473817</td>\n",
       "      <td>1.170554</td>\n",
       "      <td>NaN</td>\n",
       "    </tr>\n",
       "    <tr>\n",
       "      <th>2016-09-09</th>\n",
       "      <td>0.446936</td>\n",
       "      <td>0.420871</td>\n",
       "      <td>NaN</td>\n",
       "      <td>NaN</td>\n",
       "      <td>NaN</td>\n",
       "    </tr>\n",
       "    <tr>\n",
       "      <th>2016-09-10</th>\n",
       "      <td>0.671273</td>\n",
       "      <td>0.490926</td>\n",
       "      <td>NaN</td>\n",
       "      <td>NaN</td>\n",
       "      <td>0.044393</td>\n",
       "    </tr>\n",
       "    <tr>\n",
       "      <th>2016-09-11</th>\n",
       "      <td>0.334778</td>\n",
       "      <td>1.363951</td>\n",
       "      <td>0.781070</td>\n",
       "      <td>NaN</td>\n",
       "      <td>0.686858</td>\n",
       "    </tr>\n",
       "    <tr>\n",
       "      <th>2016-09-12</th>\n",
       "      <td>0.934308</td>\n",
       "      <td>NaN</td>\n",
       "      <td>1.300007</td>\n",
       "      <td>1.119088</td>\n",
       "      <td>NaN</td>\n",
       "    </tr>\n",
       "    <tr>\n",
       "      <th>2016-09-13</th>\n",
       "      <td>NaN</td>\n",
       "      <td>NaN</td>\n",
       "      <td>NaN</td>\n",
       "      <td>NaN</td>\n",
       "      <td>NaN</td>\n",
       "    </tr>\n",
       "    <tr>\n",
       "      <th>2016-09-14</th>\n",
       "      <td>1.202492</td>\n",
       "      <td>1.292376</td>\n",
       "      <td>0.353395</td>\n",
       "      <td>0.197067</td>\n",
       "      <td>NaN</td>\n",
       "    </tr>\n",
       "    <tr>\n",
       "      <th>2016-09-15</th>\n",
       "      <td>1.666588</td>\n",
       "      <td>NaN</td>\n",
       "      <td>0.561936</td>\n",
       "      <td>NaN</td>\n",
       "      <td>NaN</td>\n",
       "    </tr>\n",
       "  </tbody>\n",
       "</table>\n",
       "</div>"
      ],
      "text/plain": [
       "                   A         B         C         D         E\n",
       "2016-09-06  0.751200  0.618443       NaN       NaN  0.615410\n",
       "2016-09-07       NaN  1.930686  1.248943       NaN  1.672825\n",
       "2016-09-08       NaN       NaN  0.473817  1.170554       NaN\n",
       "2016-09-09  0.446936  0.420871       NaN       NaN       NaN\n",
       "2016-09-10  0.671273  0.490926       NaN       NaN  0.044393\n",
       "2016-09-11  0.334778  1.363951  0.781070       NaN  0.686858\n",
       "2016-09-12  0.934308       NaN  1.300007  1.119088       NaN\n",
       "2016-09-13       NaN       NaN       NaN       NaN       NaN\n",
       "2016-09-14  1.202492  1.292376  0.353395  0.197067       NaN\n",
       "2016-09-15  1.666588       NaN  0.561936       NaN       NaN"
      ]
     },
     "execution_count": 137,
     "metadata": {},
     "output_type": "execute_result"
    }
   ],
   "source": [
    "df[df>0]"
   ]
  },
  {
   "cell_type": "code",
   "execution_count": 138,
   "metadata": {
    "collapsed": true
   },
   "outputs": [],
   "source": [
    "df2=df.copy()"
   ]
  },
  {
   "cell_type": "code",
   "execution_count": 139,
   "metadata": {
    "collapsed": false
   },
   "outputs": [],
   "source": [
    "df2['F'] = ['one', 'one','two','three','four','three','six','seven','ten','five']"
   ]
  },
  {
   "cell_type": "code",
   "execution_count": 140,
   "metadata": {
    "collapsed": false
   },
   "outputs": [
    {
     "data": {
      "text/html": [
       "<div>\n",
       "<table border=\"1\" class=\"dataframe\">\n",
       "  <thead>\n",
       "    <tr style=\"text-align: right;\">\n",
       "      <th></th>\n",
       "      <th>A</th>\n",
       "      <th>B</th>\n",
       "      <th>C</th>\n",
       "      <th>D</th>\n",
       "      <th>E</th>\n",
       "      <th>F</th>\n",
       "    </tr>\n",
       "  </thead>\n",
       "  <tbody>\n",
       "    <tr>\n",
       "      <th>2016-09-06</th>\n",
       "      <td>0.751200</td>\n",
       "      <td>0.618443</td>\n",
       "      <td>-0.342827</td>\n",
       "      <td>-0.589471</td>\n",
       "      <td>0.615410</td>\n",
       "      <td>one</td>\n",
       "    </tr>\n",
       "    <tr>\n",
       "      <th>2016-09-07</th>\n",
       "      <td>-2.649810</td>\n",
       "      <td>1.930686</td>\n",
       "      <td>1.248943</td>\n",
       "      <td>-0.842927</td>\n",
       "      <td>1.672825</td>\n",
       "      <td>one</td>\n",
       "    </tr>\n",
       "    <tr>\n",
       "      <th>2016-09-08</th>\n",
       "      <td>-0.987488</td>\n",
       "      <td>-0.276117</td>\n",
       "      <td>0.473817</td>\n",
       "      <td>1.170554</td>\n",
       "      <td>-0.074974</td>\n",
       "      <td>two</td>\n",
       "    </tr>\n",
       "    <tr>\n",
       "      <th>2016-09-09</th>\n",
       "      <td>0.446936</td>\n",
       "      <td>0.420871</td>\n",
       "      <td>-1.358857</td>\n",
       "      <td>-0.645100</td>\n",
       "      <td>-0.156841</td>\n",
       "      <td>three</td>\n",
       "    </tr>\n",
       "    <tr>\n",
       "      <th>2016-09-10</th>\n",
       "      <td>0.671273</td>\n",
       "      <td>0.490926</td>\n",
       "      <td>-0.333710</td>\n",
       "      <td>-1.828877</td>\n",
       "      <td>0.044393</td>\n",
       "      <td>four</td>\n",
       "    </tr>\n",
       "    <tr>\n",
       "      <th>2016-09-11</th>\n",
       "      <td>0.334778</td>\n",
       "      <td>1.363951</td>\n",
       "      <td>0.781070</td>\n",
       "      <td>-0.823499</td>\n",
       "      <td>0.686858</td>\n",
       "      <td>three</td>\n",
       "    </tr>\n",
       "    <tr>\n",
       "      <th>2016-09-12</th>\n",
       "      <td>0.934308</td>\n",
       "      <td>-1.003990</td>\n",
       "      <td>1.300007</td>\n",
       "      <td>1.119088</td>\n",
       "      <td>-1.556634</td>\n",
       "      <td>six</td>\n",
       "    </tr>\n",
       "    <tr>\n",
       "      <th>2016-09-13</th>\n",
       "      <td>-1.113481</td>\n",
       "      <td>-1.456722</td>\n",
       "      <td>-0.262049</td>\n",
       "      <td>-0.384681</td>\n",
       "      <td>-0.782280</td>\n",
       "      <td>seven</td>\n",
       "    </tr>\n",
       "    <tr>\n",
       "      <th>2016-09-14</th>\n",
       "      <td>1.202492</td>\n",
       "      <td>1.292376</td>\n",
       "      <td>0.353395</td>\n",
       "      <td>0.197067</td>\n",
       "      <td>-1.571785</td>\n",
       "      <td>ten</td>\n",
       "    </tr>\n",
       "    <tr>\n",
       "      <th>2016-09-15</th>\n",
       "      <td>1.666588</td>\n",
       "      <td>-0.184773</td>\n",
       "      <td>0.561936</td>\n",
       "      <td>-1.437131</td>\n",
       "      <td>-0.337799</td>\n",
       "      <td>five</td>\n",
       "    </tr>\n",
       "  </tbody>\n",
       "</table>\n",
       "</div>"
      ],
      "text/plain": [
       "                   A         B         C         D         E      F\n",
       "2016-09-06  0.751200  0.618443 -0.342827 -0.589471  0.615410    one\n",
       "2016-09-07 -2.649810  1.930686  1.248943 -0.842927  1.672825    one\n",
       "2016-09-08 -0.987488 -0.276117  0.473817  1.170554 -0.074974    two\n",
       "2016-09-09  0.446936  0.420871 -1.358857 -0.645100 -0.156841  three\n",
       "2016-09-10  0.671273  0.490926 -0.333710 -1.828877  0.044393   four\n",
       "2016-09-11  0.334778  1.363951  0.781070 -0.823499  0.686858  three\n",
       "2016-09-12  0.934308 -1.003990  1.300007  1.119088 -1.556634    six\n",
       "2016-09-13 -1.113481 -1.456722 -0.262049 -0.384681 -0.782280  seven\n",
       "2016-09-14  1.202492  1.292376  0.353395  0.197067 -1.571785    ten\n",
       "2016-09-15  1.666588 -0.184773  0.561936 -1.437131 -0.337799   five"
      ]
     },
     "execution_count": 140,
     "metadata": {},
     "output_type": "execute_result"
    }
   ],
   "source": [
    "df2"
   ]
  },
  {
   "cell_type": "code",
   "execution_count": 141,
   "metadata": {
    "collapsed": false
   },
   "outputs": [
    {
     "data": {
      "text/html": [
       "<div>\n",
       "<table border=\"1\" class=\"dataframe\">\n",
       "  <thead>\n",
       "    <tr style=\"text-align: right;\">\n",
       "      <th></th>\n",
       "      <th>A</th>\n",
       "      <th>B</th>\n",
       "      <th>C</th>\n",
       "      <th>D</th>\n",
       "      <th>E</th>\n",
       "      <th>F</th>\n",
       "    </tr>\n",
       "  </thead>\n",
       "  <tbody>\n",
       "    <tr>\n",
       "      <th>2016-09-08</th>\n",
       "      <td>-0.987488</td>\n",
       "      <td>-0.276117</td>\n",
       "      <td>0.473817</td>\n",
       "      <td>1.170554</td>\n",
       "      <td>-0.074974</td>\n",
       "      <td>two</td>\n",
       "    </tr>\n",
       "    <tr>\n",
       "      <th>2016-09-10</th>\n",
       "      <td>0.671273</td>\n",
       "      <td>0.490926</td>\n",
       "      <td>-0.333710</td>\n",
       "      <td>-1.828877</td>\n",
       "      <td>0.044393</td>\n",
       "      <td>four</td>\n",
       "    </tr>\n",
       "  </tbody>\n",
       "</table>\n",
       "</div>"
      ],
      "text/plain": [
       "                   A         B         C         D         E     F\n",
       "2016-09-08 -0.987488 -0.276117  0.473817  1.170554 -0.074974   two\n",
       "2016-09-10  0.671273  0.490926 -0.333710 -1.828877  0.044393  four"
      ]
     },
     "execution_count": 141,
     "metadata": {},
     "output_type": "execute_result"
    }
   ],
   "source": [
    "df2[df2['F'].isin(['two','four'])]"
   ]
  },
  {
   "cell_type": "markdown",
   "metadata": {},
   "source": [
    "## Setting"
   ]
  },
  {
   "cell_type": "code",
   "execution_count": 142,
   "metadata": {
    "collapsed": true
   },
   "outputs": [],
   "source": [
    " s1 = pd.Series([1,2,3,4,5,6], index=pd.date_range('20160912', periods=6))"
   ]
  },
  {
   "cell_type": "code",
   "execution_count": 143,
   "metadata": {
    "collapsed": false
   },
   "outputs": [
    {
     "data": {
      "text/plain": [
       "2016-09-12    1\n",
       "2016-09-13    2\n",
       "2016-09-14    3\n",
       "2016-09-15    4\n",
       "2016-09-16    5\n",
       "2016-09-17    6\n",
       "Freq: D, dtype: int64"
      ]
     },
     "execution_count": 143,
     "metadata": {},
     "output_type": "execute_result"
    }
   ],
   "source": [
    "s1"
   ]
  },
  {
   "cell_type": "code",
   "execution_count": 144,
   "metadata": {
    "collapsed": true
   },
   "outputs": [],
   "source": [
    "df['F'] = s1"
   ]
  },
  {
   "cell_type": "code",
   "execution_count": 145,
   "metadata": {
    "collapsed": true
   },
   "outputs": [],
   "source": [
    "df.at[dates[0],'A']=0"
   ]
  },
  {
   "cell_type": "code",
   "execution_count": 146,
   "metadata": {
    "collapsed": true
   },
   "outputs": [],
   "source": [
    "df.iat[0,1]=0"
   ]
  },
  {
   "cell_type": "code",
   "execution_count": 147,
   "metadata": {
    "collapsed": true
   },
   "outputs": [],
   "source": [
    "df.loc[:,'D'] = np.array([5]*len(df))"
   ]
  },
  {
   "cell_type": "code",
   "execution_count": 148,
   "metadata": {
    "collapsed": false
   },
   "outputs": [
    {
     "data": {
      "text/html": [
       "<div>\n",
       "<table border=\"1\" class=\"dataframe\">\n",
       "  <thead>\n",
       "    <tr style=\"text-align: right;\">\n",
       "      <th></th>\n",
       "      <th>A</th>\n",
       "      <th>B</th>\n",
       "      <th>C</th>\n",
       "      <th>D</th>\n",
       "      <th>E</th>\n",
       "      <th>F</th>\n",
       "    </tr>\n",
       "  </thead>\n",
       "  <tbody>\n",
       "    <tr>\n",
       "      <th>2016-09-06</th>\n",
       "      <td>0.000000</td>\n",
       "      <td>0.000000</td>\n",
       "      <td>-0.342827</td>\n",
       "      <td>5</td>\n",
       "      <td>0.615410</td>\n",
       "      <td>NaN</td>\n",
       "    </tr>\n",
       "    <tr>\n",
       "      <th>2016-09-07</th>\n",
       "      <td>-2.649810</td>\n",
       "      <td>1.930686</td>\n",
       "      <td>1.248943</td>\n",
       "      <td>5</td>\n",
       "      <td>1.672825</td>\n",
       "      <td>NaN</td>\n",
       "    </tr>\n",
       "    <tr>\n",
       "      <th>2016-09-08</th>\n",
       "      <td>-0.987488</td>\n",
       "      <td>-0.276117</td>\n",
       "      <td>0.473817</td>\n",
       "      <td>5</td>\n",
       "      <td>-0.074974</td>\n",
       "      <td>NaN</td>\n",
       "    </tr>\n",
       "    <tr>\n",
       "      <th>2016-09-09</th>\n",
       "      <td>0.446936</td>\n",
       "      <td>0.420871</td>\n",
       "      <td>-1.358857</td>\n",
       "      <td>5</td>\n",
       "      <td>-0.156841</td>\n",
       "      <td>NaN</td>\n",
       "    </tr>\n",
       "    <tr>\n",
       "      <th>2016-09-10</th>\n",
       "      <td>0.671273</td>\n",
       "      <td>0.490926</td>\n",
       "      <td>-0.333710</td>\n",
       "      <td>5</td>\n",
       "      <td>0.044393</td>\n",
       "      <td>NaN</td>\n",
       "    </tr>\n",
       "    <tr>\n",
       "      <th>2016-09-11</th>\n",
       "      <td>0.334778</td>\n",
       "      <td>1.363951</td>\n",
       "      <td>0.781070</td>\n",
       "      <td>5</td>\n",
       "      <td>0.686858</td>\n",
       "      <td>NaN</td>\n",
       "    </tr>\n",
       "    <tr>\n",
       "      <th>2016-09-12</th>\n",
       "      <td>0.934308</td>\n",
       "      <td>-1.003990</td>\n",
       "      <td>1.300007</td>\n",
       "      <td>5</td>\n",
       "      <td>-1.556634</td>\n",
       "      <td>1.0</td>\n",
       "    </tr>\n",
       "    <tr>\n",
       "      <th>2016-09-13</th>\n",
       "      <td>-1.113481</td>\n",
       "      <td>-1.456722</td>\n",
       "      <td>-0.262049</td>\n",
       "      <td>5</td>\n",
       "      <td>-0.782280</td>\n",
       "      <td>2.0</td>\n",
       "    </tr>\n",
       "    <tr>\n",
       "      <th>2016-09-14</th>\n",
       "      <td>1.202492</td>\n",
       "      <td>1.292376</td>\n",
       "      <td>0.353395</td>\n",
       "      <td>5</td>\n",
       "      <td>-1.571785</td>\n",
       "      <td>3.0</td>\n",
       "    </tr>\n",
       "    <tr>\n",
       "      <th>2016-09-15</th>\n",
       "      <td>1.666588</td>\n",
       "      <td>-0.184773</td>\n",
       "      <td>0.561936</td>\n",
       "      <td>5</td>\n",
       "      <td>-0.337799</td>\n",
       "      <td>4.0</td>\n",
       "    </tr>\n",
       "  </tbody>\n",
       "</table>\n",
       "</div>"
      ],
      "text/plain": [
       "                   A         B         C  D         E    F\n",
       "2016-09-06  0.000000  0.000000 -0.342827  5  0.615410  NaN\n",
       "2016-09-07 -2.649810  1.930686  1.248943  5  1.672825  NaN\n",
       "2016-09-08 -0.987488 -0.276117  0.473817  5 -0.074974  NaN\n",
       "2016-09-09  0.446936  0.420871 -1.358857  5 -0.156841  NaN\n",
       "2016-09-10  0.671273  0.490926 -0.333710  5  0.044393  NaN\n",
       "2016-09-11  0.334778  1.363951  0.781070  5  0.686858  NaN\n",
       "2016-09-12  0.934308 -1.003990  1.300007  5 -1.556634  1.0\n",
       "2016-09-13 -1.113481 -1.456722 -0.262049  5 -0.782280  2.0\n",
       "2016-09-14  1.202492  1.292376  0.353395  5 -1.571785  3.0\n",
       "2016-09-15  1.666588 -0.184773  0.561936  5 -0.337799  4.0"
      ]
     },
     "execution_count": 148,
     "metadata": {},
     "output_type": "execute_result"
    }
   ],
   "source": [
    "df"
   ]
  },
  {
   "cell_type": "code",
   "execution_count": 149,
   "metadata": {
    "collapsed": true
   },
   "outputs": [],
   "source": [
    "df2 = df.copy()"
   ]
  },
  {
   "cell_type": "code",
   "execution_count": 150,
   "metadata": {
    "collapsed": false
   },
   "outputs": [
    {
     "data": {
      "text/html": [
       "<div>\n",
       "<table border=\"1\" class=\"dataframe\">\n",
       "  <thead>\n",
       "    <tr style=\"text-align: right;\">\n",
       "      <th></th>\n",
       "      <th>A</th>\n",
       "      <th>B</th>\n",
       "      <th>C</th>\n",
       "      <th>D</th>\n",
       "      <th>E</th>\n",
       "      <th>F</th>\n",
       "    </tr>\n",
       "  </thead>\n",
       "  <tbody>\n",
       "    <tr>\n",
       "      <th>2016-09-06</th>\n",
       "      <td>0.000000</td>\n",
       "      <td>0.000000</td>\n",
       "      <td>-0.342827</td>\n",
       "      <td>5</td>\n",
       "      <td>0.615410</td>\n",
       "      <td>NaN</td>\n",
       "    </tr>\n",
       "    <tr>\n",
       "      <th>2016-09-07</th>\n",
       "      <td>-2.649810</td>\n",
       "      <td>1.930686</td>\n",
       "      <td>1.248943</td>\n",
       "      <td>5</td>\n",
       "      <td>1.672825</td>\n",
       "      <td>NaN</td>\n",
       "    </tr>\n",
       "    <tr>\n",
       "      <th>2016-09-08</th>\n",
       "      <td>-0.987488</td>\n",
       "      <td>-0.276117</td>\n",
       "      <td>0.473817</td>\n",
       "      <td>5</td>\n",
       "      <td>-0.074974</td>\n",
       "      <td>NaN</td>\n",
       "    </tr>\n",
       "    <tr>\n",
       "      <th>2016-09-09</th>\n",
       "      <td>0.446936</td>\n",
       "      <td>0.420871</td>\n",
       "      <td>-1.358857</td>\n",
       "      <td>5</td>\n",
       "      <td>-0.156841</td>\n",
       "      <td>NaN</td>\n",
       "    </tr>\n",
       "    <tr>\n",
       "      <th>2016-09-10</th>\n",
       "      <td>0.671273</td>\n",
       "      <td>0.490926</td>\n",
       "      <td>-0.333710</td>\n",
       "      <td>5</td>\n",
       "      <td>0.044393</td>\n",
       "      <td>NaN</td>\n",
       "    </tr>\n",
       "    <tr>\n",
       "      <th>2016-09-11</th>\n",
       "      <td>0.334778</td>\n",
       "      <td>1.363951</td>\n",
       "      <td>0.781070</td>\n",
       "      <td>5</td>\n",
       "      <td>0.686858</td>\n",
       "      <td>NaN</td>\n",
       "    </tr>\n",
       "    <tr>\n",
       "      <th>2016-09-12</th>\n",
       "      <td>0.934308</td>\n",
       "      <td>-1.003990</td>\n",
       "      <td>1.300007</td>\n",
       "      <td>5</td>\n",
       "      <td>-1.556634</td>\n",
       "      <td>1.0</td>\n",
       "    </tr>\n",
       "    <tr>\n",
       "      <th>2016-09-13</th>\n",
       "      <td>-1.113481</td>\n",
       "      <td>-1.456722</td>\n",
       "      <td>-0.262049</td>\n",
       "      <td>5</td>\n",
       "      <td>-0.782280</td>\n",
       "      <td>2.0</td>\n",
       "    </tr>\n",
       "    <tr>\n",
       "      <th>2016-09-14</th>\n",
       "      <td>1.202492</td>\n",
       "      <td>1.292376</td>\n",
       "      <td>0.353395</td>\n",
       "      <td>5</td>\n",
       "      <td>-1.571785</td>\n",
       "      <td>3.0</td>\n",
       "    </tr>\n",
       "    <tr>\n",
       "      <th>2016-09-15</th>\n",
       "      <td>1.666588</td>\n",
       "      <td>-0.184773</td>\n",
       "      <td>0.561936</td>\n",
       "      <td>5</td>\n",
       "      <td>-0.337799</td>\n",
       "      <td>4.0</td>\n",
       "    </tr>\n",
       "  </tbody>\n",
       "</table>\n",
       "</div>"
      ],
      "text/plain": [
       "                   A         B         C  D         E    F\n",
       "2016-09-06  0.000000  0.000000 -0.342827  5  0.615410  NaN\n",
       "2016-09-07 -2.649810  1.930686  1.248943  5  1.672825  NaN\n",
       "2016-09-08 -0.987488 -0.276117  0.473817  5 -0.074974  NaN\n",
       "2016-09-09  0.446936  0.420871 -1.358857  5 -0.156841  NaN\n",
       "2016-09-10  0.671273  0.490926 -0.333710  5  0.044393  NaN\n",
       "2016-09-11  0.334778  1.363951  0.781070  5  0.686858  NaN\n",
       "2016-09-12  0.934308 -1.003990  1.300007  5 -1.556634  1.0\n",
       "2016-09-13 -1.113481 -1.456722 -0.262049  5 -0.782280  2.0\n",
       "2016-09-14  1.202492  1.292376  0.353395  5 -1.571785  3.0\n",
       "2016-09-15  1.666588 -0.184773  0.561936  5 -0.337799  4.0"
      ]
     },
     "execution_count": 150,
     "metadata": {},
     "output_type": "execute_result"
    }
   ],
   "source": [
    "df2"
   ]
  },
  {
   "cell_type": "markdown",
   "metadata": {},
   "source": [
    "## Missing Data"
   ]
  },
  {
   "cell_type": "code",
   "execution_count": 151,
   "metadata": {
    "collapsed": true
   },
   "outputs": [],
   "source": [
    "df1 = df.reindex(index=dates[0:4], columns=list(df.columns) + ['E'])"
   ]
  },
  {
   "cell_type": "code",
   "execution_count": 152,
   "metadata": {
    "collapsed": true
   },
   "outputs": [],
   "source": [
    "df1.loc[dates[0]:dates[1],'E'] = 1"
   ]
  },
  {
   "cell_type": "code",
   "execution_count": 153,
   "metadata": {
    "collapsed": false
   },
   "outputs": [
    {
     "data": {
      "text/html": [
       "<div>\n",
       "<table border=\"1\" class=\"dataframe\">\n",
       "  <thead>\n",
       "    <tr style=\"text-align: right;\">\n",
       "      <th></th>\n",
       "      <th>A</th>\n",
       "      <th>B</th>\n",
       "      <th>C</th>\n",
       "      <th>D</th>\n",
       "      <th>E</th>\n",
       "      <th>F</th>\n",
       "      <th>E</th>\n",
       "    </tr>\n",
       "  </thead>\n",
       "  <tbody>\n",
       "    <tr>\n",
       "      <th>2016-09-06</th>\n",
       "      <td>0.000000</td>\n",
       "      <td>0.000000</td>\n",
       "      <td>-0.342827</td>\n",
       "      <td>5</td>\n",
       "      <td>1.000000</td>\n",
       "      <td>NaN</td>\n",
       "      <td>1.000000</td>\n",
       "    </tr>\n",
       "    <tr>\n",
       "      <th>2016-09-07</th>\n",
       "      <td>-2.649810</td>\n",
       "      <td>1.930686</td>\n",
       "      <td>1.248943</td>\n",
       "      <td>5</td>\n",
       "      <td>1.000000</td>\n",
       "      <td>NaN</td>\n",
       "      <td>1.000000</td>\n",
       "    </tr>\n",
       "    <tr>\n",
       "      <th>2016-09-08</th>\n",
       "      <td>-0.987488</td>\n",
       "      <td>-0.276117</td>\n",
       "      <td>0.473817</td>\n",
       "      <td>5</td>\n",
       "      <td>-0.074974</td>\n",
       "      <td>NaN</td>\n",
       "      <td>-0.074974</td>\n",
       "    </tr>\n",
       "    <tr>\n",
       "      <th>2016-09-09</th>\n",
       "      <td>0.446936</td>\n",
       "      <td>0.420871</td>\n",
       "      <td>-1.358857</td>\n",
       "      <td>5</td>\n",
       "      <td>-0.156841</td>\n",
       "      <td>NaN</td>\n",
       "      <td>-0.156841</td>\n",
       "    </tr>\n",
       "  </tbody>\n",
       "</table>\n",
       "</div>"
      ],
      "text/plain": [
       "                   A         B         C  D         E   F         E\n",
       "2016-09-06  0.000000  0.000000 -0.342827  5  1.000000 NaN  1.000000\n",
       "2016-09-07 -2.649810  1.930686  1.248943  5  1.000000 NaN  1.000000\n",
       "2016-09-08 -0.987488 -0.276117  0.473817  5 -0.074974 NaN -0.074974\n",
       "2016-09-09  0.446936  0.420871 -1.358857  5 -0.156841 NaN -0.156841"
      ]
     },
     "execution_count": 153,
     "metadata": {},
     "output_type": "execute_result"
    }
   ],
   "source": [
    "df1"
   ]
  },
  {
   "cell_type": "code",
   "execution_count": 154,
   "metadata": {
    "collapsed": false
   },
   "outputs": [
    {
     "data": {
      "text/html": [
       "<div>\n",
       "<table border=\"1\" class=\"dataframe\">\n",
       "  <thead>\n",
       "    <tr style=\"text-align: right;\">\n",
       "      <th></th>\n",
       "      <th>A</th>\n",
       "      <th>B</th>\n",
       "      <th>C</th>\n",
       "      <th>D</th>\n",
       "      <th>E</th>\n",
       "      <th>F</th>\n",
       "      <th>E</th>\n",
       "    </tr>\n",
       "  </thead>\n",
       "  <tbody>\n",
       "  </tbody>\n",
       "</table>\n",
       "</div>"
      ],
      "text/plain": [
       "Empty DataFrame\n",
       "Columns: [A, B, C, D, E, F, E]\n",
       "Index: []"
      ]
     },
     "execution_count": 154,
     "metadata": {},
     "output_type": "execute_result"
    }
   ],
   "source": [
    "df1.dropna(how='any')"
   ]
  },
  {
   "cell_type": "code",
   "execution_count": 155,
   "metadata": {
    "collapsed": false
   },
   "outputs": [
    {
     "data": {
      "text/html": [
       "<div>\n",
       "<table border=\"1\" class=\"dataframe\">\n",
       "  <thead>\n",
       "    <tr style=\"text-align: right;\">\n",
       "      <th></th>\n",
       "      <th>A</th>\n",
       "      <th>B</th>\n",
       "      <th>C</th>\n",
       "      <th>D</th>\n",
       "      <th>E</th>\n",
       "      <th>F</th>\n",
       "      <th>E</th>\n",
       "    </tr>\n",
       "  </thead>\n",
       "  <tbody>\n",
       "    <tr>\n",
       "      <th>2016-09-06</th>\n",
       "      <td>0.000000</td>\n",
       "      <td>0.000000</td>\n",
       "      <td>-0.342827</td>\n",
       "      <td>5</td>\n",
       "      <td>1.000000</td>\n",
       "      <td>5.0</td>\n",
       "      <td>1.000000</td>\n",
       "    </tr>\n",
       "    <tr>\n",
       "      <th>2016-09-07</th>\n",
       "      <td>-2.649810</td>\n",
       "      <td>1.930686</td>\n",
       "      <td>1.248943</td>\n",
       "      <td>5</td>\n",
       "      <td>1.000000</td>\n",
       "      <td>5.0</td>\n",
       "      <td>1.000000</td>\n",
       "    </tr>\n",
       "    <tr>\n",
       "      <th>2016-09-08</th>\n",
       "      <td>-0.987488</td>\n",
       "      <td>-0.276117</td>\n",
       "      <td>0.473817</td>\n",
       "      <td>5</td>\n",
       "      <td>-0.074974</td>\n",
       "      <td>5.0</td>\n",
       "      <td>-0.074974</td>\n",
       "    </tr>\n",
       "    <tr>\n",
       "      <th>2016-09-09</th>\n",
       "      <td>0.446936</td>\n",
       "      <td>0.420871</td>\n",
       "      <td>-1.358857</td>\n",
       "      <td>5</td>\n",
       "      <td>-0.156841</td>\n",
       "      <td>5.0</td>\n",
       "      <td>-0.156841</td>\n",
       "    </tr>\n",
       "  </tbody>\n",
       "</table>\n",
       "</div>"
      ],
      "text/plain": [
       "                   A         B         C  D         E    F         E\n",
       "2016-09-06  0.000000  0.000000 -0.342827  5  1.000000  5.0  1.000000\n",
       "2016-09-07 -2.649810  1.930686  1.248943  5  1.000000  5.0  1.000000\n",
       "2016-09-08 -0.987488 -0.276117  0.473817  5 -0.074974  5.0 -0.074974\n",
       "2016-09-09  0.446936  0.420871 -1.358857  5 -0.156841  5.0 -0.156841"
      ]
     },
     "execution_count": 155,
     "metadata": {},
     "output_type": "execute_result"
    }
   ],
   "source": [
    " df1.fillna(value=5)"
   ]
  },
  {
   "cell_type": "code",
   "execution_count": 156,
   "metadata": {
    "collapsed": false
   },
   "outputs": [
    {
     "data": {
      "text/html": [
       "<div>\n",
       "<table border=\"1\" class=\"dataframe\">\n",
       "  <thead>\n",
       "    <tr style=\"text-align: right;\">\n",
       "      <th></th>\n",
       "      <th>A</th>\n",
       "      <th>B</th>\n",
       "      <th>C</th>\n",
       "      <th>D</th>\n",
       "      <th>E</th>\n",
       "      <th>F</th>\n",
       "      <th>E</th>\n",
       "    </tr>\n",
       "  </thead>\n",
       "  <tbody>\n",
       "    <tr>\n",
       "      <th>2016-09-06</th>\n",
       "      <td>False</td>\n",
       "      <td>False</td>\n",
       "      <td>False</td>\n",
       "      <td>False</td>\n",
       "      <td>False</td>\n",
       "      <td>True</td>\n",
       "      <td>False</td>\n",
       "    </tr>\n",
       "    <tr>\n",
       "      <th>2016-09-07</th>\n",
       "      <td>False</td>\n",
       "      <td>False</td>\n",
       "      <td>False</td>\n",
       "      <td>False</td>\n",
       "      <td>False</td>\n",
       "      <td>True</td>\n",
       "      <td>False</td>\n",
       "    </tr>\n",
       "    <tr>\n",
       "      <th>2016-09-08</th>\n",
       "      <td>False</td>\n",
       "      <td>False</td>\n",
       "      <td>False</td>\n",
       "      <td>False</td>\n",
       "      <td>False</td>\n",
       "      <td>True</td>\n",
       "      <td>False</td>\n",
       "    </tr>\n",
       "    <tr>\n",
       "      <th>2016-09-09</th>\n",
       "      <td>False</td>\n",
       "      <td>False</td>\n",
       "      <td>False</td>\n",
       "      <td>False</td>\n",
       "      <td>False</td>\n",
       "      <td>True</td>\n",
       "      <td>False</td>\n",
       "    </tr>\n",
       "  </tbody>\n",
       "</table>\n",
       "</div>"
      ],
      "text/plain": [
       "                A      B      C      D      E     F      E\n",
       "2016-09-06  False  False  False  False  False  True  False\n",
       "2016-09-07  False  False  False  False  False  True  False\n",
       "2016-09-08  False  False  False  False  False  True  False\n",
       "2016-09-09  False  False  False  False  False  True  False"
      ]
     },
     "execution_count": 156,
     "metadata": {},
     "output_type": "execute_result"
    }
   ],
   "source": [
    "pd.isnull(df1)"
   ]
  },
  {
   "cell_type": "markdown",
   "metadata": {},
   "source": [
    "## Operations"
   ]
  },
  {
   "cell_type": "code",
   "execution_count": 157,
   "metadata": {
    "collapsed": false
   },
   "outputs": [
    {
     "data": {
      "text/plain": [
       "A    0.050560\n",
       "B    0.257721\n",
       "C    0.242172\n",
       "D    5.000000\n",
       "E   -0.146083\n",
       "F    2.500000\n",
       "dtype: float64"
      ]
     },
     "execution_count": 157,
     "metadata": {},
     "output_type": "execute_result"
    }
   ],
   "source": [
    "df.mean()"
   ]
  },
  {
   "cell_type": "code",
   "execution_count": 158,
   "metadata": {
    "collapsed": false
   },
   "outputs": [
    {
     "data": {
      "text/plain": [
       "2016-09-06    1.054516\n",
       "2016-09-07    1.440528\n",
       "2016-09-08    0.827048\n",
       "2016-09-09    0.870422\n",
       "2016-09-10    1.174576\n",
       "2016-09-11    1.633331\n",
       "2016-09-12    0.945615\n",
       "2016-09-13    0.564245\n",
       "2016-09-14    1.546080\n",
       "2016-09-15    1.784325\n",
       "Freq: D, dtype: float64"
      ]
     },
     "execution_count": 158,
     "metadata": {},
     "output_type": "execute_result"
    }
   ],
   "source": [
    "df.mean(1)"
   ]
  },
  {
   "cell_type": "code",
   "execution_count": 159,
   "metadata": {
    "collapsed": false
   },
   "outputs": [],
   "source": [
    "s = pd.Series([1,3,5,np.nan,6,8,11,4,9,3], index=dates).shift(2)"
   ]
  },
  {
   "cell_type": "code",
   "execution_count": 160,
   "metadata": {
    "collapsed": false
   },
   "outputs": [
    {
     "data": {
      "text/plain": [
       "2016-09-06     NaN\n",
       "2016-09-07     NaN\n",
       "2016-09-08     1.0\n",
       "2016-09-09     3.0\n",
       "2016-09-10     5.0\n",
       "2016-09-11     NaN\n",
       "2016-09-12     6.0\n",
       "2016-09-13     8.0\n",
       "2016-09-14    11.0\n",
       "2016-09-15     4.0\n",
       "Freq: D, dtype: float64"
      ]
     },
     "execution_count": 160,
     "metadata": {},
     "output_type": "execute_result"
    }
   ],
   "source": [
    "s"
   ]
  },
  {
   "cell_type": "code",
   "execution_count": 161,
   "metadata": {
    "collapsed": false,
    "scrolled": true
   },
   "outputs": [
    {
     "data": {
      "text/html": [
       "<div>\n",
       "<table border=\"1\" class=\"dataframe\">\n",
       "  <thead>\n",
       "    <tr style=\"text-align: right;\">\n",
       "      <th></th>\n",
       "      <th>A</th>\n",
       "      <th>B</th>\n",
       "      <th>C</th>\n",
       "      <th>D</th>\n",
       "      <th>E</th>\n",
       "      <th>F</th>\n",
       "    </tr>\n",
       "  </thead>\n",
       "  <tbody>\n",
       "    <tr>\n",
       "      <th>2016-09-06</th>\n",
       "      <td>NaN</td>\n",
       "      <td>NaN</td>\n",
       "      <td>NaN</td>\n",
       "      <td>NaN</td>\n",
       "      <td>NaN</td>\n",
       "      <td>NaN</td>\n",
       "    </tr>\n",
       "    <tr>\n",
       "      <th>2016-09-07</th>\n",
       "      <td>NaN</td>\n",
       "      <td>NaN</td>\n",
       "      <td>NaN</td>\n",
       "      <td>NaN</td>\n",
       "      <td>NaN</td>\n",
       "      <td>NaN</td>\n",
       "    </tr>\n",
       "    <tr>\n",
       "      <th>2016-09-08</th>\n",
       "      <td>-1.987488</td>\n",
       "      <td>-1.276117</td>\n",
       "      <td>-0.526183</td>\n",
       "      <td>4.0</td>\n",
       "      <td>-1.074974</td>\n",
       "      <td>NaN</td>\n",
       "    </tr>\n",
       "    <tr>\n",
       "      <th>2016-09-09</th>\n",
       "      <td>-2.553064</td>\n",
       "      <td>-2.579129</td>\n",
       "      <td>-4.358857</td>\n",
       "      <td>2.0</td>\n",
       "      <td>-3.156841</td>\n",
       "      <td>NaN</td>\n",
       "    </tr>\n",
       "    <tr>\n",
       "      <th>2016-09-10</th>\n",
       "      <td>-4.328727</td>\n",
       "      <td>-4.509074</td>\n",
       "      <td>-5.333710</td>\n",
       "      <td>0.0</td>\n",
       "      <td>-4.955607</td>\n",
       "      <td>NaN</td>\n",
       "    </tr>\n",
       "    <tr>\n",
       "      <th>2016-09-11</th>\n",
       "      <td>NaN</td>\n",
       "      <td>NaN</td>\n",
       "      <td>NaN</td>\n",
       "      <td>NaN</td>\n",
       "      <td>NaN</td>\n",
       "      <td>NaN</td>\n",
       "    </tr>\n",
       "    <tr>\n",
       "      <th>2016-09-12</th>\n",
       "      <td>-5.065692</td>\n",
       "      <td>-7.003990</td>\n",
       "      <td>-4.699993</td>\n",
       "      <td>-1.0</td>\n",
       "      <td>-7.556634</td>\n",
       "      <td>-5.0</td>\n",
       "    </tr>\n",
       "    <tr>\n",
       "      <th>2016-09-13</th>\n",
       "      <td>-9.113481</td>\n",
       "      <td>-9.456722</td>\n",
       "      <td>-8.262049</td>\n",
       "      <td>-3.0</td>\n",
       "      <td>-8.782280</td>\n",
       "      <td>-6.0</td>\n",
       "    </tr>\n",
       "    <tr>\n",
       "      <th>2016-09-14</th>\n",
       "      <td>-9.797508</td>\n",
       "      <td>-9.707624</td>\n",
       "      <td>-10.646605</td>\n",
       "      <td>-6.0</td>\n",
       "      <td>-12.571785</td>\n",
       "      <td>-8.0</td>\n",
       "    </tr>\n",
       "    <tr>\n",
       "      <th>2016-09-15</th>\n",
       "      <td>-2.333412</td>\n",
       "      <td>-4.184773</td>\n",
       "      <td>-3.438064</td>\n",
       "      <td>1.0</td>\n",
       "      <td>-4.337799</td>\n",
       "      <td>0.0</td>\n",
       "    </tr>\n",
       "  </tbody>\n",
       "</table>\n",
       "</div>"
      ],
      "text/plain": [
       "                   A         B          C    D          E    F\n",
       "2016-09-06       NaN       NaN        NaN  NaN        NaN  NaN\n",
       "2016-09-07       NaN       NaN        NaN  NaN        NaN  NaN\n",
       "2016-09-08 -1.987488 -1.276117  -0.526183  4.0  -1.074974  NaN\n",
       "2016-09-09 -2.553064 -2.579129  -4.358857  2.0  -3.156841  NaN\n",
       "2016-09-10 -4.328727 -4.509074  -5.333710  0.0  -4.955607  NaN\n",
       "2016-09-11       NaN       NaN        NaN  NaN        NaN  NaN\n",
       "2016-09-12 -5.065692 -7.003990  -4.699993 -1.0  -7.556634 -5.0\n",
       "2016-09-13 -9.113481 -9.456722  -8.262049 -3.0  -8.782280 -6.0\n",
       "2016-09-14 -9.797508 -9.707624 -10.646605 -6.0 -12.571785 -8.0\n",
       "2016-09-15 -2.333412 -4.184773  -3.438064  1.0  -4.337799  0.0"
      ]
     },
     "execution_count": 161,
     "metadata": {},
     "output_type": "execute_result"
    }
   ],
   "source": [
    "df.sub(s,axis='index')"
   ]
  },
  {
   "cell_type": "markdown",
   "metadata": {},
   "source": [
    "## Apply"
   ]
  },
  {
   "cell_type": "code",
   "execution_count": 162,
   "metadata": {
    "collapsed": false
   },
   "outputs": [
    {
     "data": {
      "text/html": [
       "<div>\n",
       "<table border=\"1\" class=\"dataframe\">\n",
       "  <thead>\n",
       "    <tr style=\"text-align: right;\">\n",
       "      <th></th>\n",
       "      <th>A</th>\n",
       "      <th>B</th>\n",
       "      <th>C</th>\n",
       "      <th>D</th>\n",
       "      <th>E</th>\n",
       "      <th>F</th>\n",
       "    </tr>\n",
       "  </thead>\n",
       "  <tbody>\n",
       "    <tr>\n",
       "      <th>2016-09-06</th>\n",
       "      <td>0.000000</td>\n",
       "      <td>0.000000</td>\n",
       "      <td>-0.342827</td>\n",
       "      <td>5</td>\n",
       "      <td>0.615410</td>\n",
       "      <td>NaN</td>\n",
       "    </tr>\n",
       "    <tr>\n",
       "      <th>2016-09-07</th>\n",
       "      <td>-2.649810</td>\n",
       "      <td>1.930686</td>\n",
       "      <td>0.906115</td>\n",
       "      <td>10</td>\n",
       "      <td>2.288234</td>\n",
       "      <td>NaN</td>\n",
       "    </tr>\n",
       "    <tr>\n",
       "      <th>2016-09-08</th>\n",
       "      <td>-3.637298</td>\n",
       "      <td>1.654568</td>\n",
       "      <td>1.379932</td>\n",
       "      <td>15</td>\n",
       "      <td>2.213260</td>\n",
       "      <td>NaN</td>\n",
       "    </tr>\n",
       "    <tr>\n",
       "      <th>2016-09-09</th>\n",
       "      <td>-3.190362</td>\n",
       "      <td>2.075439</td>\n",
       "      <td>0.021075</td>\n",
       "      <td>20</td>\n",
       "      <td>2.056419</td>\n",
       "      <td>NaN</td>\n",
       "    </tr>\n",
       "    <tr>\n",
       "      <th>2016-09-10</th>\n",
       "      <td>-2.519089</td>\n",
       "      <td>2.566365</td>\n",
       "      <td>-0.312635</td>\n",
       "      <td>25</td>\n",
       "      <td>2.100812</td>\n",
       "      <td>NaN</td>\n",
       "    </tr>\n",
       "    <tr>\n",
       "      <th>2016-09-11</th>\n",
       "      <td>-2.184311</td>\n",
       "      <td>3.930316</td>\n",
       "      <td>0.468435</td>\n",
       "      <td>30</td>\n",
       "      <td>2.787670</td>\n",
       "      <td>NaN</td>\n",
       "    </tr>\n",
       "    <tr>\n",
       "      <th>2016-09-12</th>\n",
       "      <td>-1.250003</td>\n",
       "      <td>2.926326</td>\n",
       "      <td>1.768442</td>\n",
       "      <td>35</td>\n",
       "      <td>1.231036</td>\n",
       "      <td>1.0</td>\n",
       "    </tr>\n",
       "    <tr>\n",
       "      <th>2016-09-13</th>\n",
       "      <td>-2.363484</td>\n",
       "      <td>1.469605</td>\n",
       "      <td>1.506393</td>\n",
       "      <td>40</td>\n",
       "      <td>0.448756</td>\n",
       "      <td>3.0</td>\n",
       "    </tr>\n",
       "    <tr>\n",
       "      <th>2016-09-14</th>\n",
       "      <td>-1.160992</td>\n",
       "      <td>2.761980</td>\n",
       "      <td>1.859788</td>\n",
       "      <td>45</td>\n",
       "      <td>-1.123029</td>\n",
       "      <td>6.0</td>\n",
       "    </tr>\n",
       "    <tr>\n",
       "      <th>2016-09-15</th>\n",
       "      <td>0.505596</td>\n",
       "      <td>2.577207</td>\n",
       "      <td>2.421724</td>\n",
       "      <td>50</td>\n",
       "      <td>-1.460828</td>\n",
       "      <td>10.0</td>\n",
       "    </tr>\n",
       "  </tbody>\n",
       "</table>\n",
       "</div>"
      ],
      "text/plain": [
       "                   A         B         C   D         E     F\n",
       "2016-09-06  0.000000  0.000000 -0.342827   5  0.615410   NaN\n",
       "2016-09-07 -2.649810  1.930686  0.906115  10  2.288234   NaN\n",
       "2016-09-08 -3.637298  1.654568  1.379932  15  2.213260   NaN\n",
       "2016-09-09 -3.190362  2.075439  0.021075  20  2.056419   NaN\n",
       "2016-09-10 -2.519089  2.566365 -0.312635  25  2.100812   NaN\n",
       "2016-09-11 -2.184311  3.930316  0.468435  30  2.787670   NaN\n",
       "2016-09-12 -1.250003  2.926326  1.768442  35  1.231036   1.0\n",
       "2016-09-13 -2.363484  1.469605  1.506393  40  0.448756   3.0\n",
       "2016-09-14 -1.160992  2.761980  1.859788  45 -1.123029   6.0\n",
       "2016-09-15  0.505596  2.577207  2.421724  50 -1.460828  10.0"
      ]
     },
     "execution_count": 162,
     "metadata": {},
     "output_type": "execute_result"
    }
   ],
   "source": [
    "df.apply(np.cumsum)"
   ]
  },
  {
   "cell_type": "code",
   "execution_count": 163,
   "metadata": {
    "collapsed": false
   },
   "outputs": [
    {
     "data": {
      "text/plain": [
       "A    4.316399\n",
       "B    3.387407\n",
       "C    2.658864\n",
       "D    0.000000\n",
       "E    3.244609\n",
       "F    3.000000\n",
       "dtype: float64"
      ]
     },
     "execution_count": 163,
     "metadata": {},
     "output_type": "execute_result"
    }
   ],
   "source": [
    "df.apply(lambda x: x.max() - x.min())"
   ]
  },
  {
   "cell_type": "markdown",
   "metadata": {},
   "source": [
    "## Histogramming"
   ]
  },
  {
   "cell_type": "code",
   "execution_count": 164,
   "metadata": {
    "collapsed": true
   },
   "outputs": [],
   "source": [
    "s = pd.Series(np.random.randint(0, 7, size=10))"
   ]
  },
  {
   "cell_type": "code",
   "execution_count": 165,
   "metadata": {
    "collapsed": false
   },
   "outputs": [
    {
     "data": {
      "text/plain": [
       "0    5\n",
       "1    1\n",
       "2    2\n",
       "3    2\n",
       "4    4\n",
       "5    1\n",
       "6    4\n",
       "7    1\n",
       "8    0\n",
       "9    1\n",
       "dtype: int32"
      ]
     },
     "execution_count": 165,
     "metadata": {},
     "output_type": "execute_result"
    }
   ],
   "source": [
    "s"
   ]
  },
  {
   "cell_type": "code",
   "execution_count": 166,
   "metadata": {
    "collapsed": false
   },
   "outputs": [
    {
     "data": {
      "text/plain": [
       "1    4\n",
       "4    2\n",
       "2    2\n",
       "5    1\n",
       "0    1\n",
       "dtype: int64"
      ]
     },
     "execution_count": 166,
     "metadata": {},
     "output_type": "execute_result"
    }
   ],
   "source": [
    "s.value_counts()"
   ]
  },
  {
   "cell_type": "markdown",
   "metadata": {},
   "source": [
    "## String Method"
   ]
  },
  {
   "cell_type": "code",
   "execution_count": 167,
   "metadata": {
    "collapsed": true
   },
   "outputs": [],
   "source": [
    " s = pd.Series(['A', 'B', 'C', 'Aaba', 'Baca', np.nan, 'CABA', 'dog', 'cat'])\n"
   ]
  },
  {
   "cell_type": "code",
   "execution_count": 168,
   "metadata": {
    "collapsed": false
   },
   "outputs": [
    {
     "data": {
      "text/plain": [
       "0       A\n",
       "1       B\n",
       "2       C\n",
       "3    Aaba\n",
       "4    Baca\n",
       "5     NaN\n",
       "6    CABA\n",
       "7     dog\n",
       "8     cat\n",
       "dtype: object"
      ]
     },
     "execution_count": 168,
     "metadata": {},
     "output_type": "execute_result"
    }
   ],
   "source": [
    "s"
   ]
  },
  {
   "cell_type": "code",
   "execution_count": 169,
   "metadata": {
    "collapsed": false
   },
   "outputs": [
    {
     "data": {
      "text/plain": [
       "0       a\n",
       "1       b\n",
       "2       c\n",
       "3    aaba\n",
       "4    baca\n",
       "5     NaN\n",
       "6    caba\n",
       "7     dog\n",
       "8     cat\n",
       "dtype: object"
      ]
     },
     "execution_count": 169,
     "metadata": {},
     "output_type": "execute_result"
    }
   ],
   "source": [
    "s.str.lower()"
   ]
  },
  {
   "cell_type": "code",
   "execution_count": 170,
   "metadata": {
    "collapsed": false
   },
   "outputs": [
    {
     "ename": "AttributeError",
     "evalue": "'StringMethods' object has no attribute 'higher'",
     "output_type": "error",
     "traceback": [
      "\u001b[1;31m---------------------------------------------------------------------------\u001b[0m",
      "\u001b[1;31mAttributeError\u001b[0m                            Traceback (most recent call last)",
      "\u001b[1;32m<ipython-input-170-ef105c5d8f9f>\u001b[0m in \u001b[0;36m<module>\u001b[1;34m()\u001b[0m\n\u001b[1;32m----> 1\u001b[1;33m \u001b[0ms\u001b[0m\u001b[1;33m.\u001b[0m\u001b[0mstr\u001b[0m\u001b[1;33m.\u001b[0m\u001b[0mhigher\u001b[0m\u001b[1;33m(\u001b[0m\u001b[1;33m)\u001b[0m\u001b[1;33m\u001b[0m\u001b[0m\n\u001b[0m",
      "\u001b[1;31mAttributeError\u001b[0m: 'StringMethods' object has no attribute 'higher'"
     ]
    }
   ],
   "source": [
    "s.str.higher()"
   ]
  },
  {
   "cell_type": "markdown",
   "metadata": {},
   "source": [
    "## Merge"
   ]
  },
  {
   "cell_type": "markdown",
   "metadata": {},
   "source": [
    "### Concat"
   ]
  },
  {
   "cell_type": "code",
   "execution_count": 171,
   "metadata": {
    "collapsed": true
   },
   "outputs": [],
   "source": [
    "df = pd.DataFrame(np.random.randn(10, 4))\n"
   ]
  },
  {
   "cell_type": "code",
   "execution_count": 172,
   "metadata": {
    "collapsed": false
   },
   "outputs": [
    {
     "data": {
      "text/html": [
       "<div>\n",
       "<table border=\"1\" class=\"dataframe\">\n",
       "  <thead>\n",
       "    <tr style=\"text-align: right;\">\n",
       "      <th></th>\n",
       "      <th>0</th>\n",
       "      <th>1</th>\n",
       "      <th>2</th>\n",
       "      <th>3</th>\n",
       "    </tr>\n",
       "  </thead>\n",
       "  <tbody>\n",
       "    <tr>\n",
       "      <th>0</th>\n",
       "      <td>-0.547895</td>\n",
       "      <td>-0.954476</td>\n",
       "      <td>-0.194222</td>\n",
       "      <td>2.841800</td>\n",
       "    </tr>\n",
       "    <tr>\n",
       "      <th>1</th>\n",
       "      <td>-0.673757</td>\n",
       "      <td>-0.808998</td>\n",
       "      <td>-2.064684</td>\n",
       "      <td>-0.010181</td>\n",
       "    </tr>\n",
       "    <tr>\n",
       "      <th>2</th>\n",
       "      <td>-0.330847</td>\n",
       "      <td>1.058156</td>\n",
       "      <td>0.203684</td>\n",
       "      <td>-0.552208</td>\n",
       "    </tr>\n",
       "    <tr>\n",
       "      <th>3</th>\n",
       "      <td>-1.055729</td>\n",
       "      <td>-0.993085</td>\n",
       "      <td>-1.105541</td>\n",
       "      <td>-1.936996</td>\n",
       "    </tr>\n",
       "    <tr>\n",
       "      <th>4</th>\n",
       "      <td>-2.035824</td>\n",
       "      <td>-0.183914</td>\n",
       "      <td>-0.381017</td>\n",
       "      <td>1.329065</td>\n",
       "    </tr>\n",
       "    <tr>\n",
       "      <th>5</th>\n",
       "      <td>-0.667299</td>\n",
       "      <td>-0.193276</td>\n",
       "      <td>-0.291579</td>\n",
       "      <td>1.004455</td>\n",
       "    </tr>\n",
       "    <tr>\n",
       "      <th>6</th>\n",
       "      <td>-0.499052</td>\n",
       "      <td>0.472839</td>\n",
       "      <td>0.769331</td>\n",
       "      <td>-0.215416</td>\n",
       "    </tr>\n",
       "    <tr>\n",
       "      <th>7</th>\n",
       "      <td>-1.596789</td>\n",
       "      <td>-0.778524</td>\n",
       "      <td>-0.102007</td>\n",
       "      <td>-0.368244</td>\n",
       "    </tr>\n",
       "    <tr>\n",
       "      <th>8</th>\n",
       "      <td>-0.647363</td>\n",
       "      <td>0.162979</td>\n",
       "      <td>-0.533369</td>\n",
       "      <td>-0.324486</td>\n",
       "    </tr>\n",
       "    <tr>\n",
       "      <th>9</th>\n",
       "      <td>-0.616551</td>\n",
       "      <td>0.907492</td>\n",
       "      <td>-0.786950</td>\n",
       "      <td>-0.237947</td>\n",
       "    </tr>\n",
       "  </tbody>\n",
       "</table>\n",
       "</div>"
      ],
      "text/plain": [
       "          0         1         2         3\n",
       "0 -0.547895 -0.954476 -0.194222  2.841800\n",
       "1 -0.673757 -0.808998 -2.064684 -0.010181\n",
       "2 -0.330847  1.058156  0.203684 -0.552208\n",
       "3 -1.055729 -0.993085 -1.105541 -1.936996\n",
       "4 -2.035824 -0.183914 -0.381017  1.329065\n",
       "5 -0.667299 -0.193276 -0.291579  1.004455\n",
       "6 -0.499052  0.472839  0.769331 -0.215416\n",
       "7 -1.596789 -0.778524 -0.102007 -0.368244\n",
       "8 -0.647363  0.162979 -0.533369 -0.324486\n",
       "9 -0.616551  0.907492 -0.786950 -0.237947"
      ]
     },
     "execution_count": 172,
     "metadata": {},
     "output_type": "execute_result"
    }
   ],
   "source": [
    "df"
   ]
  },
  {
   "cell_type": "code",
   "execution_count": 173,
   "metadata": {
    "collapsed": true
   },
   "outputs": [],
   "source": [
    "pieces = [df[:3], df[3:7], df[7:]]\n"
   ]
  },
  {
   "cell_type": "code",
   "execution_count": 174,
   "metadata": {
    "collapsed": false
   },
   "outputs": [
    {
     "data": {
      "text/html": [
       "<div>\n",
       "<table border=\"1\" class=\"dataframe\">\n",
       "  <thead>\n",
       "    <tr style=\"text-align: right;\">\n",
       "      <th></th>\n",
       "      <th>0</th>\n",
       "      <th>1</th>\n",
       "      <th>2</th>\n",
       "      <th>3</th>\n",
       "    </tr>\n",
       "  </thead>\n",
       "  <tbody>\n",
       "    <tr>\n",
       "      <th>0</th>\n",
       "      <td>-0.547895</td>\n",
       "      <td>-0.954476</td>\n",
       "      <td>-0.194222</td>\n",
       "      <td>2.841800</td>\n",
       "    </tr>\n",
       "    <tr>\n",
       "      <th>1</th>\n",
       "      <td>-0.673757</td>\n",
       "      <td>-0.808998</td>\n",
       "      <td>-2.064684</td>\n",
       "      <td>-0.010181</td>\n",
       "    </tr>\n",
       "    <tr>\n",
       "      <th>2</th>\n",
       "      <td>-0.330847</td>\n",
       "      <td>1.058156</td>\n",
       "      <td>0.203684</td>\n",
       "      <td>-0.552208</td>\n",
       "    </tr>\n",
       "    <tr>\n",
       "      <th>3</th>\n",
       "      <td>-1.055729</td>\n",
       "      <td>-0.993085</td>\n",
       "      <td>-1.105541</td>\n",
       "      <td>-1.936996</td>\n",
       "    </tr>\n",
       "    <tr>\n",
       "      <th>4</th>\n",
       "      <td>-2.035824</td>\n",
       "      <td>-0.183914</td>\n",
       "      <td>-0.381017</td>\n",
       "      <td>1.329065</td>\n",
       "    </tr>\n",
       "    <tr>\n",
       "      <th>5</th>\n",
       "      <td>-0.667299</td>\n",
       "      <td>-0.193276</td>\n",
       "      <td>-0.291579</td>\n",
       "      <td>1.004455</td>\n",
       "    </tr>\n",
       "    <tr>\n",
       "      <th>6</th>\n",
       "      <td>-0.499052</td>\n",
       "      <td>0.472839</td>\n",
       "      <td>0.769331</td>\n",
       "      <td>-0.215416</td>\n",
       "    </tr>\n",
       "    <tr>\n",
       "      <th>7</th>\n",
       "      <td>-1.596789</td>\n",
       "      <td>-0.778524</td>\n",
       "      <td>-0.102007</td>\n",
       "      <td>-0.368244</td>\n",
       "    </tr>\n",
       "    <tr>\n",
       "      <th>8</th>\n",
       "      <td>-0.647363</td>\n",
       "      <td>0.162979</td>\n",
       "      <td>-0.533369</td>\n",
       "      <td>-0.324486</td>\n",
       "    </tr>\n",
       "    <tr>\n",
       "      <th>9</th>\n",
       "      <td>-0.616551</td>\n",
       "      <td>0.907492</td>\n",
       "      <td>-0.786950</td>\n",
       "      <td>-0.237947</td>\n",
       "    </tr>\n",
       "  </tbody>\n",
       "</table>\n",
       "</div>"
      ],
      "text/plain": [
       "          0         1         2         3\n",
       "0 -0.547895 -0.954476 -0.194222  2.841800\n",
       "1 -0.673757 -0.808998 -2.064684 -0.010181\n",
       "2 -0.330847  1.058156  0.203684 -0.552208\n",
       "3 -1.055729 -0.993085 -1.105541 -1.936996\n",
       "4 -2.035824 -0.183914 -0.381017  1.329065\n",
       "5 -0.667299 -0.193276 -0.291579  1.004455\n",
       "6 -0.499052  0.472839  0.769331 -0.215416\n",
       "7 -1.596789 -0.778524 -0.102007 -0.368244\n",
       "8 -0.647363  0.162979 -0.533369 -0.324486\n",
       "9 -0.616551  0.907492 -0.786950 -0.237947"
      ]
     },
     "execution_count": 174,
     "metadata": {},
     "output_type": "execute_result"
    }
   ],
   "source": [
    "pd.concat(pieces)"
   ]
  },
  {
   "cell_type": "markdown",
   "metadata": {},
   "source": [
    "### Join"
   ]
  },
  {
   "cell_type": "code",
   "execution_count": 175,
   "metadata": {
    "collapsed": true
   },
   "outputs": [],
   "source": [
    "left = pd.DataFrame({'key': ['foo', 'foo'], 'lval': [1, 2]})"
   ]
  },
  {
   "cell_type": "code",
   "execution_count": 176,
   "metadata": {
    "collapsed": true
   },
   "outputs": [],
   "source": [
    "right = pd.DataFrame({'key': ['foo', 'foo'], 'rval': [4, 5]})\n"
   ]
  },
  {
   "cell_type": "code",
   "execution_count": 177,
   "metadata": {
    "collapsed": false
   },
   "outputs": [
    {
     "data": {
      "text/html": [
       "<div>\n",
       "<table border=\"1\" class=\"dataframe\">\n",
       "  <thead>\n",
       "    <tr style=\"text-align: right;\">\n",
       "      <th></th>\n",
       "      <th>key</th>\n",
       "      <th>lval</th>\n",
       "    </tr>\n",
       "  </thead>\n",
       "  <tbody>\n",
       "    <tr>\n",
       "      <th>0</th>\n",
       "      <td>foo</td>\n",
       "      <td>1</td>\n",
       "    </tr>\n",
       "    <tr>\n",
       "      <th>1</th>\n",
       "      <td>foo</td>\n",
       "      <td>2</td>\n",
       "    </tr>\n",
       "  </tbody>\n",
       "</table>\n",
       "</div>"
      ],
      "text/plain": [
       "   key  lval\n",
       "0  foo     1\n",
       "1  foo     2"
      ]
     },
     "execution_count": 177,
     "metadata": {},
     "output_type": "execute_result"
    }
   ],
   "source": [
    "left"
   ]
  },
  {
   "cell_type": "code",
   "execution_count": 178,
   "metadata": {
    "collapsed": false
   },
   "outputs": [
    {
     "data": {
      "text/html": [
       "<div>\n",
       "<table border=\"1\" class=\"dataframe\">\n",
       "  <thead>\n",
       "    <tr style=\"text-align: right;\">\n",
       "      <th></th>\n",
       "      <th>key</th>\n",
       "      <th>rval</th>\n",
       "    </tr>\n",
       "  </thead>\n",
       "  <tbody>\n",
       "    <tr>\n",
       "      <th>0</th>\n",
       "      <td>foo</td>\n",
       "      <td>4</td>\n",
       "    </tr>\n",
       "    <tr>\n",
       "      <th>1</th>\n",
       "      <td>foo</td>\n",
       "      <td>5</td>\n",
       "    </tr>\n",
       "  </tbody>\n",
       "</table>\n",
       "</div>"
      ],
      "text/plain": [
       "   key  rval\n",
       "0  foo     4\n",
       "1  foo     5"
      ]
     },
     "execution_count": 178,
     "metadata": {},
     "output_type": "execute_result"
    }
   ],
   "source": [
    "right"
   ]
  },
  {
   "cell_type": "code",
   "execution_count": 179,
   "metadata": {
    "collapsed": false
   },
   "outputs": [
    {
     "data": {
      "text/html": [
       "<div>\n",
       "<table border=\"1\" class=\"dataframe\">\n",
       "  <thead>\n",
       "    <tr style=\"text-align: right;\">\n",
       "      <th></th>\n",
       "      <th>key</th>\n",
       "      <th>lval</th>\n",
       "      <th>rval</th>\n",
       "    </tr>\n",
       "  </thead>\n",
       "  <tbody>\n",
       "    <tr>\n",
       "      <th>0</th>\n",
       "      <td>foo</td>\n",
       "      <td>1</td>\n",
       "      <td>4</td>\n",
       "    </tr>\n",
       "    <tr>\n",
       "      <th>1</th>\n",
       "      <td>foo</td>\n",
       "      <td>1</td>\n",
       "      <td>5</td>\n",
       "    </tr>\n",
       "    <tr>\n",
       "      <th>2</th>\n",
       "      <td>foo</td>\n",
       "      <td>2</td>\n",
       "      <td>4</td>\n",
       "    </tr>\n",
       "    <tr>\n",
       "      <th>3</th>\n",
       "      <td>foo</td>\n",
       "      <td>2</td>\n",
       "      <td>5</td>\n",
       "    </tr>\n",
       "  </tbody>\n",
       "</table>\n",
       "</div>"
      ],
      "text/plain": [
       "   key  lval  rval\n",
       "0  foo     1     4\n",
       "1  foo     1     5\n",
       "2  foo     2     4\n",
       "3  foo     2     5"
      ]
     },
     "execution_count": 179,
     "metadata": {},
     "output_type": "execute_result"
    }
   ],
   "source": [
    "pd.merge(left, right, on='key')"
   ]
  },
  {
   "cell_type": "markdown",
   "metadata": {},
   "source": [
    "### Append"
   ]
  },
  {
   "cell_type": "code",
   "execution_count": 180,
   "metadata": {
    "collapsed": true
   },
   "outputs": [],
   "source": [
    "df = pd.DataFrame(np.random.randn(8, 4), columns=['A','B','C','D'])\n"
   ]
  },
  {
   "cell_type": "code",
   "execution_count": 181,
   "metadata": {
    "collapsed": false
   },
   "outputs": [
    {
     "data": {
      "text/html": [
       "<div>\n",
       "<table border=\"1\" class=\"dataframe\">\n",
       "  <thead>\n",
       "    <tr style=\"text-align: right;\">\n",
       "      <th></th>\n",
       "      <th>A</th>\n",
       "      <th>B</th>\n",
       "      <th>C</th>\n",
       "      <th>D</th>\n",
       "    </tr>\n",
       "  </thead>\n",
       "  <tbody>\n",
       "    <tr>\n",
       "      <th>0</th>\n",
       "      <td>0.536126</td>\n",
       "      <td>0.037209</td>\n",
       "      <td>-0.629065</td>\n",
       "      <td>0.346835</td>\n",
       "    </tr>\n",
       "    <tr>\n",
       "      <th>1</th>\n",
       "      <td>0.035722</td>\n",
       "      <td>-0.707657</td>\n",
       "      <td>0.319538</td>\n",
       "      <td>-0.448435</td>\n",
       "    </tr>\n",
       "    <tr>\n",
       "      <th>2</th>\n",
       "      <td>0.718917</td>\n",
       "      <td>0.357321</td>\n",
       "      <td>0.888280</td>\n",
       "      <td>0.844345</td>\n",
       "    </tr>\n",
       "    <tr>\n",
       "      <th>3</th>\n",
       "      <td>-0.342766</td>\n",
       "      <td>0.945210</td>\n",
       "      <td>-0.368123</td>\n",
       "      <td>0.976913</td>\n",
       "    </tr>\n",
       "    <tr>\n",
       "      <th>4</th>\n",
       "      <td>0.017277</td>\n",
       "      <td>3.036310</td>\n",
       "      <td>0.388932</td>\n",
       "      <td>-1.127309</td>\n",
       "    </tr>\n",
       "    <tr>\n",
       "      <th>5</th>\n",
       "      <td>-0.231136</td>\n",
       "      <td>0.112676</td>\n",
       "      <td>0.920936</td>\n",
       "      <td>-0.636910</td>\n",
       "    </tr>\n",
       "    <tr>\n",
       "      <th>6</th>\n",
       "      <td>0.336707</td>\n",
       "      <td>0.199176</td>\n",
       "      <td>-0.208838</td>\n",
       "      <td>1.514261</td>\n",
       "    </tr>\n",
       "    <tr>\n",
       "      <th>7</th>\n",
       "      <td>-0.058753</td>\n",
       "      <td>0.693072</td>\n",
       "      <td>-0.245789</td>\n",
       "      <td>1.194768</td>\n",
       "    </tr>\n",
       "  </tbody>\n",
       "</table>\n",
       "</div>"
      ],
      "text/plain": [
       "          A         B         C         D\n",
       "0  0.536126  0.037209 -0.629065  0.346835\n",
       "1  0.035722 -0.707657  0.319538 -0.448435\n",
       "2  0.718917  0.357321  0.888280  0.844345\n",
       "3 -0.342766  0.945210 -0.368123  0.976913\n",
       "4  0.017277  3.036310  0.388932 -1.127309\n",
       "5 -0.231136  0.112676  0.920936 -0.636910\n",
       "6  0.336707  0.199176 -0.208838  1.514261\n",
       "7 -0.058753  0.693072 -0.245789  1.194768"
      ]
     },
     "execution_count": 181,
     "metadata": {},
     "output_type": "execute_result"
    }
   ],
   "source": [
    "df"
   ]
  },
  {
   "cell_type": "code",
   "execution_count": 182,
   "metadata": {
    "collapsed": true
   },
   "outputs": [],
   "source": [
    "s = df.iloc[3]"
   ]
  },
  {
   "cell_type": "code",
   "execution_count": 183,
   "metadata": {
    "collapsed": false
   },
   "outputs": [
    {
     "data": {
      "text/html": [
       "<div>\n",
       "<table border=\"1\" class=\"dataframe\">\n",
       "  <thead>\n",
       "    <tr style=\"text-align: right;\">\n",
       "      <th></th>\n",
       "      <th>A</th>\n",
       "      <th>B</th>\n",
       "      <th>C</th>\n",
       "      <th>D</th>\n",
       "    </tr>\n",
       "  </thead>\n",
       "  <tbody>\n",
       "    <tr>\n",
       "      <th>0</th>\n",
       "      <td>0.536126</td>\n",
       "      <td>0.037209</td>\n",
       "      <td>-0.629065</td>\n",
       "      <td>0.346835</td>\n",
       "    </tr>\n",
       "    <tr>\n",
       "      <th>1</th>\n",
       "      <td>0.035722</td>\n",
       "      <td>-0.707657</td>\n",
       "      <td>0.319538</td>\n",
       "      <td>-0.448435</td>\n",
       "    </tr>\n",
       "    <tr>\n",
       "      <th>2</th>\n",
       "      <td>0.718917</td>\n",
       "      <td>0.357321</td>\n",
       "      <td>0.888280</td>\n",
       "      <td>0.844345</td>\n",
       "    </tr>\n",
       "    <tr>\n",
       "      <th>3</th>\n",
       "      <td>-0.342766</td>\n",
       "      <td>0.945210</td>\n",
       "      <td>-0.368123</td>\n",
       "      <td>0.976913</td>\n",
       "    </tr>\n",
       "    <tr>\n",
       "      <th>4</th>\n",
       "      <td>0.017277</td>\n",
       "      <td>3.036310</td>\n",
       "      <td>0.388932</td>\n",
       "      <td>-1.127309</td>\n",
       "    </tr>\n",
       "    <tr>\n",
       "      <th>5</th>\n",
       "      <td>-0.231136</td>\n",
       "      <td>0.112676</td>\n",
       "      <td>0.920936</td>\n",
       "      <td>-0.636910</td>\n",
       "    </tr>\n",
       "    <tr>\n",
       "      <th>6</th>\n",
       "      <td>0.336707</td>\n",
       "      <td>0.199176</td>\n",
       "      <td>-0.208838</td>\n",
       "      <td>1.514261</td>\n",
       "    </tr>\n",
       "    <tr>\n",
       "      <th>7</th>\n",
       "      <td>-0.058753</td>\n",
       "      <td>0.693072</td>\n",
       "      <td>-0.245789</td>\n",
       "      <td>1.194768</td>\n",
       "    </tr>\n",
       "    <tr>\n",
       "      <th>8</th>\n",
       "      <td>-0.342766</td>\n",
       "      <td>0.945210</td>\n",
       "      <td>-0.368123</td>\n",
       "      <td>0.976913</td>\n",
       "    </tr>\n",
       "  </tbody>\n",
       "</table>\n",
       "</div>"
      ],
      "text/plain": [
       "          A         B         C         D\n",
       "0  0.536126  0.037209 -0.629065  0.346835\n",
       "1  0.035722 -0.707657  0.319538 -0.448435\n",
       "2  0.718917  0.357321  0.888280  0.844345\n",
       "3 -0.342766  0.945210 -0.368123  0.976913\n",
       "4  0.017277  3.036310  0.388932 -1.127309\n",
       "5 -0.231136  0.112676  0.920936 -0.636910\n",
       "6  0.336707  0.199176 -0.208838  1.514261\n",
       "7 -0.058753  0.693072 -0.245789  1.194768\n",
       "8 -0.342766  0.945210 -0.368123  0.976913"
      ]
     },
     "execution_count": 183,
     "metadata": {},
     "output_type": "execute_result"
    }
   ],
   "source": [
    "df.append(s,ignore_index=True)"
   ]
  },
  {
   "cell_type": "markdown",
   "metadata": {},
   "source": [
    "## Grouping"
   ]
  },
  {
   "cell_type": "code",
   "execution_count": 184,
   "metadata": {
    "collapsed": true
   },
   "outputs": [],
   "source": [
    "df = pd.DataFrame({'A' : ['foo', 'bar', 'foo', 'bar',\n",
    "   ....:                           'foo', 'bar', 'foo', 'foo'],\n",
    "   ....:                    'B' : ['one', 'one', 'two', 'three',\n",
    "   ....:                           'two', 'two', 'one', 'three'],\n",
    "   ....:                    'C' : np.random.randn(8),\n",
    "   ....:                    'D' : np.random.randn(8)})\n",
    "   ....: "
   ]
  },
  {
   "cell_type": "code",
   "execution_count": 185,
   "metadata": {
    "collapsed": false
   },
   "outputs": [
    {
     "data": {
      "text/html": [
       "<div>\n",
       "<table border=\"1\" class=\"dataframe\">\n",
       "  <thead>\n",
       "    <tr style=\"text-align: right;\">\n",
       "      <th></th>\n",
       "      <th>A</th>\n",
       "      <th>B</th>\n",
       "      <th>C</th>\n",
       "      <th>D</th>\n",
       "    </tr>\n",
       "  </thead>\n",
       "  <tbody>\n",
       "    <tr>\n",
       "      <th>0</th>\n",
       "      <td>foo</td>\n",
       "      <td>one</td>\n",
       "      <td>-0.149949</td>\n",
       "      <td>-0.334598</td>\n",
       "    </tr>\n",
       "    <tr>\n",
       "      <th>1</th>\n",
       "      <td>bar</td>\n",
       "      <td>one</td>\n",
       "      <td>0.210371</td>\n",
       "      <td>0.405604</td>\n",
       "    </tr>\n",
       "    <tr>\n",
       "      <th>2</th>\n",
       "      <td>foo</td>\n",
       "      <td>two</td>\n",
       "      <td>2.274252</td>\n",
       "      <td>0.210571</td>\n",
       "    </tr>\n",
       "    <tr>\n",
       "      <th>3</th>\n",
       "      <td>bar</td>\n",
       "      <td>three</td>\n",
       "      <td>0.250069</td>\n",
       "      <td>-1.901266</td>\n",
       "    </tr>\n",
       "    <tr>\n",
       "      <th>4</th>\n",
       "      <td>foo</td>\n",
       "      <td>two</td>\n",
       "      <td>-0.354257</td>\n",
       "      <td>0.411673</td>\n",
       "    </tr>\n",
       "    <tr>\n",
       "      <th>5</th>\n",
       "      <td>bar</td>\n",
       "      <td>two</td>\n",
       "      <td>0.592820</td>\n",
       "      <td>2.171402</td>\n",
       "    </tr>\n",
       "    <tr>\n",
       "      <th>6</th>\n",
       "      <td>foo</td>\n",
       "      <td>one</td>\n",
       "      <td>0.760283</td>\n",
       "      <td>-0.536658</td>\n",
       "    </tr>\n",
       "    <tr>\n",
       "      <th>7</th>\n",
       "      <td>foo</td>\n",
       "      <td>three</td>\n",
       "      <td>0.743810</td>\n",
       "      <td>1.669143</td>\n",
       "    </tr>\n",
       "  </tbody>\n",
       "</table>\n",
       "</div>"
      ],
      "text/plain": [
       "     A      B         C         D\n",
       "0  foo    one -0.149949 -0.334598\n",
       "1  bar    one  0.210371  0.405604\n",
       "2  foo    two  2.274252  0.210571\n",
       "3  bar  three  0.250069 -1.901266\n",
       "4  foo    two -0.354257  0.411673\n",
       "5  bar    two  0.592820  2.171402\n",
       "6  foo    one  0.760283 -0.536658\n",
       "7  foo  three  0.743810  1.669143"
      ]
     },
     "execution_count": 185,
     "metadata": {},
     "output_type": "execute_result"
    }
   ],
   "source": [
    "df"
   ]
  },
  {
   "cell_type": "code",
   "execution_count": 186,
   "metadata": {
    "collapsed": false
   },
   "outputs": [
    {
     "data": {
      "text/html": [
       "<div>\n",
       "<table border=\"1\" class=\"dataframe\">\n",
       "  <thead>\n",
       "    <tr style=\"text-align: right;\">\n",
       "      <th></th>\n",
       "      <th>C</th>\n",
       "      <th>D</th>\n",
       "    </tr>\n",
       "    <tr>\n",
       "      <th>A</th>\n",
       "      <th></th>\n",
       "      <th></th>\n",
       "    </tr>\n",
       "  </thead>\n",
       "  <tbody>\n",
       "    <tr>\n",
       "      <th>bar</th>\n",
       "      <td>1.05326</td>\n",
       "      <td>0.675740</td>\n",
       "    </tr>\n",
       "    <tr>\n",
       "      <th>foo</th>\n",
       "      <td>3.27414</td>\n",
       "      <td>1.420131</td>\n",
       "    </tr>\n",
       "  </tbody>\n",
       "</table>\n",
       "</div>"
      ],
      "text/plain": [
       "           C         D\n",
       "A                     \n",
       "bar  1.05326  0.675740\n",
       "foo  3.27414  1.420131"
      ]
     },
     "execution_count": 186,
     "metadata": {},
     "output_type": "execute_result"
    }
   ],
   "source": [
    "df.groupby('A').sum()"
   ]
  },
  {
   "cell_type": "code",
   "execution_count": 187,
   "metadata": {
    "collapsed": false
   },
   "outputs": [
    {
     "data": {
      "text/html": [
       "<div>\n",
       "<table border=\"1\" class=\"dataframe\">\n",
       "  <thead>\n",
       "    <tr style=\"text-align: right;\">\n",
       "      <th></th>\n",
       "      <th></th>\n",
       "      <th>C</th>\n",
       "      <th>D</th>\n",
       "    </tr>\n",
       "    <tr>\n",
       "      <th>A</th>\n",
       "      <th>B</th>\n",
       "      <th></th>\n",
       "      <th></th>\n",
       "    </tr>\n",
       "  </thead>\n",
       "  <tbody>\n",
       "    <tr>\n",
       "      <th rowspan=\"3\" valign=\"top\">bar</th>\n",
       "      <th>one</th>\n",
       "      <td>0.210371</td>\n",
       "      <td>0.405604</td>\n",
       "    </tr>\n",
       "    <tr>\n",
       "      <th>three</th>\n",
       "      <td>0.250069</td>\n",
       "      <td>-1.901266</td>\n",
       "    </tr>\n",
       "    <tr>\n",
       "      <th>two</th>\n",
       "      <td>0.592820</td>\n",
       "      <td>2.171402</td>\n",
       "    </tr>\n",
       "    <tr>\n",
       "      <th rowspan=\"3\" valign=\"top\">foo</th>\n",
       "      <th>one</th>\n",
       "      <td>0.610335</td>\n",
       "      <td>-0.871256</td>\n",
       "    </tr>\n",
       "    <tr>\n",
       "      <th>three</th>\n",
       "      <td>0.743810</td>\n",
       "      <td>1.669143</td>\n",
       "    </tr>\n",
       "    <tr>\n",
       "      <th>two</th>\n",
       "      <td>1.919996</td>\n",
       "      <td>0.622243</td>\n",
       "    </tr>\n",
       "  </tbody>\n",
       "</table>\n",
       "</div>"
      ],
      "text/plain": [
       "                  C         D\n",
       "A   B                        \n",
       "bar one    0.210371  0.405604\n",
       "    three  0.250069 -1.901266\n",
       "    two    0.592820  2.171402\n",
       "foo one    0.610335 -0.871256\n",
       "    three  0.743810  1.669143\n",
       "    two    1.919996  0.622243"
      ]
     },
     "execution_count": 187,
     "metadata": {},
     "output_type": "execute_result"
    }
   ],
   "source": [
    "df.groupby(['A','B']).sum()"
   ]
  },
  {
   "cell_type": "markdown",
   "metadata": {},
   "source": [
    "## Reshaping"
   ]
  },
  {
   "cell_type": "markdown",
   "metadata": {},
   "source": [
    "### Stack"
   ]
  },
  {
   "cell_type": "code",
   "execution_count": 188,
   "metadata": {
    "collapsed": true
   },
   "outputs": [],
   "source": [
    "tuples = list(zip(*[['bar', 'bar', 'baz', 'baz',\n",
    "   ....:                      'foo', 'foo', 'qux', 'qux'],\n",
    "   ....:                     ['one', 'two', 'one', 'two',\n",
    "   ....:                      'one', 'two', 'one', 'two']]))\n",
    "   ....: "
   ]
  },
  {
   "cell_type": "code",
   "execution_count": 189,
   "metadata": {
    "collapsed": true
   },
   "outputs": [],
   "source": [
    "index = pd.MultiIndex.from_tuples(tuples, names=['first', 'second'])"
   ]
  },
  {
   "cell_type": "code",
   "execution_count": 190,
   "metadata": {
    "collapsed": true
   },
   "outputs": [],
   "source": [
    "df = pd.DataFrame(np.random.randn(8, 2), index=index, columns=['A', 'B'])"
   ]
  },
  {
   "cell_type": "code",
   "execution_count": 191,
   "metadata": {
    "collapsed": true
   },
   "outputs": [],
   "source": [
    "df2 = df[:4]"
   ]
  },
  {
   "cell_type": "code",
   "execution_count": 192,
   "metadata": {
    "collapsed": false
   },
   "outputs": [
    {
     "data": {
      "text/html": [
       "<div>\n",
       "<table border=\"1\" class=\"dataframe\">\n",
       "  <thead>\n",
       "    <tr style=\"text-align: right;\">\n",
       "      <th></th>\n",
       "      <th></th>\n",
       "      <th>A</th>\n",
       "      <th>B</th>\n",
       "    </tr>\n",
       "    <tr>\n",
       "      <th>first</th>\n",
       "      <th>second</th>\n",
       "      <th></th>\n",
       "      <th></th>\n",
       "    </tr>\n",
       "  </thead>\n",
       "  <tbody>\n",
       "    <tr>\n",
       "      <th rowspan=\"2\" valign=\"top\">bar</th>\n",
       "      <th>one</th>\n",
       "      <td>0.706951</td>\n",
       "      <td>-1.134761</td>\n",
       "    </tr>\n",
       "    <tr>\n",
       "      <th>two</th>\n",
       "      <td>-0.583208</td>\n",
       "      <td>-2.486288</td>\n",
       "    </tr>\n",
       "    <tr>\n",
       "      <th rowspan=\"2\" valign=\"top\">baz</th>\n",
       "      <th>one</th>\n",
       "      <td>2.743941</td>\n",
       "      <td>0.040830</td>\n",
       "    </tr>\n",
       "    <tr>\n",
       "      <th>two</th>\n",
       "      <td>-0.049424</td>\n",
       "      <td>0.462963</td>\n",
       "    </tr>\n",
       "  </tbody>\n",
       "</table>\n",
       "</div>"
      ],
      "text/plain": [
       "                     A         B\n",
       "first second                    \n",
       "bar   one     0.706951 -1.134761\n",
       "      two    -0.583208 -2.486288\n",
       "baz   one     2.743941  0.040830\n",
       "      two    -0.049424  0.462963"
      ]
     },
     "execution_count": 192,
     "metadata": {},
     "output_type": "execute_result"
    }
   ],
   "source": [
    "df2"
   ]
  },
  {
   "cell_type": "code",
   "execution_count": 193,
   "metadata": {
    "collapsed": true
   },
   "outputs": [],
   "source": [
    "stacked = df2.stack()"
   ]
  },
  {
   "cell_type": "code",
   "execution_count": 194,
   "metadata": {
    "collapsed": false
   },
   "outputs": [
    {
     "data": {
      "text/plain": [
       "first  second   \n",
       "bar    one     A    0.706951\n",
       "               B   -1.134761\n",
       "       two     A   -0.583208\n",
       "               B   -2.486288\n",
       "baz    one     A    2.743941\n",
       "               B    0.040830\n",
       "       two     A   -0.049424\n",
       "               B    0.462963\n",
       "dtype: float64"
      ]
     },
     "execution_count": 194,
     "metadata": {},
     "output_type": "execute_result"
    }
   ],
   "source": [
    "stacked"
   ]
  },
  {
   "cell_type": "code",
   "execution_count": 195,
   "metadata": {
    "collapsed": false
   },
   "outputs": [
    {
     "data": {
      "text/html": [
       "<div>\n",
       "<table border=\"1\" class=\"dataframe\">\n",
       "  <thead>\n",
       "    <tr style=\"text-align: right;\">\n",
       "      <th></th>\n",
       "      <th></th>\n",
       "      <th>A</th>\n",
       "      <th>B</th>\n",
       "    </tr>\n",
       "    <tr>\n",
       "      <th>first</th>\n",
       "      <th>second</th>\n",
       "      <th></th>\n",
       "      <th></th>\n",
       "    </tr>\n",
       "  </thead>\n",
       "  <tbody>\n",
       "    <tr>\n",
       "      <th rowspan=\"2\" valign=\"top\">bar</th>\n",
       "      <th>one</th>\n",
       "      <td>0.706951</td>\n",
       "      <td>-1.134761</td>\n",
       "    </tr>\n",
       "    <tr>\n",
       "      <th>two</th>\n",
       "      <td>-0.583208</td>\n",
       "      <td>-2.486288</td>\n",
       "    </tr>\n",
       "    <tr>\n",
       "      <th rowspan=\"2\" valign=\"top\">baz</th>\n",
       "      <th>one</th>\n",
       "      <td>2.743941</td>\n",
       "      <td>0.040830</td>\n",
       "    </tr>\n",
       "    <tr>\n",
       "      <th>two</th>\n",
       "      <td>-0.049424</td>\n",
       "      <td>0.462963</td>\n",
       "    </tr>\n",
       "  </tbody>\n",
       "</table>\n",
       "</div>"
      ],
      "text/plain": [
       "                     A         B\n",
       "first second                    \n",
       "bar   one     0.706951 -1.134761\n",
       "      two    -0.583208 -2.486288\n",
       "baz   one     2.743941  0.040830\n",
       "      two    -0.049424  0.462963"
      ]
     },
     "execution_count": 195,
     "metadata": {},
     "output_type": "execute_result"
    }
   ],
   "source": [
    "stacked.unstack()"
   ]
  },
  {
   "cell_type": "markdown",
   "metadata": {},
   "source": [
    "### Pivot Tables"
   ]
  },
  {
   "cell_type": "code",
   "execution_count": 196,
   "metadata": {
    "collapsed": true
   },
   "outputs": [],
   "source": [
    "df = pd.DataFrame({'A' : ['one', 'one', 'two', 'three'] * 3,\n",
    "   .....:                    'B' : ['A', 'B', 'C'] * 4,\n",
    "   .....:                    'C' : ['foo', 'foo', 'foo', 'bar', 'bar', 'bar'] * 2,\n",
    "   .....:                    'D' : np.random.randn(12),\n",
    "   .....:                    'E' : np.random.randn(12)})\n",
    "   .....:"
   ]
  },
  {
   "cell_type": "code",
   "execution_count": 197,
   "metadata": {
    "collapsed": false
   },
   "outputs": [
    {
     "data": {
      "text/html": [
       "<div>\n",
       "<table border=\"1\" class=\"dataframe\">\n",
       "  <thead>\n",
       "    <tr style=\"text-align: right;\">\n",
       "      <th></th>\n",
       "      <th>A</th>\n",
       "      <th>B</th>\n",
       "      <th>C</th>\n",
       "      <th>D</th>\n",
       "      <th>E</th>\n",
       "    </tr>\n",
       "  </thead>\n",
       "  <tbody>\n",
       "    <tr>\n",
       "      <th>0</th>\n",
       "      <td>one</td>\n",
       "      <td>A</td>\n",
       "      <td>foo</td>\n",
       "      <td>1.347419</td>\n",
       "      <td>0.543670</td>\n",
       "    </tr>\n",
       "    <tr>\n",
       "      <th>1</th>\n",
       "      <td>one</td>\n",
       "      <td>B</td>\n",
       "      <td>foo</td>\n",
       "      <td>0.581265</td>\n",
       "      <td>-0.935337</td>\n",
       "    </tr>\n",
       "    <tr>\n",
       "      <th>2</th>\n",
       "      <td>two</td>\n",
       "      <td>C</td>\n",
       "      <td>foo</td>\n",
       "      <td>-1.863238</td>\n",
       "      <td>0.481892</td>\n",
       "    </tr>\n",
       "    <tr>\n",
       "      <th>3</th>\n",
       "      <td>three</td>\n",
       "      <td>A</td>\n",
       "      <td>bar</td>\n",
       "      <td>0.344433</td>\n",
       "      <td>0.618985</td>\n",
       "    </tr>\n",
       "    <tr>\n",
       "      <th>4</th>\n",
       "      <td>one</td>\n",
       "      <td>B</td>\n",
       "      <td>bar</td>\n",
       "      <td>-0.379052</td>\n",
       "      <td>-1.237772</td>\n",
       "    </tr>\n",
       "    <tr>\n",
       "      <th>5</th>\n",
       "      <td>one</td>\n",
       "      <td>C</td>\n",
       "      <td>bar</td>\n",
       "      <td>0.675384</td>\n",
       "      <td>2.379413</td>\n",
       "    </tr>\n",
       "    <tr>\n",
       "      <th>6</th>\n",
       "      <td>two</td>\n",
       "      <td>A</td>\n",
       "      <td>foo</td>\n",
       "      <td>0.401620</td>\n",
       "      <td>-1.579847</td>\n",
       "    </tr>\n",
       "    <tr>\n",
       "      <th>7</th>\n",
       "      <td>three</td>\n",
       "      <td>B</td>\n",
       "      <td>foo</td>\n",
       "      <td>0.687215</td>\n",
       "      <td>-0.456671</td>\n",
       "    </tr>\n",
       "    <tr>\n",
       "      <th>8</th>\n",
       "      <td>one</td>\n",
       "      <td>C</td>\n",
       "      <td>foo</td>\n",
       "      <td>-0.118048</td>\n",
       "      <td>-0.121479</td>\n",
       "    </tr>\n",
       "    <tr>\n",
       "      <th>9</th>\n",
       "      <td>one</td>\n",
       "      <td>A</td>\n",
       "      <td>bar</td>\n",
       "      <td>-0.620956</td>\n",
       "      <td>0.452037</td>\n",
       "    </tr>\n",
       "    <tr>\n",
       "      <th>10</th>\n",
       "      <td>two</td>\n",
       "      <td>B</td>\n",
       "      <td>bar</td>\n",
       "      <td>0.516512</td>\n",
       "      <td>-0.392307</td>\n",
       "    </tr>\n",
       "    <tr>\n",
       "      <th>11</th>\n",
       "      <td>three</td>\n",
       "      <td>C</td>\n",
       "      <td>bar</td>\n",
       "      <td>0.509495</td>\n",
       "      <td>1.559793</td>\n",
       "    </tr>\n",
       "  </tbody>\n",
       "</table>\n",
       "</div>"
      ],
      "text/plain": [
       "        A  B    C         D         E\n",
       "0     one  A  foo  1.347419  0.543670\n",
       "1     one  B  foo  0.581265 -0.935337\n",
       "2     two  C  foo -1.863238  0.481892\n",
       "3   three  A  bar  0.344433  0.618985\n",
       "4     one  B  bar -0.379052 -1.237772\n",
       "5     one  C  bar  0.675384  2.379413\n",
       "6     two  A  foo  0.401620 -1.579847\n",
       "7   three  B  foo  0.687215 -0.456671\n",
       "8     one  C  foo -0.118048 -0.121479\n",
       "9     one  A  bar -0.620956  0.452037\n",
       "10    two  B  bar  0.516512 -0.392307\n",
       "11  three  C  bar  0.509495  1.559793"
      ]
     },
     "execution_count": 197,
     "metadata": {},
     "output_type": "execute_result"
    }
   ],
   "source": [
    "df"
   ]
  },
  {
   "cell_type": "code",
   "execution_count": 198,
   "metadata": {
    "collapsed": false
   },
   "outputs": [
    {
     "data": {
      "text/html": [
       "<div>\n",
       "<table border=\"1\" class=\"dataframe\">\n",
       "  <thead>\n",
       "    <tr style=\"text-align: right;\">\n",
       "      <th></th>\n",
       "      <th>C</th>\n",
       "      <th>bar</th>\n",
       "      <th>foo</th>\n",
       "    </tr>\n",
       "    <tr>\n",
       "      <th>A</th>\n",
       "      <th>B</th>\n",
       "      <th></th>\n",
       "      <th></th>\n",
       "    </tr>\n",
       "  </thead>\n",
       "  <tbody>\n",
       "    <tr>\n",
       "      <th rowspan=\"3\" valign=\"top\">one</th>\n",
       "      <th>A</th>\n",
       "      <td>-0.620956</td>\n",
       "      <td>1.347419</td>\n",
       "    </tr>\n",
       "    <tr>\n",
       "      <th>B</th>\n",
       "      <td>-0.379052</td>\n",
       "      <td>0.581265</td>\n",
       "    </tr>\n",
       "    <tr>\n",
       "      <th>C</th>\n",
       "      <td>0.675384</td>\n",
       "      <td>-0.118048</td>\n",
       "    </tr>\n",
       "    <tr>\n",
       "      <th rowspan=\"3\" valign=\"top\">three</th>\n",
       "      <th>A</th>\n",
       "      <td>0.344433</td>\n",
       "      <td>NaN</td>\n",
       "    </tr>\n",
       "    <tr>\n",
       "      <th>B</th>\n",
       "      <td>NaN</td>\n",
       "      <td>0.687215</td>\n",
       "    </tr>\n",
       "    <tr>\n",
       "      <th>C</th>\n",
       "      <td>0.509495</td>\n",
       "      <td>NaN</td>\n",
       "    </tr>\n",
       "    <tr>\n",
       "      <th rowspan=\"3\" valign=\"top\">two</th>\n",
       "      <th>A</th>\n",
       "      <td>NaN</td>\n",
       "      <td>0.401620</td>\n",
       "    </tr>\n",
       "    <tr>\n",
       "      <th>B</th>\n",
       "      <td>0.516512</td>\n",
       "      <td>NaN</td>\n",
       "    </tr>\n",
       "    <tr>\n",
       "      <th>C</th>\n",
       "      <td>NaN</td>\n",
       "      <td>-1.863238</td>\n",
       "    </tr>\n",
       "  </tbody>\n",
       "</table>\n",
       "</div>"
      ],
      "text/plain": [
       "C             bar       foo\n",
       "A     B                    \n",
       "one   A -0.620956  1.347419\n",
       "      B -0.379052  0.581265\n",
       "      C  0.675384 -0.118048\n",
       "three A  0.344433       NaN\n",
       "      B       NaN  0.687215\n",
       "      C  0.509495       NaN\n",
       "two   A       NaN  0.401620\n",
       "      B  0.516512       NaN\n",
       "      C       NaN -1.863238"
      ]
     },
     "execution_count": 198,
     "metadata": {},
     "output_type": "execute_result"
    }
   ],
   "source": [
    "pd.pivot_table(df, values='D', index=['A', 'B'], columns=['C'])"
   ]
  },
  {
   "cell_type": "markdown",
   "metadata": {},
   "source": [
    "### Time Series"
   ]
  },
  {
   "cell_type": "code",
   "execution_count": 199,
   "metadata": {
    "collapsed": true
   },
   "outputs": [],
   "source": [
    "rng = pd.date_range('1/1/2012', periods=100, freq='S')"
   ]
  },
  {
   "cell_type": "code",
   "execution_count": 200,
   "metadata": {
    "collapsed": true
   },
   "outputs": [],
   "source": [
    "ts = pd.Series(np.random.randint(0, 500, len(rng)), index=rng)"
   ]
  },
  {
   "cell_type": "code",
   "execution_count": 201,
   "metadata": {
    "collapsed": false
   },
   "outputs": [
    {
     "data": {
      "text/plain": [
       "2012-01-01    22709\n",
       "Freq: 5T, dtype: int32"
      ]
     },
     "execution_count": 201,
     "metadata": {},
     "output_type": "execute_result"
    }
   ],
   "source": [
    "ts.resample('5Min').sum()"
   ]
  },
  {
   "cell_type": "code",
   "execution_count": 202,
   "metadata": {
    "collapsed": true
   },
   "outputs": [],
   "source": [
    "rng = pd.date_range('3/6/2012 00:00', periods=5, freq='D')"
   ]
  },
  {
   "cell_type": "code",
   "execution_count": 203,
   "metadata": {
    "collapsed": true
   },
   "outputs": [],
   "source": [
    "ts = pd.Series(np.random.randn(len(rng)), rng)"
   ]
  },
  {
   "cell_type": "code",
   "execution_count": 204,
   "metadata": {
    "collapsed": false
   },
   "outputs": [
    {
     "data": {
      "text/plain": [
       "2012-03-06   -1.077782\n",
       "2012-03-07   -0.050548\n",
       "2012-03-08   -0.018715\n",
       "2012-03-09   -1.310569\n",
       "2012-03-10   -0.756180\n",
       "Freq: D, dtype: float64"
      ]
     },
     "execution_count": 204,
     "metadata": {},
     "output_type": "execute_result"
    }
   ],
   "source": [
    "ts"
   ]
  },
  {
   "cell_type": "code",
   "execution_count": 205,
   "metadata": {
    "collapsed": true
   },
   "outputs": [],
   "source": [
    "ts_utc = ts.tz_localize('UTC')"
   ]
  },
  {
   "cell_type": "code",
   "execution_count": 206,
   "metadata": {
    "collapsed": false
   },
   "outputs": [
    {
     "data": {
      "text/plain": [
       "2012-03-06 00:00:00+00:00   -1.077782\n",
       "2012-03-07 00:00:00+00:00   -0.050548\n",
       "2012-03-08 00:00:00+00:00   -0.018715\n",
       "2012-03-09 00:00:00+00:00   -1.310569\n",
       "2012-03-10 00:00:00+00:00   -0.756180\n",
       "Freq: D, dtype: float64"
      ]
     },
     "execution_count": 206,
     "metadata": {},
     "output_type": "execute_result"
    }
   ],
   "source": [
    "ts_utc"
   ]
  },
  {
   "cell_type": "code",
   "execution_count": 207,
   "metadata": {
    "collapsed": false
   },
   "outputs": [
    {
     "data": {
      "text/plain": [
       "2012-03-05 19:00:00-05:00   -1.077782\n",
       "2012-03-06 19:00:00-05:00   -0.050548\n",
       "2012-03-07 19:00:00-05:00   -0.018715\n",
       "2012-03-08 19:00:00-05:00   -1.310569\n",
       "2012-03-09 19:00:00-05:00   -0.756180\n",
       "Freq: D, dtype: float64"
      ]
     },
     "execution_count": 207,
     "metadata": {},
     "output_type": "execute_result"
    }
   ],
   "source": [
    "ts_utc.tz_convert('US/Eastern')"
   ]
  },
  {
   "cell_type": "code",
   "execution_count": 209,
   "metadata": {
    "collapsed": true
   },
   "outputs": [],
   "source": [
    "rng = pd.date_range('1/1/2012', periods=5, freq='M')"
   ]
  },
  {
   "cell_type": "code",
   "execution_count": 210,
   "metadata": {
    "collapsed": true
   },
   "outputs": [],
   "source": [
    "ts = pd.Series(np.random.randn(len(rng)), index=rng)"
   ]
  },
  {
   "cell_type": "code",
   "execution_count": 211,
   "metadata": {
    "collapsed": false
   },
   "outputs": [
    {
     "data": {
      "text/plain": [
       "2012-01-31    0.926858\n",
       "2012-02-29    0.761181\n",
       "2012-03-31   -0.076008\n",
       "2012-04-30   -0.238604\n",
       "2012-05-31    1.104884\n",
       "Freq: M, dtype: float64"
      ]
     },
     "execution_count": 211,
     "metadata": {},
     "output_type": "execute_result"
    }
   ],
   "source": [
    "ts"
   ]
  },
  {
   "cell_type": "code",
   "execution_count": 212,
   "metadata": {
    "collapsed": true
   },
   "outputs": [],
   "source": [
    "ps = ts.to_period()"
   ]
  },
  {
   "cell_type": "code",
   "execution_count": 213,
   "metadata": {
    "collapsed": false
   },
   "outputs": [
    {
     "data": {
      "text/plain": [
       "2012-01    0.926858\n",
       "2012-02    0.761181\n",
       "2012-03   -0.076008\n",
       "2012-04   -0.238604\n",
       "2012-05    1.104884\n",
       "Freq: M, dtype: float64"
      ]
     },
     "execution_count": 213,
     "metadata": {},
     "output_type": "execute_result"
    }
   ],
   "source": [
    "ps"
   ]
  },
  {
   "cell_type": "code",
   "execution_count": 214,
   "metadata": {
    "collapsed": false
   },
   "outputs": [
    {
     "data": {
      "text/plain": [
       "2012-01-01    0.926858\n",
       "2012-02-01    0.761181\n",
       "2012-03-01   -0.076008\n",
       "2012-04-01   -0.238604\n",
       "2012-05-01    1.104884\n",
       "Freq: MS, dtype: float64"
      ]
     },
     "execution_count": 214,
     "metadata": {},
     "output_type": "execute_result"
    }
   ],
   "source": [
    "ps.to_timestamp()"
   ]
  },
  {
   "cell_type": "code",
   "execution_count": 215,
   "metadata": {
    "collapsed": true
   },
   "outputs": [],
   "source": [
    "prng = pd.period_range('1990Q1', '2000Q4', freq='Q-NOV')"
   ]
  },
  {
   "cell_type": "code",
   "execution_count": 216,
   "metadata": {
    "collapsed": true
   },
   "outputs": [],
   "source": [
    "ts = pd.Series(np.random.randn(len(prng)), prng)"
   ]
  },
  {
   "cell_type": "code",
   "execution_count": 217,
   "metadata": {
    "collapsed": true
   },
   "outputs": [],
   "source": [
    "ts.index = (prng.asfreq('M', 'e') + 1).asfreq('H', 's') + 9"
   ]
  },
  {
   "cell_type": "code",
   "execution_count": 218,
   "metadata": {
    "collapsed": false
   },
   "outputs": [
    {
     "data": {
      "text/plain": [
       "1990-03-01 09:00    1.010472\n",
       "1990-06-01 09:00   -0.118044\n",
       "1990-09-01 09:00    1.057837\n",
       "1990-12-01 09:00    1.533448\n",
       "1991-03-01 09:00   -0.690354\n",
       "Freq: H, dtype: float64"
      ]
     },
     "execution_count": 218,
     "metadata": {},
     "output_type": "execute_result"
    }
   ],
   "source": [
    "ts.head()"
   ]
  },
  {
   "cell_type": "markdown",
   "metadata": {},
   "source": [
    "## Categoricals"
   ]
  },
  {
   "cell_type": "code",
   "execution_count": 219,
   "metadata": {
    "collapsed": true
   },
   "outputs": [],
   "source": [
    "df = pd.DataFrame({\"id\":[1,2,3,4,5,6], \"raw_grade\":['a', 'b', 'b', 'a', 'a', 'e']})"
   ]
  },
  {
   "cell_type": "code",
   "execution_count": 220,
   "metadata": {
    "collapsed": true
   },
   "outputs": [],
   "source": [
    "df[\"grade\"] = df[\"raw_grade\"].astype(\"category\")"
   ]
  },
  {
   "cell_type": "code",
   "execution_count": 221,
   "metadata": {
    "collapsed": false
   },
   "outputs": [
    {
     "data": {
      "text/plain": [
       "0    a\n",
       "1    b\n",
       "2    b\n",
       "3    a\n",
       "4    a\n",
       "5    e\n",
       "Name: grade, dtype: category\n",
       "Categories (3, object): [a, b, e]"
      ]
     },
     "execution_count": 221,
     "metadata": {},
     "output_type": "execute_result"
    }
   ],
   "source": [
    "df[\"grade\"]"
   ]
  },
  {
   "cell_type": "code",
   "execution_count": 222,
   "metadata": {
    "collapsed": false
   },
   "outputs": [
    {
     "data": {
      "text/html": [
       "<div>\n",
       "<table border=\"1\" class=\"dataframe\">\n",
       "  <thead>\n",
       "    <tr style=\"text-align: right;\">\n",
       "      <th></th>\n",
       "      <th>id</th>\n",
       "      <th>raw_grade</th>\n",
       "      <th>grade</th>\n",
       "    </tr>\n",
       "  </thead>\n",
       "  <tbody>\n",
       "    <tr>\n",
       "      <th>0</th>\n",
       "      <td>1</td>\n",
       "      <td>a</td>\n",
       "      <td>a</td>\n",
       "    </tr>\n",
       "    <tr>\n",
       "      <th>3</th>\n",
       "      <td>4</td>\n",
       "      <td>a</td>\n",
       "      <td>a</td>\n",
       "    </tr>\n",
       "    <tr>\n",
       "      <th>4</th>\n",
       "      <td>5</td>\n",
       "      <td>a</td>\n",
       "      <td>a</td>\n",
       "    </tr>\n",
       "    <tr>\n",
       "      <th>1</th>\n",
       "      <td>2</td>\n",
       "      <td>b</td>\n",
       "      <td>b</td>\n",
       "    </tr>\n",
       "    <tr>\n",
       "      <th>2</th>\n",
       "      <td>3</td>\n",
       "      <td>b</td>\n",
       "      <td>b</td>\n",
       "    </tr>\n",
       "    <tr>\n",
       "      <th>5</th>\n",
       "      <td>6</td>\n",
       "      <td>e</td>\n",
       "      <td>e</td>\n",
       "    </tr>\n",
       "  </tbody>\n",
       "</table>\n",
       "</div>"
      ],
      "text/plain": [
       "   id raw_grade grade\n",
       "0   1         a     a\n",
       "3   4         a     a\n",
       "4   5         a     a\n",
       "1   2         b     b\n",
       "2   3         b     b\n",
       "5   6         e     e"
      ]
     },
     "execution_count": 222,
     "metadata": {},
     "output_type": "execute_result"
    }
   ],
   "source": [
    "df.sort_values(by=\"grade\")"
   ]
  },
  {
   "cell_type": "code",
   "execution_count": 223,
   "metadata": {
    "collapsed": false
   },
   "outputs": [
    {
     "data": {
      "text/plain": [
       "grade\n",
       "a    3\n",
       "b    2\n",
       "e    1\n",
       "dtype: int64"
      ]
     },
     "execution_count": 223,
     "metadata": {},
     "output_type": "execute_result"
    }
   ],
   "source": [
    "df.groupby(\"grade\").size()"
   ]
  },
  {
   "cell_type": "markdown",
   "metadata": {},
   "source": [
    "## Plotting"
   ]
  },
  {
   "cell_type": "code",
   "execution_count": 26,
   "metadata": {
    "collapsed": true
   },
   "outputs": [],
   "source": [
    "ts = pd.Series(np.random.randn(1000), index=pd.date_range('1/1/2000', periods=1000))"
   ]
  },
  {
   "cell_type": "code",
   "execution_count": 27,
   "metadata": {
    "collapsed": true
   },
   "outputs": [],
   "source": [
    "ts = ts.cumsum()"
   ]
  },
  {
   "cell_type": "code",
   "execution_count": 29,
   "metadata": {
    "collapsed": true
   },
   "outputs": [],
   "source": [
    "%matplotlib inline"
   ]
  },
  {
   "cell_type": "markdown",
   "metadata": {},
   "source": [
    "plot image를 print하기 위해서 사용"
   ]
  },
  {
   "cell_type": "code",
   "execution_count": 30,
   "metadata": {
    "collapsed": false
   },
   "outputs": [
    {
     "data": {
      "text/plain": [
       "<matplotlib.axes._subplots.AxesSubplot at 0x9d173c8>"
      ]
     },
     "execution_count": 30,
     "metadata": {},
     "output_type": "execute_result"
    },
    {
     "data": {
      "image/png": "[encoded data removed]",
      "text/plain": [
       "<matplotlib.figure.Figure at 0x9d0d550>"
      ]
     },
     "metadata": {},
     "output_type": "display_data"
    }
   ],
   "source": [
    "ts.plot()"
   ]
  },
  {
   "cell_type": "code",
   "execution_count": 31,
   "metadata": {
    "collapsed": true
   },
   "outputs": [],
   "source": [
    "df = pd.DataFrame(np.random.randn(1000, 4), index=ts.index,\n",
    "   .....:                   columns=['A', 'B', 'C', 'D'])\n",
    "   .....: "
   ]
  },
  {
   "cell_type": "code",
   "execution_count": 32,
   "metadata": {
    "collapsed": true
   },
   "outputs": [],
   "source": [
    "df = df.cumsum()"
   ]
  },
  {
   "cell_type": "code",
   "execution_count": 33,
   "metadata": {
    "collapsed": false
   },
   "outputs": [
    {
     "data": {
      "text/plain": [
       "<matplotlib.legend.Legend at 0xa113860>"
      ]
     },
     "execution_count": 33,
     "metadata": {},
     "output_type": "execute_result"
    },
    {
     "data": {
      "text/plain": [
       "<matplotlib.figure.Figure at 0x9d0dc18>"
      ]
     },
     "metadata": {},
     "output_type": "display_data"
    },
    {
     "data": {
      "image/png": "[encoded data removed]",
      "text/plain": [
       "<matplotlib.figure.Figure at 0xa1b3668>"
      ]
     },
     "metadata": {},
     "output_type": "display_data"
    }
   ],
   "source": [
    " plt.figure(); df.plot(); plt.legend(loc='best')"
   ]
  },
  {
   "cell_type": "markdown",
   "metadata": {
    "collapsed": true
   },
   "source": [
    "## Getting Data In/Out"
   ]
  },
  {
   "cell_type": "markdown",
   "metadata": {},
   "source": [
    "file로 Data들을 저장하고, 읽어들이는 method들"
   ]
  },
  {
   "cell_type": "markdown",
   "metadata": {},
   "source": [
    "### CSV"
   ]
  },
  {
   "cell_type": "code",
   "execution_count": 231,
   "metadata": {
    "collapsed": true
   },
   "outputs": [],
   "source": [
    "df.to_csv('foo.csv')"
   ]
  },
  {
   "cell_type": "code",
   "execution_count": 232,
   "metadata": {
    "collapsed": false
   },
   "outputs": [
    {
     "data": {
      "text/html": [
       "<div>\n",
       "<table border=\"1\" class=\"dataframe\">\n",
       "  <thead>\n",
       "    <tr style=\"text-align: right;\">\n",
       "      <th></th>\n",
       "      <th>Unnamed: 0</th>\n",
       "      <th>A</th>\n",
       "      <th>B</th>\n",
       "      <th>C</th>\n",
       "      <th>D</th>\n",
       "    </tr>\n",
       "  </thead>\n",
       "  <tbody>\n",
       "    <tr>\n",
       "      <th>0</th>\n",
       "      <td>2000-01-01</td>\n",
       "      <td>0.632559</td>\n",
       "      <td>-0.821689</td>\n",
       "      <td>-0.166419</td>\n",
       "      <td>-0.930884</td>\n",
       "    </tr>\n",
       "    <tr>\n",
       "      <th>1</th>\n",
       "      <td>2000-01-02</td>\n",
       "      <td>1.579156</td>\n",
       "      <td>1.235584</td>\n",
       "      <td>-0.663069</td>\n",
       "      <td>-2.529067</td>\n",
       "    </tr>\n",
       "    <tr>\n",
       "      <th>2</th>\n",
       "      <td>2000-01-03</td>\n",
       "      <td>1.186064</td>\n",
       "      <td>2.001766</td>\n",
       "      <td>-0.368669</td>\n",
       "      <td>-3.598971</td>\n",
       "    </tr>\n",
       "    <tr>\n",
       "      <th>3</th>\n",
       "      <td>2000-01-04</td>\n",
       "      <td>1.382983</td>\n",
       "      <td>3.771948</td>\n",
       "      <td>-0.905774</td>\n",
       "      <td>-3.756191</td>\n",
       "    </tr>\n",
       "    <tr>\n",
       "      <th>4</th>\n",
       "      <td>2000-01-05</td>\n",
       "      <td>-0.078254</td>\n",
       "      <td>3.380191</td>\n",
       "      <td>0.926069</td>\n",
       "      <td>-3.920518</td>\n",
       "    </tr>\n",
       "    <tr>\n",
       "      <th>5</th>\n",
       "      <td>2000-01-06</td>\n",
       "      <td>0.280778</td>\n",
       "      <td>3.121576</td>\n",
       "      <td>0.506064</td>\n",
       "      <td>-5.776975</td>\n",
       "    </tr>\n",
       "    <tr>\n",
       "      <th>6</th>\n",
       "      <td>2000-01-07</td>\n",
       "      <td>2.174916</td>\n",
       "      <td>1.783593</td>\n",
       "      <td>0.935929</td>\n",
       "      <td>-5.984953</td>\n",
       "    </tr>\n",
       "    <tr>\n",
       "      <th>7</th>\n",
       "      <td>2000-01-08</td>\n",
       "      <td>0.753718</td>\n",
       "      <td>2.911976</td>\n",
       "      <td>-0.346379</td>\n",
       "      <td>-5.349157</td>\n",
       "    </tr>\n",
       "    <tr>\n",
       "      <th>8</th>\n",
       "      <td>2000-01-09</td>\n",
       "      <td>1.100042</td>\n",
       "      <td>4.935631</td>\n",
       "      <td>-0.456642</td>\n",
       "      <td>-5.634703</td>\n",
       "    </tr>\n",
       "    <tr>\n",
       "      <th>9</th>\n",
       "      <td>2000-01-10</td>\n",
       "      <td>0.322629</td>\n",
       "      <td>5.133088</td>\n",
       "      <td>0.091005</td>\n",
       "      <td>-5.041011</td>\n",
       "    </tr>\n",
       "    <tr>\n",
       "      <th>10</th>\n",
       "      <td>2000-01-11</td>\n",
       "      <td>-1.331503</td>\n",
       "      <td>6.158117</td>\n",
       "      <td>-1.757653</td>\n",
       "      <td>-5.014681</td>\n",
       "    </tr>\n",
       "    <tr>\n",
       "      <th>11</th>\n",
       "      <td>2000-01-12</td>\n",
       "      <td>-3.130319</td>\n",
       "      <td>7.418974</td>\n",
       "      <td>-0.674001</td>\n",
       "      <td>-5.846941</td>\n",
       "    </tr>\n",
       "    <tr>\n",
       "      <th>12</th>\n",
       "      <td>2000-01-13</td>\n",
       "      <td>-2.520046</td>\n",
       "      <td>8.543178</td>\n",
       "      <td>-0.448068</td>\n",
       "      <td>-6.155563</td>\n",
       "    </tr>\n",
       "    <tr>\n",
       "      <th>13</th>\n",
       "      <td>2000-01-14</td>\n",
       "      <td>-1.555768</td>\n",
       "      <td>9.421255</td>\n",
       "      <td>-0.756024</td>\n",
       "      <td>-5.722608</td>\n",
       "    </tr>\n",
       "    <tr>\n",
       "      <th>14</th>\n",
       "      <td>2000-01-15</td>\n",
       "      <td>-1.161941</td>\n",
       "      <td>9.959672</td>\n",
       "      <td>-1.393997</td>\n",
       "      <td>-6.351998</td>\n",
       "    </tr>\n",
       "    <tr>\n",
       "      <th>15</th>\n",
       "      <td>2000-01-16</td>\n",
       "      <td>-2.411142</td>\n",
       "      <td>10.012806</td>\n",
       "      <td>-1.307292</td>\n",
       "      <td>-6.853659</td>\n",
       "    </tr>\n",
       "    <tr>\n",
       "      <th>16</th>\n",
       "      <td>2000-01-17</td>\n",
       "      <td>-2.043999</td>\n",
       "      <td>9.604909</td>\n",
       "      <td>-2.474012</td>\n",
       "      <td>-6.533256</td>\n",
       "    </tr>\n",
       "    <tr>\n",
       "      <th>17</th>\n",
       "      <td>2000-01-18</td>\n",
       "      <td>-3.317134</td>\n",
       "      <td>8.983744</td>\n",
       "      <td>-1.613025</td>\n",
       "      <td>-5.891072</td>\n",
       "    </tr>\n",
       "    <tr>\n",
       "      <th>18</th>\n",
       "      <td>2000-01-19</td>\n",
       "      <td>-3.365097</td>\n",
       "      <td>8.231861</td>\n",
       "      <td>-2.147259</td>\n",
       "      <td>-5.471138</td>\n",
       "    </tr>\n",
       "    <tr>\n",
       "      <th>19</th>\n",
       "      <td>2000-01-20</td>\n",
       "      <td>-3.302667</td>\n",
       "      <td>5.457668</td>\n",
       "      <td>-1.471085</td>\n",
       "      <td>-4.906522</td>\n",
       "    </tr>\n",
       "    <tr>\n",
       "      <th>20</th>\n",
       "      <td>2000-01-21</td>\n",
       "      <td>-2.327524</td>\n",
       "      <td>4.488323</td>\n",
       "      <td>-1.317960</td>\n",
       "      <td>-4.611101</td>\n",
       "    </tr>\n",
       "    <tr>\n",
       "      <th>21</th>\n",
       "      <td>2000-01-22</td>\n",
       "      <td>-3.256170</td>\n",
       "      <td>5.331515</td>\n",
       "      <td>-0.410978</td>\n",
       "      <td>-2.996595</td>\n",
       "    </tr>\n",
       "    <tr>\n",
       "      <th>22</th>\n",
       "      <td>2000-01-23</td>\n",
       "      <td>-4.022053</td>\n",
       "      <td>4.673546</td>\n",
       "      <td>-1.097824</td>\n",
       "      <td>-4.774240</td>\n",
       "    </tr>\n",
       "    <tr>\n",
       "      <th>23</th>\n",
       "      <td>2000-01-24</td>\n",
       "      <td>-5.817025</td>\n",
       "      <td>5.707567</td>\n",
       "      <td>-1.980634</td>\n",
       "      <td>-4.970223</td>\n",
       "    </tr>\n",
       "    <tr>\n",
       "      <th>24</th>\n",
       "      <td>2000-01-25</td>\n",
       "      <td>-5.435675</td>\n",
       "      <td>6.357466</td>\n",
       "      <td>-0.170126</td>\n",
       "      <td>-4.135105</td>\n",
       "    </tr>\n",
       "    <tr>\n",
       "      <th>25</th>\n",
       "      <td>2000-01-26</td>\n",
       "      <td>-6.792031</td>\n",
       "      <td>8.822403</td>\n",
       "      <td>-0.880505</td>\n",
       "      <td>-4.899699</td>\n",
       "    </tr>\n",
       "    <tr>\n",
       "      <th>26</th>\n",
       "      <td>2000-01-27</td>\n",
       "      <td>-6.012302</td>\n",
       "      <td>9.965781</td>\n",
       "      <td>-0.549665</td>\n",
       "      <td>-4.824468</td>\n",
       "    </tr>\n",
       "    <tr>\n",
       "      <th>27</th>\n",
       "      <td>2000-01-28</td>\n",
       "      <td>-6.338180</td>\n",
       "      <td>11.402546</td>\n",
       "      <td>-1.535744</td>\n",
       "      <td>-2.923390</td>\n",
       "    </tr>\n",
       "    <tr>\n",
       "      <th>28</th>\n",
       "      <td>2000-01-29</td>\n",
       "      <td>-8.534729</td>\n",
       "      <td>9.461654</td>\n",
       "      <td>-1.705550</td>\n",
       "      <td>-2.576157</td>\n",
       "    </tr>\n",
       "    <tr>\n",
       "      <th>29</th>\n",
       "      <td>2000-01-30</td>\n",
       "      <td>-8.154170</td>\n",
       "      <td>8.512661</td>\n",
       "      <td>-1.744898</td>\n",
       "      <td>-2.863045</td>\n",
       "    </tr>\n",
       "    <tr>\n",
       "      <th>...</th>\n",
       "      <td>...</td>\n",
       "      <td>...</td>\n",
       "      <td>...</td>\n",
       "      <td>...</td>\n",
       "      <td>...</td>\n",
       "    </tr>\n",
       "    <tr>\n",
       "      <th>970</th>\n",
       "      <td>2002-08-28</td>\n",
       "      <td>-37.312428</td>\n",
       "      <td>-17.669292</td>\n",
       "      <td>32.693785</td>\n",
       "      <td>1.956192</td>\n",
       "    </tr>\n",
       "    <tr>\n",
       "      <th>971</th>\n",
       "      <td>2002-08-29</td>\n",
       "      <td>-38.660548</td>\n",
       "      <td>-16.623528</td>\n",
       "      <td>31.954532</td>\n",
       "      <td>0.039144</td>\n",
       "    </tr>\n",
       "    <tr>\n",
       "      <th>972</th>\n",
       "      <td>2002-08-30</td>\n",
       "      <td>-37.859148</td>\n",
       "      <td>-16.447845</td>\n",
       "      <td>30.889163</td>\n",
       "      <td>0.426037</td>\n",
       "    </tr>\n",
       "    <tr>\n",
       "      <th>973</th>\n",
       "      <td>2002-08-31</td>\n",
       "      <td>-38.544643</td>\n",
       "      <td>-17.614684</td>\n",
       "      <td>29.754764</td>\n",
       "      <td>-1.720592</td>\n",
       "    </tr>\n",
       "    <tr>\n",
       "      <th>974</th>\n",
       "      <td>2002-09-01</td>\n",
       "      <td>-38.923270</td>\n",
       "      <td>-18.460823</td>\n",
       "      <td>29.720977</td>\n",
       "      <td>-1.894796</td>\n",
       "    </tr>\n",
       "    <tr>\n",
       "      <th>975</th>\n",
       "      <td>2002-09-02</td>\n",
       "      <td>-38.171659</td>\n",
       "      <td>-19.282632</td>\n",
       "      <td>27.888627</td>\n",
       "      <td>-1.603401</td>\n",
       "    </tr>\n",
       "    <tr>\n",
       "      <th>976</th>\n",
       "      <td>2002-09-03</td>\n",
       "      <td>-39.330741</td>\n",
       "      <td>-18.216086</td>\n",
       "      <td>25.784331</td>\n",
       "      <td>0.662268</td>\n",
       "    </tr>\n",
       "    <tr>\n",
       "      <th>977</th>\n",
       "      <td>2002-09-04</td>\n",
       "      <td>-40.841786</td>\n",
       "      <td>-18.180827</td>\n",
       "      <td>25.151392</td>\n",
       "      <td>0.081521</td>\n",
       "    </tr>\n",
       "    <tr>\n",
       "      <th>978</th>\n",
       "      <td>2002-09-05</td>\n",
       "      <td>-41.574796</td>\n",
       "      <td>-18.115731</td>\n",
       "      <td>24.841515</td>\n",
       "      <td>-1.026985</td>\n",
       "    </tr>\n",
       "    <tr>\n",
       "      <th>979</th>\n",
       "      <td>2002-09-06</td>\n",
       "      <td>-42.385858</td>\n",
       "      <td>-16.700802</td>\n",
       "      <td>24.945718</td>\n",
       "      <td>-0.286383</td>\n",
       "    </tr>\n",
       "    <tr>\n",
       "      <th>980</th>\n",
       "      <td>2002-09-07</td>\n",
       "      <td>-43.168938</td>\n",
       "      <td>-16.269597</td>\n",
       "      <td>24.577835</td>\n",
       "      <td>-1.194216</td>\n",
       "    </tr>\n",
       "    <tr>\n",
       "      <th>981</th>\n",
       "      <td>2002-09-08</td>\n",
       "      <td>-43.994257</td>\n",
       "      <td>-14.952047</td>\n",
       "      <td>25.051739</td>\n",
       "      <td>-0.745591</td>\n",
       "    </tr>\n",
       "    <tr>\n",
       "      <th>982</th>\n",
       "      <td>2002-09-09</td>\n",
       "      <td>-43.273062</td>\n",
       "      <td>-18.994698</td>\n",
       "      <td>24.539529</td>\n",
       "      <td>0.150100</td>\n",
       "    </tr>\n",
       "    <tr>\n",
       "      <th>983</th>\n",
       "      <td>2002-09-10</td>\n",
       "      <td>-42.216648</td>\n",
       "      <td>-19.365513</td>\n",
       "      <td>23.840866</td>\n",
       "      <td>1.194599</td>\n",
       "    </tr>\n",
       "    <tr>\n",
       "      <th>984</th>\n",
       "      <td>2002-09-11</td>\n",
       "      <td>-42.069628</td>\n",
       "      <td>-18.863493</td>\n",
       "      <td>23.539121</td>\n",
       "      <td>2.194668</td>\n",
       "    </tr>\n",
       "    <tr>\n",
       "      <th>985</th>\n",
       "      <td>2002-09-12</td>\n",
       "      <td>-42.879626</td>\n",
       "      <td>-16.822971</td>\n",
       "      <td>23.672408</td>\n",
       "      <td>1.128478</td>\n",
       "    </tr>\n",
       "    <tr>\n",
       "      <th>986</th>\n",
       "      <td>2002-09-13</td>\n",
       "      <td>-42.375830</td>\n",
       "      <td>-16.096030</td>\n",
       "      <td>22.558662</td>\n",
       "      <td>2.174077</td>\n",
       "    </tr>\n",
       "    <tr>\n",
       "      <th>987</th>\n",
       "      <td>2002-09-14</td>\n",
       "      <td>-42.229936</td>\n",
       "      <td>-15.876708</td>\n",
       "      <td>21.939935</td>\n",
       "      <td>1.881036</td>\n",
       "    </tr>\n",
       "    <tr>\n",
       "      <th>988</th>\n",
       "      <td>2002-09-15</td>\n",
       "      <td>-44.361996</td>\n",
       "      <td>-16.220416</td>\n",
       "      <td>21.183091</td>\n",
       "      <td>1.296870</td>\n",
       "    </tr>\n",
       "    <tr>\n",
       "      <th>989</th>\n",
       "      <td>2002-09-16</td>\n",
       "      <td>-45.894084</td>\n",
       "      <td>-18.245939</td>\n",
       "      <td>21.148211</td>\n",
       "      <td>0.704770</td>\n",
       "    </tr>\n",
       "    <tr>\n",
       "      <th>990</th>\n",
       "      <td>2002-09-17</td>\n",
       "      <td>-47.715790</td>\n",
       "      <td>-16.988845</td>\n",
       "      <td>22.082652</td>\n",
       "      <td>-1.206762</td>\n",
       "    </tr>\n",
       "    <tr>\n",
       "      <th>991</th>\n",
       "      <td>2002-09-18</td>\n",
       "      <td>-48.100966</td>\n",
       "      <td>-16.308029</td>\n",
       "      <td>21.544103</td>\n",
       "      <td>-1.967656</td>\n",
       "    </tr>\n",
       "    <tr>\n",
       "      <th>992</th>\n",
       "      <td>2002-09-19</td>\n",
       "      <td>-47.591238</td>\n",
       "      <td>-15.904638</td>\n",
       "      <td>20.668142</td>\n",
       "      <td>-0.820974</td>\n",
       "    </tr>\n",
       "    <tr>\n",
       "      <th>993</th>\n",
       "      <td>2002-09-20</td>\n",
       "      <td>-46.867779</td>\n",
       "      <td>-18.142604</td>\n",
       "      <td>21.506226</td>\n",
       "      <td>-1.429329</td>\n",
       "    </tr>\n",
       "    <tr>\n",
       "      <th>994</th>\n",
       "      <td>2002-09-21</td>\n",
       "      <td>-48.433774</td>\n",
       "      <td>-19.704934</td>\n",
       "      <td>21.613198</td>\n",
       "      <td>-1.199527</td>\n",
       "    </tr>\n",
       "    <tr>\n",
       "      <th>995</th>\n",
       "      <td>2002-09-22</td>\n",
       "      <td>-49.201477</td>\n",
       "      <td>-18.805872</td>\n",
       "      <td>21.796534</td>\n",
       "      <td>-1.490492</td>\n",
       "    </tr>\n",
       "    <tr>\n",
       "      <th>996</th>\n",
       "      <td>2002-09-23</td>\n",
       "      <td>-49.433527</td>\n",
       "      <td>-19.049787</td>\n",
       "      <td>21.893649</td>\n",
       "      <td>-1.712500</td>\n",
       "    </tr>\n",
       "    <tr>\n",
       "      <th>997</th>\n",
       "      <td>2002-09-24</td>\n",
       "      <td>-49.144365</td>\n",
       "      <td>-19.518323</td>\n",
       "      <td>21.565253</td>\n",
       "      <td>-1.071375</td>\n",
       "    </tr>\n",
       "    <tr>\n",
       "      <th>998</th>\n",
       "      <td>2002-09-25</td>\n",
       "      <td>-48.732754</td>\n",
       "      <td>-19.188515</td>\n",
       "      <td>23.043666</td>\n",
       "      <td>0.088681</td>\n",
       "    </tr>\n",
       "    <tr>\n",
       "      <th>999</th>\n",
       "      <td>2002-09-26</td>\n",
       "      <td>-48.681689</td>\n",
       "      <td>-20.768889</td>\n",
       "      <td>22.541590</td>\n",
       "      <td>-1.138745</td>\n",
       "    </tr>\n",
       "  </tbody>\n",
       "</table>\n",
       "<p>1000 rows × 5 columns</p>\n",
       "</div>"
      ],
      "text/plain": [
       "     Unnamed: 0          A          B          C         D\n",
       "0    2000-01-01   0.632559  -0.821689  -0.166419 -0.930884\n",
       "1    2000-01-02   1.579156   1.235584  -0.663069 -2.529067\n",
       "2    2000-01-03   1.186064   2.001766  -0.368669 -3.598971\n",
       "3    2000-01-04   1.382983   3.771948  -0.905774 -3.756191\n",
       "4    2000-01-05  -0.078254   3.380191   0.926069 -3.920518\n",
       "5    2000-01-06   0.280778   3.121576   0.506064 -5.776975\n",
       "6    2000-01-07   2.174916   1.783593   0.935929 -5.984953\n",
       "7    2000-01-08   0.753718   2.911976  -0.346379 -5.349157\n",
       "8    2000-01-09   1.100042   4.935631  -0.456642 -5.634703\n",
       "9    2000-01-10   0.322629   5.133088   0.091005 -5.041011\n",
       "10   2000-01-11  -1.331503   6.158117  -1.757653 -5.014681\n",
       "11   2000-01-12  -3.130319   7.418974  -0.674001 -5.846941\n",
       "12   2000-01-13  -2.520046   8.543178  -0.448068 -6.155563\n",
       "13   2000-01-14  -1.555768   9.421255  -0.756024 -5.722608\n",
       "14   2000-01-15  -1.161941   9.959672  -1.393997 -6.351998\n",
       "15   2000-01-16  -2.411142  10.012806  -1.307292 -6.853659\n",
       "16   2000-01-17  -2.043999   9.604909  -2.474012 -6.533256\n",
       "17   2000-01-18  -3.317134   8.983744  -1.613025 -5.891072\n",
       "18   2000-01-19  -3.365097   8.231861  -2.147259 -5.471138\n",
       "19   2000-01-20  -3.302667   5.457668  -1.471085 -4.906522\n",
       "20   2000-01-21  -2.327524   4.488323  -1.317960 -4.611101\n",
       "21   2000-01-22  -3.256170   5.331515  -0.410978 -2.996595\n",
       "22   2000-01-23  -4.022053   4.673546  -1.097824 -4.774240\n",
       "23   2000-01-24  -5.817025   5.707567  -1.980634 -4.970223\n",
       "24   2000-01-25  -5.435675   6.357466  -0.170126 -4.135105\n",
       "25   2000-01-26  -6.792031   8.822403  -0.880505 -4.899699\n",
       "26   2000-01-27  -6.012302   9.965781  -0.549665 -4.824468\n",
       "27   2000-01-28  -6.338180  11.402546  -1.535744 -2.923390\n",
       "28   2000-01-29  -8.534729   9.461654  -1.705550 -2.576157\n",
       "29   2000-01-30  -8.154170   8.512661  -1.744898 -2.863045\n",
       "..          ...        ...        ...        ...       ...\n",
       "970  2002-08-28 -37.312428 -17.669292  32.693785  1.956192\n",
       "971  2002-08-29 -38.660548 -16.623528  31.954532  0.039144\n",
       "972  2002-08-30 -37.859148 -16.447845  30.889163  0.426037\n",
       "973  2002-08-31 -38.544643 -17.614684  29.754764 -1.720592\n",
       "974  2002-09-01 -38.923270 -18.460823  29.720977 -1.894796\n",
       "975  2002-09-02 -38.171659 -19.282632  27.888627 -1.603401\n",
       "976  2002-09-03 -39.330741 -18.216086  25.784331  0.662268\n",
       "977  2002-09-04 -40.841786 -18.180827  25.151392  0.081521\n",
       "978  2002-09-05 -41.574796 -18.115731  24.841515 -1.026985\n",
       "979  2002-09-06 -42.385858 -16.700802  24.945718 -0.286383\n",
       "980  2002-09-07 -43.168938 -16.269597  24.577835 -1.194216\n",
       "981  2002-09-08 -43.994257 -14.952047  25.051739 -0.745591\n",
       "982  2002-09-09 -43.273062 -18.994698  24.539529  0.150100\n",
       "983  2002-09-10 -42.216648 -19.365513  23.840866  1.194599\n",
       "984  2002-09-11 -42.069628 -18.863493  23.539121  2.194668\n",
       "985  2002-09-12 -42.879626 -16.822971  23.672408  1.128478\n",
       "986  2002-09-13 -42.375830 -16.096030  22.558662  2.174077\n",
       "987  2002-09-14 -42.229936 -15.876708  21.939935  1.881036\n",
       "988  2002-09-15 -44.361996 -16.220416  21.183091  1.296870\n",
       "989  2002-09-16 -45.894084 -18.245939  21.148211  0.704770\n",
       "990  2002-09-17 -47.715790 -16.988845  22.082652 -1.206762\n",
       "991  2002-09-18 -48.100966 -16.308029  21.544103 -1.967656\n",
       "992  2002-09-19 -47.591238 -15.904638  20.668142 -0.820974\n",
       "993  2002-09-20 -46.867779 -18.142604  21.506226 -1.429329\n",
       "994  2002-09-21 -48.433774 -19.704934  21.613198 -1.199527\n",
       "995  2002-09-22 -49.201477 -18.805872  21.796534 -1.490492\n",
       "996  2002-09-23 -49.433527 -19.049787  21.893649 -1.712500\n",
       "997  2002-09-24 -49.144365 -19.518323  21.565253 -1.071375\n",
       "998  2002-09-25 -48.732754 -19.188515  23.043666  0.088681\n",
       "999  2002-09-26 -48.681689 -20.768889  22.541590 -1.138745\n",
       "\n",
       "[1000 rows x 5 columns]"
      ]
     },
     "execution_count": 232,
     "metadata": {},
     "output_type": "execute_result"
    }
   ],
   "source": [
    "pd.read_csv('foo.csv')"
   ]
  },
  {
   "cell_type": "markdown",
   "metadata": {},
   "source": [
    "### HDF5"
   ]
  },
  {
   "cell_type": "code",
   "execution_count": 233,
   "metadata": {
    "collapsed": true
   },
   "outputs": [],
   "source": [
    "df.to_hdf('foo.h5','df')"
   ]
  },
  {
   "cell_type": "code",
   "execution_count": 234,
   "metadata": {
    "collapsed": false
   },
   "outputs": [
    {
     "data": {
      "text/html": [
       "<div>\n",
       "<table border=\"1\" class=\"dataframe\">\n",
       "  <thead>\n",
       "    <tr style=\"text-align: right;\">\n",
       "      <th></th>\n",
       "      <th>A</th>\n",
       "      <th>B</th>\n",
       "      <th>C</th>\n",
       "      <th>D</th>\n",
       "    </tr>\n",
       "  </thead>\n",
       "  <tbody>\n",
       "    <tr>\n",
       "      <th>2000-01-01</th>\n",
       "      <td>0.632559</td>\n",
       "      <td>-0.821689</td>\n",
       "      <td>-0.166419</td>\n",
       "      <td>-0.930884</td>\n",
       "    </tr>\n",
       "    <tr>\n",
       "      <th>2000-01-02</th>\n",
       "      <td>1.579156</td>\n",
       "      <td>1.235584</td>\n",
       "      <td>-0.663069</td>\n",
       "      <td>-2.529067</td>\n",
       "    </tr>\n",
       "    <tr>\n",
       "      <th>2000-01-03</th>\n",
       "      <td>1.186064</td>\n",
       "      <td>2.001766</td>\n",
       "      <td>-0.368669</td>\n",
       "      <td>-3.598971</td>\n",
       "    </tr>\n",
       "    <tr>\n",
       "      <th>2000-01-04</th>\n",
       "      <td>1.382983</td>\n",
       "      <td>3.771948</td>\n",
       "      <td>-0.905774</td>\n",
       "      <td>-3.756191</td>\n",
       "    </tr>\n",
       "    <tr>\n",
       "      <th>2000-01-05</th>\n",
       "      <td>-0.078254</td>\n",
       "      <td>3.380191</td>\n",
       "      <td>0.926069</td>\n",
       "      <td>-3.920518</td>\n",
       "    </tr>\n",
       "    <tr>\n",
       "      <th>2000-01-06</th>\n",
       "      <td>0.280778</td>\n",
       "      <td>3.121576</td>\n",
       "      <td>0.506064</td>\n",
       "      <td>-5.776975</td>\n",
       "    </tr>\n",
       "    <tr>\n",
       "      <th>2000-01-07</th>\n",
       "      <td>2.174916</td>\n",
       "      <td>1.783593</td>\n",
       "      <td>0.935929</td>\n",
       "      <td>-5.984953</td>\n",
       "    </tr>\n",
       "    <tr>\n",
       "      <th>2000-01-08</th>\n",
       "      <td>0.753718</td>\n",
       "      <td>2.911976</td>\n",
       "      <td>-0.346379</td>\n",
       "      <td>-5.349157</td>\n",
       "    </tr>\n",
       "    <tr>\n",
       "      <th>2000-01-09</th>\n",
       "      <td>1.100042</td>\n",
       "      <td>4.935631</td>\n",
       "      <td>-0.456642</td>\n",
       "      <td>-5.634703</td>\n",
       "    </tr>\n",
       "    <tr>\n",
       "      <th>2000-01-10</th>\n",
       "      <td>0.322629</td>\n",
       "      <td>5.133088</td>\n",
       "      <td>0.091005</td>\n",
       "      <td>-5.041011</td>\n",
       "    </tr>\n",
       "    <tr>\n",
       "      <th>2000-01-11</th>\n",
       "      <td>-1.331503</td>\n",
       "      <td>6.158117</td>\n",
       "      <td>-1.757653</td>\n",
       "      <td>-5.014681</td>\n",
       "    </tr>\n",
       "    <tr>\n",
       "      <th>2000-01-12</th>\n",
       "      <td>-3.130319</td>\n",
       "      <td>7.418974</td>\n",
       "      <td>-0.674001</td>\n",
       "      <td>-5.846941</td>\n",
       "    </tr>\n",
       "    <tr>\n",
       "      <th>2000-01-13</th>\n",
       "      <td>-2.520046</td>\n",
       "      <td>8.543178</td>\n",
       "      <td>-0.448068</td>\n",
       "      <td>-6.155563</td>\n",
       "    </tr>\n",
       "    <tr>\n",
       "      <th>2000-01-14</th>\n",
       "      <td>-1.555768</td>\n",
       "      <td>9.421255</td>\n",
       "      <td>-0.756024</td>\n",
       "      <td>-5.722608</td>\n",
       "    </tr>\n",
       "    <tr>\n",
       "      <th>2000-01-15</th>\n",
       "      <td>-1.161941</td>\n",
       "      <td>9.959672</td>\n",
       "      <td>-1.393997</td>\n",
       "      <td>-6.351998</td>\n",
       "    </tr>\n",
       "    <tr>\n",
       "      <th>2000-01-16</th>\n",
       "      <td>-2.411142</td>\n",
       "      <td>10.012806</td>\n",
       "      <td>-1.307292</td>\n",
       "      <td>-6.853659</td>\n",
       "    </tr>\n",
       "    <tr>\n",
       "      <th>2000-01-17</th>\n",
       "      <td>-2.043999</td>\n",
       "      <td>9.604909</td>\n",
       "      <td>-2.474012</td>\n",
       "      <td>-6.533256</td>\n",
       "    </tr>\n",
       "    <tr>\n",
       "      <th>2000-01-18</th>\n",
       "      <td>-3.317134</td>\n",
       "      <td>8.983744</td>\n",
       "      <td>-1.613025</td>\n",
       "      <td>-5.891072</td>\n",
       "    </tr>\n",
       "    <tr>\n",
       "      <th>2000-01-19</th>\n",
       "      <td>-3.365097</td>\n",
       "      <td>8.231861</td>\n",
       "      <td>-2.147259</td>\n",
       "      <td>-5.471138</td>\n",
       "    </tr>\n",
       "    <tr>\n",
       "      <th>2000-01-20</th>\n",
       "      <td>-3.302667</td>\n",
       "      <td>5.457668</td>\n",
       "      <td>-1.471085</td>\n",
       "      <td>-4.906522</td>\n",
       "    </tr>\n",
       "    <tr>\n",
       "      <th>2000-01-21</th>\n",
       "      <td>-2.327524</td>\n",
       "      <td>4.488323</td>\n",
       "      <td>-1.317960</td>\n",
       "      <td>-4.611101</td>\n",
       "    </tr>\n",
       "    <tr>\n",
       "      <th>2000-01-22</th>\n",
       "      <td>-3.256170</td>\n",
       "      <td>5.331515</td>\n",
       "      <td>-0.410978</td>\n",
       "      <td>-2.996595</td>\n",
       "    </tr>\n",
       "    <tr>\n",
       "      <th>2000-01-23</th>\n",
       "      <td>-4.022053</td>\n",
       "      <td>4.673546</td>\n",
       "      <td>-1.097824</td>\n",
       "      <td>-4.774240</td>\n",
       "    </tr>\n",
       "    <tr>\n",
       "      <th>2000-01-24</th>\n",
       "      <td>-5.817025</td>\n",
       "      <td>5.707567</td>\n",
       "      <td>-1.980634</td>\n",
       "      <td>-4.970223</td>\n",
       "    </tr>\n",
       "    <tr>\n",
       "      <th>2000-01-25</th>\n",
       "      <td>-5.435675</td>\n",
       "      <td>6.357466</td>\n",
       "      <td>-0.170126</td>\n",
       "      <td>-4.135105</td>\n",
       "    </tr>\n",
       "    <tr>\n",
       "      <th>2000-01-26</th>\n",
       "      <td>-6.792031</td>\n",
       "      <td>8.822403</td>\n",
       "      <td>-0.880505</td>\n",
       "      <td>-4.899699</td>\n",
       "    </tr>\n",
       "    <tr>\n",
       "      <th>2000-01-27</th>\n",
       "      <td>-6.012302</td>\n",
       "      <td>9.965781</td>\n",
       "      <td>-0.549665</td>\n",
       "      <td>-4.824468</td>\n",
       "    </tr>\n",
       "    <tr>\n",
       "      <th>2000-01-28</th>\n",
       "      <td>-6.338180</td>\n",
       "      <td>11.402546</td>\n",
       "      <td>-1.535744</td>\n",
       "      <td>-2.923390</td>\n",
       "    </tr>\n",
       "    <tr>\n",
       "      <th>2000-01-29</th>\n",
       "      <td>-8.534729</td>\n",
       "      <td>9.461654</td>\n",
       "      <td>-1.705550</td>\n",
       "      <td>-2.576157</td>\n",
       "    </tr>\n",
       "    <tr>\n",
       "      <th>2000-01-30</th>\n",
       "      <td>-8.154170</td>\n",
       "      <td>8.512661</td>\n",
       "      <td>-1.744898</td>\n",
       "      <td>-2.863045</td>\n",
       "    </tr>\n",
       "    <tr>\n",
       "      <th>...</th>\n",
       "      <td>...</td>\n",
       "      <td>...</td>\n",
       "      <td>...</td>\n",
       "      <td>...</td>\n",
       "    </tr>\n",
       "    <tr>\n",
       "      <th>2002-08-28</th>\n",
       "      <td>-37.312428</td>\n",
       "      <td>-17.669292</td>\n",
       "      <td>32.693785</td>\n",
       "      <td>1.956192</td>\n",
       "    </tr>\n",
       "    <tr>\n",
       "      <th>2002-08-29</th>\n",
       "      <td>-38.660548</td>\n",
       "      <td>-16.623528</td>\n",
       "      <td>31.954532</td>\n",
       "      <td>0.039144</td>\n",
       "    </tr>\n",
       "    <tr>\n",
       "      <th>2002-08-30</th>\n",
       "      <td>-37.859148</td>\n",
       "      <td>-16.447845</td>\n",
       "      <td>30.889163</td>\n",
       "      <td>0.426037</td>\n",
       "    </tr>\n",
       "    <tr>\n",
       "      <th>2002-08-31</th>\n",
       "      <td>-38.544643</td>\n",
       "      <td>-17.614684</td>\n",
       "      <td>29.754764</td>\n",
       "      <td>-1.720592</td>\n",
       "    </tr>\n",
       "    <tr>\n",
       "      <th>2002-09-01</th>\n",
       "      <td>-38.923270</td>\n",
       "      <td>-18.460823</td>\n",
       "      <td>29.720977</td>\n",
       "      <td>-1.894796</td>\n",
       "    </tr>\n",
       "    <tr>\n",
       "      <th>2002-09-02</th>\n",
       "      <td>-38.171659</td>\n",
       "      <td>-19.282632</td>\n",
       "      <td>27.888627</td>\n",
       "      <td>-1.603401</td>\n",
       "    </tr>\n",
       "    <tr>\n",
       "      <th>2002-09-03</th>\n",
       "      <td>-39.330741</td>\n",
       "      <td>-18.216086</td>\n",
       "      <td>25.784331</td>\n",
       "      <td>0.662268</td>\n",
       "    </tr>\n",
       "    <tr>\n",
       "      <th>2002-09-04</th>\n",
       "      <td>-40.841786</td>\n",
       "      <td>-18.180827</td>\n",
       "      <td>25.151392</td>\n",
       "      <td>0.081521</td>\n",
       "    </tr>\n",
       "    <tr>\n",
       "      <th>2002-09-05</th>\n",
       "      <td>-41.574796</td>\n",
       "      <td>-18.115731</td>\n",
       "      <td>24.841515</td>\n",
       "      <td>-1.026985</td>\n",
       "    </tr>\n",
       "    <tr>\n",
       "      <th>2002-09-06</th>\n",
       "      <td>-42.385858</td>\n",
       "      <td>-16.700802</td>\n",
       "      <td>24.945718</td>\n",
       "      <td>-0.286383</td>\n",
       "    </tr>\n",
       "    <tr>\n",
       "      <th>2002-09-07</th>\n",
       "      <td>-43.168938</td>\n",
       "      <td>-16.269597</td>\n",
       "      <td>24.577835</td>\n",
       "      <td>-1.194216</td>\n",
       "    </tr>\n",
       "    <tr>\n",
       "      <th>2002-09-08</th>\n",
       "      <td>-43.994257</td>\n",
       "      <td>-14.952047</td>\n",
       "      <td>25.051739</td>\n",
       "      <td>-0.745591</td>\n",
       "    </tr>\n",
       "    <tr>\n",
       "      <th>2002-09-09</th>\n",
       "      <td>-43.273062</td>\n",
       "      <td>-18.994698</td>\n",
       "      <td>24.539529</td>\n",
       "      <td>0.150100</td>\n",
       "    </tr>\n",
       "    <tr>\n",
       "      <th>2002-09-10</th>\n",
       "      <td>-42.216648</td>\n",
       "      <td>-19.365513</td>\n",
       "      <td>23.840866</td>\n",
       "      <td>1.194599</td>\n",
       "    </tr>\n",
       "    <tr>\n",
       "      <th>2002-09-11</th>\n",
       "      <td>-42.069628</td>\n",
       "      <td>-18.863493</td>\n",
       "      <td>23.539121</td>\n",
       "      <td>2.194668</td>\n",
       "    </tr>\n",
       "    <tr>\n",
       "      <th>2002-09-12</th>\n",
       "      <td>-42.879626</td>\n",
       "      <td>-16.822971</td>\n",
       "      <td>23.672408</td>\n",
       "      <td>1.128478</td>\n",
       "    </tr>\n",
       "    <tr>\n",
       "      <th>2002-09-13</th>\n",
       "      <td>-42.375830</td>\n",
       "      <td>-16.096030</td>\n",
       "      <td>22.558662</td>\n",
       "      <td>2.174077</td>\n",
       "    </tr>\n",
       "    <tr>\n",
       "      <th>2002-09-14</th>\n",
       "      <td>-42.229936</td>\n",
       "      <td>-15.876708</td>\n",
       "      <td>21.939935</td>\n",
       "      <td>1.881036</td>\n",
       "    </tr>\n",
       "    <tr>\n",
       "      <th>2002-09-15</th>\n",
       "      <td>-44.361996</td>\n",
       "      <td>-16.220416</td>\n",
       "      <td>21.183091</td>\n",
       "      <td>1.296870</td>\n",
       "    </tr>\n",
       "    <tr>\n",
       "      <th>2002-09-16</th>\n",
       "      <td>-45.894084</td>\n",
       "      <td>-18.245939</td>\n",
       "      <td>21.148211</td>\n",
       "      <td>0.704770</td>\n",
       "    </tr>\n",
       "    <tr>\n",
       "      <th>2002-09-17</th>\n",
       "      <td>-47.715790</td>\n",
       "      <td>-16.988845</td>\n",
       "      <td>22.082652</td>\n",
       "      <td>-1.206762</td>\n",
       "    </tr>\n",
       "    <tr>\n",
       "      <th>2002-09-18</th>\n",
       "      <td>-48.100966</td>\n",
       "      <td>-16.308029</td>\n",
       "      <td>21.544103</td>\n",
       "      <td>-1.967656</td>\n",
       "    </tr>\n",
       "    <tr>\n",
       "      <th>2002-09-19</th>\n",
       "      <td>-47.591238</td>\n",
       "      <td>-15.904638</td>\n",
       "      <td>20.668142</td>\n",
       "      <td>-0.820974</td>\n",
       "    </tr>\n",
       "    <tr>\n",
       "      <th>2002-09-20</th>\n",
       "      <td>-46.867779</td>\n",
       "      <td>-18.142604</td>\n",
       "      <td>21.506226</td>\n",
       "      <td>-1.429329</td>\n",
       "    </tr>\n",
       "    <tr>\n",
       "      <th>2002-09-21</th>\n",
       "      <td>-48.433774</td>\n",
       "      <td>-19.704934</td>\n",
       "      <td>21.613198</td>\n",
       "      <td>-1.199527</td>\n",
       "    </tr>\n",
       "    <tr>\n",
       "      <th>2002-09-22</th>\n",
       "      <td>-49.201477</td>\n",
       "      <td>-18.805872</td>\n",
       "      <td>21.796534</td>\n",
       "      <td>-1.490492</td>\n",
       "    </tr>\n",
       "    <tr>\n",
       "      <th>2002-09-23</th>\n",
       "      <td>-49.433527</td>\n",
       "      <td>-19.049787</td>\n",
       "      <td>21.893649</td>\n",
       "      <td>-1.712500</td>\n",
       "    </tr>\n",
       "    <tr>\n",
       "      <th>2002-09-24</th>\n",
       "      <td>-49.144365</td>\n",
       "      <td>-19.518323</td>\n",
       "      <td>21.565253</td>\n",
       "      <td>-1.071375</td>\n",
       "    </tr>\n",
       "    <tr>\n",
       "      <th>2002-09-25</th>\n",
       "      <td>-48.732754</td>\n",
       "      <td>-19.188515</td>\n",
       "      <td>23.043666</td>\n",
       "      <td>0.088681</td>\n",
       "    </tr>\n",
       "    <tr>\n",
       "      <th>2002-09-26</th>\n",
       "      <td>-48.681689</td>\n",
       "      <td>-20.768889</td>\n",
       "      <td>22.541590</td>\n",
       "      <td>-1.138745</td>\n",
       "    </tr>\n",
       "  </tbody>\n",
       "</table>\n",
       "<p>1000 rows × 4 columns</p>\n",
       "</div>"
      ],
      "text/plain": [
       "                    A          B          C         D\n",
       "2000-01-01   0.632559  -0.821689  -0.166419 -0.930884\n",
       "2000-01-02   1.579156   1.235584  -0.663069 -2.529067\n",
       "2000-01-03   1.186064   2.001766  -0.368669 -3.598971\n",
       "2000-01-04   1.382983   3.771948  -0.905774 -3.756191\n",
       "2000-01-05  -0.078254   3.380191   0.926069 -3.920518\n",
       "2000-01-06   0.280778   3.121576   0.506064 -5.776975\n",
       "2000-01-07   2.174916   1.783593   0.935929 -5.984953\n",
       "2000-01-08   0.753718   2.911976  -0.346379 -5.349157\n",
       "2000-01-09   1.100042   4.935631  -0.456642 -5.634703\n",
       "2000-01-10   0.322629   5.133088   0.091005 -5.041011\n",
       "2000-01-11  -1.331503   6.158117  -1.757653 -5.014681\n",
       "2000-01-12  -3.130319   7.418974  -0.674001 -5.846941\n",
       "2000-01-13  -2.520046   8.543178  -0.448068 -6.155563\n",
       "2000-01-14  -1.555768   9.421255  -0.756024 -5.722608\n",
       "2000-01-15  -1.161941   9.959672  -1.393997 -6.351998\n",
       "2000-01-16  -2.411142  10.012806  -1.307292 -6.853659\n",
       "2000-01-17  -2.043999   9.604909  -2.474012 -6.533256\n",
       "2000-01-18  -3.317134   8.983744  -1.613025 -5.891072\n",
       "2000-01-19  -3.365097   8.231861  -2.147259 -5.471138\n",
       "2000-01-20  -3.302667   5.457668  -1.471085 -4.906522\n",
       "2000-01-21  -2.327524   4.488323  -1.317960 -4.611101\n",
       "2000-01-22  -3.256170   5.331515  -0.410978 -2.996595\n",
       "2000-01-23  -4.022053   4.673546  -1.097824 -4.774240\n",
       "2000-01-24  -5.817025   5.707567  -1.980634 -4.970223\n",
       "2000-01-25  -5.435675   6.357466  -0.170126 -4.135105\n",
       "2000-01-26  -6.792031   8.822403  -0.880505 -4.899699\n",
       "2000-01-27  -6.012302   9.965781  -0.549665 -4.824468\n",
       "2000-01-28  -6.338180  11.402546  -1.535744 -2.923390\n",
       "2000-01-29  -8.534729   9.461654  -1.705550 -2.576157\n",
       "2000-01-30  -8.154170   8.512661  -1.744898 -2.863045\n",
       "...               ...        ...        ...       ...\n",
       "2002-08-28 -37.312428 -17.669292  32.693785  1.956192\n",
       "2002-08-29 -38.660548 -16.623528  31.954532  0.039144\n",
       "2002-08-30 -37.859148 -16.447845  30.889163  0.426037\n",
       "2002-08-31 -38.544643 -17.614684  29.754764 -1.720592\n",
       "2002-09-01 -38.923270 -18.460823  29.720977 -1.894796\n",
       "2002-09-02 -38.171659 -19.282632  27.888627 -1.603401\n",
       "2002-09-03 -39.330741 -18.216086  25.784331  0.662268\n",
       "2002-09-04 -40.841786 -18.180827  25.151392  0.081521\n",
       "2002-09-05 -41.574796 -18.115731  24.841515 -1.026985\n",
       "2002-09-06 -42.385858 -16.700802  24.945718 -0.286383\n",
       "2002-09-07 -43.168938 -16.269597  24.577835 -1.194216\n",
       "2002-09-08 -43.994257 -14.952047  25.051739 -0.745591\n",
       "2002-09-09 -43.273062 -18.994698  24.539529  0.150100\n",
       "2002-09-10 -42.216648 -19.365513  23.840866  1.194599\n",
       "2002-09-11 -42.069628 -18.863493  23.539121  2.194668\n",
       "2002-09-12 -42.879626 -16.822971  23.672408  1.128478\n",
       "2002-09-13 -42.375830 -16.096030  22.558662  2.174077\n",
       "2002-09-14 -42.229936 -15.876708  21.939935  1.881036\n",
       "2002-09-15 -44.361996 -16.220416  21.183091  1.296870\n",
       "2002-09-16 -45.894084 -18.245939  21.148211  0.704770\n",
       "2002-09-17 -47.715790 -16.988845  22.082652 -1.206762\n",
       "2002-09-18 -48.100966 -16.308029  21.544103 -1.967656\n",
       "2002-09-19 -47.591238 -15.904638  20.668142 -0.820974\n",
       "2002-09-20 -46.867779 -18.142604  21.506226 -1.429329\n",
       "2002-09-21 -48.433774 -19.704934  21.613198 -1.199527\n",
       "2002-09-22 -49.201477 -18.805872  21.796534 -1.490492\n",
       "2002-09-23 -49.433527 -19.049787  21.893649 -1.712500\n",
       "2002-09-24 -49.144365 -19.518323  21.565253 -1.071375\n",
       "2002-09-25 -48.732754 -19.188515  23.043666  0.088681\n",
       "2002-09-26 -48.681689 -20.768889  22.541590 -1.138745\n",
       "\n",
       "[1000 rows x 4 columns]"
      ]
     },
     "execution_count": 234,
     "metadata": {},
     "output_type": "execute_result"
    }
   ],
   "source": [
    "pd.read_hdf('foo.h5','df')"
   ]
  },
  {
   "cell_type": "markdown",
   "metadata": {},
   "source": [
    "### Excel"
   ]
  },
  {
   "cell_type": "code",
   "execution_count": 235,
   "metadata": {
    "collapsed": true
   },
   "outputs": [],
   "source": [
    "df.to_excel('foo.xlsx', sheet_name='Sheet1')"
   ]
  },
  {
   "cell_type": "code",
   "execution_count": 236,
   "metadata": {
    "collapsed": false
   },
   "outputs": [
    {
     "data": {
      "text/html": [
       "<div>\n",
       "<table border=\"1\" class=\"dataframe\">\n",
       "  <thead>\n",
       "    <tr style=\"text-align: right;\">\n",
       "      <th></th>\n",
       "      <th>A</th>\n",
       "      <th>B</th>\n",
       "      <th>C</th>\n",
       "      <th>D</th>\n",
       "    </tr>\n",
       "  </thead>\n",
       "  <tbody>\n",
       "    <tr>\n",
       "      <th>2000-01-01</th>\n",
       "      <td>0.632559</td>\n",
       "      <td>-0.821689</td>\n",
       "      <td>-0.166419</td>\n",
       "      <td>-0.930884</td>\n",
       "    </tr>\n",
       "    <tr>\n",
       "      <th>2000-01-02</th>\n",
       "      <td>1.579156</td>\n",
       "      <td>1.235584</td>\n",
       "      <td>-0.663069</td>\n",
       "      <td>-2.529067</td>\n",
       "    </tr>\n",
       "    <tr>\n",
       "      <th>2000-01-03</th>\n",
       "      <td>1.186064</td>\n",
       "      <td>2.001766</td>\n",
       "      <td>-0.368669</td>\n",
       "      <td>-3.598971</td>\n",
       "    </tr>\n",
       "    <tr>\n",
       "      <th>2000-01-04</th>\n",
       "      <td>1.382983</td>\n",
       "      <td>3.771948</td>\n",
       "      <td>-0.905774</td>\n",
       "      <td>-3.756191</td>\n",
       "    </tr>\n",
       "    <tr>\n",
       "      <th>2000-01-05</th>\n",
       "      <td>-0.078254</td>\n",
       "      <td>3.380191</td>\n",
       "      <td>0.926069</td>\n",
       "      <td>-3.920518</td>\n",
       "    </tr>\n",
       "    <tr>\n",
       "      <th>2000-01-06</th>\n",
       "      <td>0.280778</td>\n",
       "      <td>3.121576</td>\n",
       "      <td>0.506064</td>\n",
       "      <td>-5.776975</td>\n",
       "    </tr>\n",
       "    <tr>\n",
       "      <th>2000-01-07</th>\n",
       "      <td>2.174916</td>\n",
       "      <td>1.783593</td>\n",
       "      <td>0.935929</td>\n",
       "      <td>-5.984953</td>\n",
       "    </tr>\n",
       "    <tr>\n",
       "      <th>2000-01-08</th>\n",
       "      <td>0.753718</td>\n",
       "      <td>2.911976</td>\n",
       "      <td>-0.346379</td>\n",
       "      <td>-5.349157</td>\n",
       "    </tr>\n",
       "    <tr>\n",
       "      <th>2000-01-09</th>\n",
       "      <td>1.100042</td>\n",
       "      <td>4.935631</td>\n",
       "      <td>-0.456642</td>\n",
       "      <td>-5.634703</td>\n",
       "    </tr>\n",
       "    <tr>\n",
       "      <th>2000-01-10</th>\n",
       "      <td>0.322629</td>\n",
       "      <td>5.133088</td>\n",
       "      <td>0.091005</td>\n",
       "      <td>-5.041011</td>\n",
       "    </tr>\n",
       "    <tr>\n",
       "      <th>2000-01-11</th>\n",
       "      <td>-1.331503</td>\n",
       "      <td>6.158117</td>\n",
       "      <td>-1.757653</td>\n",
       "      <td>-5.014681</td>\n",
       "    </tr>\n",
       "    <tr>\n",
       "      <th>2000-01-12</th>\n",
       "      <td>-3.130319</td>\n",
       "      <td>7.418974</td>\n",
       "      <td>-0.674001</td>\n",
       "      <td>-5.846941</td>\n",
       "    </tr>\n",
       "    <tr>\n",
       "      <th>2000-01-13</th>\n",
       "      <td>-2.520046</td>\n",
       "      <td>8.543178</td>\n",
       "      <td>-0.448068</td>\n",
       "      <td>-6.155563</td>\n",
       "    </tr>\n",
       "    <tr>\n",
       "      <th>2000-01-14</th>\n",
       "      <td>-1.555768</td>\n",
       "      <td>9.421255</td>\n",
       "      <td>-0.756024</td>\n",
       "      <td>-5.722608</td>\n",
       "    </tr>\n",
       "    <tr>\n",
       "      <th>2000-01-15</th>\n",
       "      <td>-1.161941</td>\n",
       "      <td>9.959672</td>\n",
       "      <td>-1.393997</td>\n",
       "      <td>-6.351998</td>\n",
       "    </tr>\n",
       "    <tr>\n",
       "      <th>2000-01-16</th>\n",
       "      <td>-2.411142</td>\n",
       "      <td>10.012806</td>\n",
       "      <td>-1.307292</td>\n",
       "      <td>-6.853659</td>\n",
       "    </tr>\n",
       "    <tr>\n",
       "      <th>2000-01-17</th>\n",
       "      <td>-2.043999</td>\n",
       "      <td>9.604909</td>\n",
       "      <td>-2.474012</td>\n",
       "      <td>-6.533256</td>\n",
       "    </tr>\n",
       "    <tr>\n",
       "      <th>2000-01-18</th>\n",
       "      <td>-3.317134</td>\n",
       "      <td>8.983744</td>\n",
       "      <td>-1.613025</td>\n",
       "      <td>-5.891072</td>\n",
       "    </tr>\n",
       "    <tr>\n",
       "      <th>2000-01-19</th>\n",
       "      <td>-3.365097</td>\n",
       "      <td>8.231861</td>\n",
       "      <td>-2.147259</td>\n",
       "      <td>-5.471138</td>\n",
       "    </tr>\n",
       "    <tr>\n",
       "      <th>2000-01-20</th>\n",
       "      <td>-3.302667</td>\n",
       "      <td>5.457668</td>\n",
       "      <td>-1.471085</td>\n",
       "      <td>-4.906522</td>\n",
       "    </tr>\n",
       "    <tr>\n",
       "      <th>2000-01-21</th>\n",
       "      <td>-2.327524</td>\n",
       "      <td>4.488323</td>\n",
       "      <td>-1.317960</td>\n",
       "      <td>-4.611101</td>\n",
       "    </tr>\n",
       "    <tr>\n",
       "      <th>2000-01-22</th>\n",
       "      <td>-3.256170</td>\n",
       "      <td>5.331515</td>\n",
       "      <td>-0.410978</td>\n",
       "      <td>-2.996595</td>\n",
       "    </tr>\n",
       "    <tr>\n",
       "      <th>2000-01-23</th>\n",
       "      <td>-4.022053</td>\n",
       "      <td>4.673546</td>\n",
       "      <td>-1.097824</td>\n",
       "      <td>-4.774240</td>\n",
       "    </tr>\n",
       "    <tr>\n",
       "      <th>2000-01-24</th>\n",
       "      <td>-5.817025</td>\n",
       "      <td>5.707567</td>\n",
       "      <td>-1.980634</td>\n",
       "      <td>-4.970223</td>\n",
       "    </tr>\n",
       "    <tr>\n",
       "      <th>2000-01-25</th>\n",
       "      <td>-5.435675</td>\n",
       "      <td>6.357466</td>\n",
       "      <td>-0.170126</td>\n",
       "      <td>-4.135105</td>\n",
       "    </tr>\n",
       "    <tr>\n",
       "      <th>2000-01-26</th>\n",
       "      <td>-6.792031</td>\n",
       "      <td>8.822403</td>\n",
       "      <td>-0.880505</td>\n",
       "      <td>-4.899699</td>\n",
       "    </tr>\n",
       "    <tr>\n",
       "      <th>2000-01-27</th>\n",
       "      <td>-6.012302</td>\n",
       "      <td>9.965781</td>\n",
       "      <td>-0.549665</td>\n",
       "      <td>-4.824468</td>\n",
       "    </tr>\n",
       "    <tr>\n",
       "      <th>2000-01-28</th>\n",
       "      <td>-6.338180</td>\n",
       "      <td>11.402546</td>\n",
       "      <td>-1.535744</td>\n",
       "      <td>-2.923390</td>\n",
       "    </tr>\n",
       "    <tr>\n",
       "      <th>2000-01-29</th>\n",
       "      <td>-8.534729</td>\n",
       "      <td>9.461654</td>\n",
       "      <td>-1.705550</td>\n",
       "      <td>-2.576157</td>\n",
       "    </tr>\n",
       "    <tr>\n",
       "      <th>2000-01-30</th>\n",
       "      <td>-8.154170</td>\n",
       "      <td>8.512661</td>\n",
       "      <td>-1.744898</td>\n",
       "      <td>-2.863045</td>\n",
       "    </tr>\n",
       "    <tr>\n",
       "      <th>...</th>\n",
       "      <td>...</td>\n",
       "      <td>...</td>\n",
       "      <td>...</td>\n",
       "      <td>...</td>\n",
       "    </tr>\n",
       "    <tr>\n",
       "      <th>2002-08-28</th>\n",
       "      <td>-37.312428</td>\n",
       "      <td>-17.669292</td>\n",
       "      <td>32.693785</td>\n",
       "      <td>1.956192</td>\n",
       "    </tr>\n",
       "    <tr>\n",
       "      <th>2002-08-29</th>\n",
       "      <td>-38.660548</td>\n",
       "      <td>-16.623528</td>\n",
       "      <td>31.954532</td>\n",
       "      <td>0.039144</td>\n",
       "    </tr>\n",
       "    <tr>\n",
       "      <th>2002-08-30</th>\n",
       "      <td>-37.859148</td>\n",
       "      <td>-16.447845</td>\n",
       "      <td>30.889163</td>\n",
       "      <td>0.426037</td>\n",
       "    </tr>\n",
       "    <tr>\n",
       "      <th>2002-08-31</th>\n",
       "      <td>-38.544643</td>\n",
       "      <td>-17.614684</td>\n",
       "      <td>29.754764</td>\n",
       "      <td>-1.720592</td>\n",
       "    </tr>\n",
       "    <tr>\n",
       "      <th>2002-09-01</th>\n",
       "      <td>-38.923270</td>\n",
       "      <td>-18.460823</td>\n",
       "      <td>29.720977</td>\n",
       "      <td>-1.894796</td>\n",
       "    </tr>\n",
       "    <tr>\n",
       "      <th>2002-09-02</th>\n",
       "      <td>-38.171659</td>\n",
       "      <td>-19.282632</td>\n",
       "      <td>27.888627</td>\n",
       "      <td>-1.603401</td>\n",
       "    </tr>\n",
       "    <tr>\n",
       "      <th>2002-09-03</th>\n",
       "      <td>-39.330741</td>\n",
       "      <td>-18.216086</td>\n",
       "      <td>25.784331</td>\n",
       "      <td>0.662268</td>\n",
       "    </tr>\n",
       "    <tr>\n",
       "      <th>2002-09-04</th>\n",
       "      <td>-40.841786</td>\n",
       "      <td>-18.180827</td>\n",
       "      <td>25.151392</td>\n",
       "      <td>0.081521</td>\n",
       "    </tr>\n",
       "    <tr>\n",
       "      <th>2002-09-05</th>\n",
       "      <td>-41.574796</td>\n",
       "      <td>-18.115731</td>\n",
       "      <td>24.841515</td>\n",
       "      <td>-1.026985</td>\n",
       "    </tr>\n",
       "    <tr>\n",
       "      <th>2002-09-06</th>\n",
       "      <td>-42.385858</td>\n",
       "      <td>-16.700802</td>\n",
       "      <td>24.945718</td>\n",
       "      <td>-0.286383</td>\n",
       "    </tr>\n",
       "    <tr>\n",
       "      <th>2002-09-07</th>\n",
       "      <td>-43.168938</td>\n",
       "      <td>-16.269597</td>\n",
       "      <td>24.577835</td>\n",
       "      <td>-1.194216</td>\n",
       "    </tr>\n",
       "    <tr>\n",
       "      <th>2002-09-08</th>\n",
       "      <td>-43.994257</td>\n",
       "      <td>-14.952047</td>\n",
       "      <td>25.051739</td>\n",
       "      <td>-0.745591</td>\n",
       "    </tr>\n",
       "    <tr>\n",
       "      <th>2002-09-09</th>\n",
       "      <td>-43.273062</td>\n",
       "      <td>-18.994698</td>\n",
       "      <td>24.539529</td>\n",
       "      <td>0.150100</td>\n",
       "    </tr>\n",
       "    <tr>\n",
       "      <th>2002-09-10</th>\n",
       "      <td>-42.216648</td>\n",
       "      <td>-19.365513</td>\n",
       "      <td>23.840866</td>\n",
       "      <td>1.194599</td>\n",
       "    </tr>\n",
       "    <tr>\n",
       "      <th>2002-09-11</th>\n",
       "      <td>-42.069628</td>\n",
       "      <td>-18.863493</td>\n",
       "      <td>23.539121</td>\n",
       "      <td>2.194668</td>\n",
       "    </tr>\n",
       "    <tr>\n",
       "      <th>2002-09-12</th>\n",
       "      <td>-42.879626</td>\n",
       "      <td>-16.822971</td>\n",
       "      <td>23.672408</td>\n",
       "      <td>1.128478</td>\n",
       "    </tr>\n",
       "    <tr>\n",
       "      <th>2002-09-13</th>\n",
       "      <td>-42.375830</td>\n",
       "      <td>-16.096030</td>\n",
       "      <td>22.558662</td>\n",
       "      <td>2.174077</td>\n",
       "    </tr>\n",
       "    <tr>\n",
       "      <th>2002-09-14</th>\n",
       "      <td>-42.229936</td>\n",
       "      <td>-15.876708</td>\n",
       "      <td>21.939935</td>\n",
       "      <td>1.881036</td>\n",
       "    </tr>\n",
       "    <tr>\n",
       "      <th>2002-09-15</th>\n",
       "      <td>-44.361996</td>\n",
       "      <td>-16.220416</td>\n",
       "      <td>21.183091</td>\n",
       "      <td>1.296870</td>\n",
       "    </tr>\n",
       "    <tr>\n",
       "      <th>2002-09-16</th>\n",
       "      <td>-45.894084</td>\n",
       "      <td>-18.245939</td>\n",
       "      <td>21.148211</td>\n",
       "      <td>0.704770</td>\n",
       "    </tr>\n",
       "    <tr>\n",
       "      <th>2002-09-17</th>\n",
       "      <td>-47.715790</td>\n",
       "      <td>-16.988845</td>\n",
       "      <td>22.082652</td>\n",
       "      <td>-1.206762</td>\n",
       "    </tr>\n",
       "    <tr>\n",
       "      <th>2002-09-18</th>\n",
       "      <td>-48.100966</td>\n",
       "      <td>-16.308029</td>\n",
       "      <td>21.544103</td>\n",
       "      <td>-1.967656</td>\n",
       "    </tr>\n",
       "    <tr>\n",
       "      <th>2002-09-19</th>\n",
       "      <td>-47.591238</td>\n",
       "      <td>-15.904638</td>\n",
       "      <td>20.668142</td>\n",
       "      <td>-0.820974</td>\n",
       "    </tr>\n",
       "    <tr>\n",
       "      <th>2002-09-20</th>\n",
       "      <td>-46.867779</td>\n",
       "      <td>-18.142604</td>\n",
       "      <td>21.506226</td>\n",
       "      <td>-1.429329</td>\n",
       "    </tr>\n",
       "    <tr>\n",
       "      <th>2002-09-21</th>\n",
       "      <td>-48.433774</td>\n",
       "      <td>-19.704934</td>\n",
       "      <td>21.613198</td>\n",
       "      <td>-1.199527</td>\n",
       "    </tr>\n",
       "    <tr>\n",
       "      <th>2002-09-22</th>\n",
       "      <td>-49.201477</td>\n",
       "      <td>-18.805872</td>\n",
       "      <td>21.796534</td>\n",
       "      <td>-1.490492</td>\n",
       "    </tr>\n",
       "    <tr>\n",
       "      <th>2002-09-23</th>\n",
       "      <td>-49.433527</td>\n",
       "      <td>-19.049787</td>\n",
       "      <td>21.893649</td>\n",
       "      <td>-1.712500</td>\n",
       "    </tr>\n",
       "    <tr>\n",
       "      <th>2002-09-24</th>\n",
       "      <td>-49.144365</td>\n",
       "      <td>-19.518323</td>\n",
       "      <td>21.565253</td>\n",
       "      <td>-1.071375</td>\n",
       "    </tr>\n",
       "    <tr>\n",
       "      <th>2002-09-25</th>\n",
       "      <td>-48.732754</td>\n",
       "      <td>-19.188515</td>\n",
       "      <td>23.043666</td>\n",
       "      <td>0.088681</td>\n",
       "    </tr>\n",
       "    <tr>\n",
       "      <th>2002-09-26</th>\n",
       "      <td>-48.681689</td>\n",
       "      <td>-20.768889</td>\n",
       "      <td>22.541590</td>\n",
       "      <td>-1.138745</td>\n",
       "    </tr>\n",
       "  </tbody>\n",
       "</table>\n",
       "<p>1000 rows × 4 columns</p>\n",
       "</div>"
      ],
      "text/plain": [
       "                    A          B          C         D\n",
       "2000-01-01   0.632559  -0.821689  -0.166419 -0.930884\n",
       "2000-01-02   1.579156   1.235584  -0.663069 -2.529067\n",
       "2000-01-03   1.186064   2.001766  -0.368669 -3.598971\n",
       "2000-01-04   1.382983   3.771948  -0.905774 -3.756191\n",
       "2000-01-05  -0.078254   3.380191   0.926069 -3.920518\n",
       "2000-01-06   0.280778   3.121576   0.506064 -5.776975\n",
       "2000-01-07   2.174916   1.783593   0.935929 -5.984953\n",
       "2000-01-08   0.753718   2.911976  -0.346379 -5.349157\n",
       "2000-01-09   1.100042   4.935631  -0.456642 -5.634703\n",
       "2000-01-10   0.322629   5.133088   0.091005 -5.041011\n",
       "2000-01-11  -1.331503   6.158117  -1.757653 -5.014681\n",
       "2000-01-12  -3.130319   7.418974  -0.674001 -5.846941\n",
       "2000-01-13  -2.520046   8.543178  -0.448068 -6.155563\n",
       "2000-01-14  -1.555768   9.421255  -0.756024 -5.722608\n",
       "2000-01-15  -1.161941   9.959672  -1.393997 -6.351998\n",
       "2000-01-16  -2.411142  10.012806  -1.307292 -6.853659\n",
       "2000-01-17  -2.043999   9.604909  -2.474012 -6.533256\n",
       "2000-01-18  -3.317134   8.983744  -1.613025 -5.891072\n",
       "2000-01-19  -3.365097   8.231861  -2.147259 -5.471138\n",
       "2000-01-20  -3.302667   5.457668  -1.471085 -4.906522\n",
       "2000-01-21  -2.327524   4.488323  -1.317960 -4.611101\n",
       "2000-01-22  -3.256170   5.331515  -0.410978 -2.996595\n",
       "2000-01-23  -4.022053   4.673546  -1.097824 -4.774240\n",
       "2000-01-24  -5.817025   5.707567  -1.980634 -4.970223\n",
       "2000-01-25  -5.435675   6.357466  -0.170126 -4.135105\n",
       "2000-01-26  -6.792031   8.822403  -0.880505 -4.899699\n",
       "2000-01-27  -6.012302   9.965781  -0.549665 -4.824468\n",
       "2000-01-28  -6.338180  11.402546  -1.535744 -2.923390\n",
       "2000-01-29  -8.534729   9.461654  -1.705550 -2.576157\n",
       "2000-01-30  -8.154170   8.512661  -1.744898 -2.863045\n",
       "...               ...        ...        ...       ...\n",
       "2002-08-28 -37.312428 -17.669292  32.693785  1.956192\n",
       "2002-08-29 -38.660548 -16.623528  31.954532  0.039144\n",
       "2002-08-30 -37.859148 -16.447845  30.889163  0.426037\n",
       "2002-08-31 -38.544643 -17.614684  29.754764 -1.720592\n",
       "2002-09-01 -38.923270 -18.460823  29.720977 -1.894796\n",
       "2002-09-02 -38.171659 -19.282632  27.888627 -1.603401\n",
       "2002-09-03 -39.330741 -18.216086  25.784331  0.662268\n",
       "2002-09-04 -40.841786 -18.180827  25.151392  0.081521\n",
       "2002-09-05 -41.574796 -18.115731  24.841515 -1.026985\n",
       "2002-09-06 -42.385858 -16.700802  24.945718 -0.286383\n",
       "2002-09-07 -43.168938 -16.269597  24.577835 -1.194216\n",
       "2002-09-08 -43.994257 -14.952047  25.051739 -0.745591\n",
       "2002-09-09 -43.273062 -18.994698  24.539529  0.150100\n",
       "2002-09-10 -42.216648 -19.365513  23.840866  1.194599\n",
       "2002-09-11 -42.069628 -18.863493  23.539121  2.194668\n",
       "2002-09-12 -42.879626 -16.822971  23.672408  1.128478\n",
       "2002-09-13 -42.375830 -16.096030  22.558662  2.174077\n",
       "2002-09-14 -42.229936 -15.876708  21.939935  1.881036\n",
       "2002-09-15 -44.361996 -16.220416  21.183091  1.296870\n",
       "2002-09-16 -45.894084 -18.245939  21.148211  0.704770\n",
       "2002-09-17 -47.715790 -16.988845  22.082652 -1.206762\n",
       "2002-09-18 -48.100966 -16.308029  21.544103 -1.967656\n",
       "2002-09-19 -47.591238 -15.904638  20.668142 -0.820974\n",
       "2002-09-20 -46.867779 -18.142604  21.506226 -1.429329\n",
       "2002-09-21 -48.433774 -19.704934  21.613198 -1.199527\n",
       "2002-09-22 -49.201477 -18.805872  21.796534 -1.490492\n",
       "2002-09-23 -49.433527 -19.049787  21.893649 -1.712500\n",
       "2002-09-24 -49.144365 -19.518323  21.565253 -1.071375\n",
       "2002-09-25 -48.732754 -19.188515  23.043666  0.088681\n",
       "2002-09-26 -48.681689 -20.768889  22.541590 -1.138745\n",
       "\n",
       "[1000 rows x 4 columns]"
      ]
     },
     "execution_count": 236,
     "metadata": {},
     "output_type": "execute_result"
    }
   ],
   "source": [
    "pd.read_excel('foo.xlsx', 'Sheet1', index_col=None, na_values=['NA'])"
   ]
  },
  {
   "cell_type": "markdown",
   "metadata": {},
   "source": [
    "## Gotchas"
   ]
  },
  {
   "cell_type": "code",
   "execution_count": 239,
   "metadata": {
    "collapsed": false
   },
   "outputs": [
    {
     "ename": "ValueError",
     "evalue": "The truth value of a Series is ambiguous. Use a.empty, a.bool(), a.item(), a.any() or a.all().",
     "output_type": "error",
     "traceback": [
      "\u001b[1;31m---------------------------------------------------------------------------\u001b[0m",
      "\u001b[1;31mValueError\u001b[0m                                Traceback (most recent call last)",
      "\u001b[1;32m<ipython-input-239-9cae3ab0f79f>\u001b[0m in \u001b[0;36m<module>\u001b[1;34m()\u001b[0m\n\u001b[1;32m----> 1\u001b[1;33m \u001b[1;32mif\u001b[0m \u001b[0mpd\u001b[0m\u001b[1;33m.\u001b[0m\u001b[0mSeries\u001b[0m\u001b[1;33m(\u001b[0m\u001b[1;33m[\u001b[0m\u001b[0mFalse\u001b[0m\u001b[1;33m,\u001b[0m \u001b[0mTrue\u001b[0m\u001b[1;33m,\u001b[0m \u001b[0mFalse\u001b[0m\u001b[1;33m]\u001b[0m\u001b[1;33m)\u001b[0m\u001b[1;33m:\u001b[0m\u001b[1;33m\u001b[0m\u001b[0m\n\u001b[0m\u001b[0;32m      2\u001b[0m     \u001b[1;32mprint\u001b[0m\u001b[1;33m(\u001b[0m\u001b[1;34m\"I was true\"\u001b[0m\u001b[1;33m)\u001b[0m\u001b[1;33m\u001b[0m\u001b[0m\n",
      "\u001b[1;32mC:\\Users\\Yun\\Anaconda2\\lib\\site-packages\\pandas\\core\\generic.pyc\u001b[0m in \u001b[0;36m__nonzero__\u001b[1;34m(self)\u001b[0m\n\u001b[0;32m    890\u001b[0m         raise ValueError(\"The truth value of a {0} is ambiguous. \"\n\u001b[0;32m    891\u001b[0m                          \u001b[1;34m\"Use a.empty, a.bool(), a.item(), a.any() or a.all().\"\u001b[0m\u001b[1;33m\u001b[0m\u001b[0m\n\u001b[1;32m--> 892\u001b[1;33m                          .format(self.__class__.__name__))\n\u001b[0m\u001b[0;32m    893\u001b[0m \u001b[1;33m\u001b[0m\u001b[0m\n\u001b[0;32m    894\u001b[0m     \u001b[0m__bool__\u001b[0m \u001b[1;33m=\u001b[0m \u001b[0m__nonzero__\u001b[0m\u001b[1;33m\u001b[0m\u001b[0m\n",
      "\u001b[1;31mValueError\u001b[0m: The truth value of a Series is ambiguous. Use a.empty, a.bool(), a.item(), a.any() or a.all()."
     ]
    }
   ],
   "source": [
    "if pd.Series([False, True, False]):\n",
    "    print(\"I was true\")"
   ]
  }
 ],
 "metadata": {
  "anaconda-cloud": {},
  "kernelspec": {
   "display_name": "Python [Root]",
   "language": "python",
   "name": "Python [Root]"
  },
  "language_info": {
   "codemirror_mode": {
    "name": "ipython",
    "version": 2
   },
   "file_extension": ".py",
   "mimetype": "text/x-python",
   "name": "python",
   "nbconvert_exporter": "python",
   "pygments_lexer": "ipython2",
   "version": "2.7.12"
  }
 },
 "nbformat": 4,
 "nbformat_minor": 0
}
